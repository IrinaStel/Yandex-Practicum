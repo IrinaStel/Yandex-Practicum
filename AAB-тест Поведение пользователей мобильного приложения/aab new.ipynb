{
 "cells": [
  {
   "cell_type": "markdown",
   "id": "8dd97f40",
   "metadata": {},
   "source": [
    "**Поведение пользователей мобильного приложения, А/А/В-тест**\n",
    "\n",
    "**Цель исследования**: Изучить поведение пользователей мобильного приложения по продаже продуктов питания.\n",
    "\n",
    "**Ход исследования**:\n",
    "\n",
    "1. Загрузка данных, изучение общей информации.\n",
    "2. Подготовка данных:\n",
    "- изменение названий столбцов;\n",
    "- проверка на пропуски, дубликаты, корректировка типов данных;\n",
    "- добавление столбца даты и времени, столбца дат;\n",
    "3. Изучение и проверка данных:\n",
    "- Сколько всего событий в логе?\n",
    "- Сколько всего пользователей в логе?\n",
    "- Сколько в среднем событий приходится на пользователя?\n",
    "- Период данных. Максимальная и минимальная дату. Гистограмма по дате и времени. Полные ли данные за период? Определение актуального периода.\n",
    "- Определение количества событий и пользователей в актуальном периоде?\n",
    "- Проверка пользователей на вхождение в 3 экспериментальные группы.\n",
    "4. Изучение воронки событий:\n",
    "- Изучение событий есть в логах, как часто они встречаются. Сортировка событий по частоте.\n",
    "- Сколько пользователей совершали каждое из этих событий. Сортировка событий по числу пользователей, расчет доли пользователей, которые хоть раз совершали событие.\n",
    "- Предположение о порядке событий. Все ли они выстраиваются в последовательную цепочку? Их не нужно учитывать при расчёте воронки.\n",
    "- Подсчет доли пользователей, проходящих на следующий шаг воронки. \n",
    "- На каком шаге теряется больше всего пользователей?\n",
    "- Какая доля пользователей доходит от первого события до оплаты?\n",
    "5. Изучение результатов эксперимента:\n",
    "- Количество пользователей в каждой экспериментальной группе?\n",
    "- Определение статистически значимой разницы между выборками 246 и 247, либо ее отсутствие.\n",
    "- Выбор самого популярного события, анализирование. Проверка корректности разбиения на группы.\n",
    "- Сравнение результатов каждой из контрольных групп в отдельности по каждому событию. Выводы из эксперимента.\n",
    "- Сколько проверок статистических гипотез было сделано. Обоснование определения уровня значимости."
   ]
  },
  {
   "cell_type": "markdown",
   "id": "fbe8c054",
   "metadata": {},
   "source": [
    "# **1. Загрузка данных, изучение общей информации**"
   ]
  },
  {
   "cell_type": "code",
   "execution_count": 1,
   "id": "90222acb",
   "metadata": {},
   "outputs": [],
   "source": [
    "import pandas as pd\n",
    "import scipy.stats as stats\n",
    "import datetime as dt\n",
    "import numpy as np\n",
    "import matplotlib.pyplot as plt\n",
    "from plotly import graph_objects as go\n"
   ]
  },
  {
   "cell_type": "code",
   "execution_count": 2,
   "id": "9ba62c81",
   "metadata": {},
   "outputs": [],
   "source": [
    "import plotly.io as pio \n",
    "pio.renderers.default = \"png\" \n",
    "svg_renderer = pio.renderers[\"png\"] \n",
    "svg_renderer.scale = 1.2"
   ]
  },
  {
   "cell_type": "code",
   "execution_count": 3,
   "id": "82c55fa0",
   "metadata": {},
   "outputs": [],
   "source": [
    "try:\n",
    "    data = pd.read_csv('C:/Users/user/Desktop/123/ААВ тест/logs_exp.csv', sep='\\t')\n",
    "       \n",
    "except:\n",
    "    data = pd.read_csv('/datasets/logs_exp.csv', sep='\\t')"
   ]
  },
  {
   "cell_type": "code",
   "execution_count": 4,
   "id": "7c3a6aef",
   "metadata": {},
   "outputs": [
    {
     "data": {
      "text/html": [
       "<div>\n",
       "<style scoped>\n",
       "    .dataframe tbody tr th:only-of-type {\n",
       "        vertical-align: middle;\n",
       "    }\n",
       "\n",
       "    .dataframe tbody tr th {\n",
       "        vertical-align: top;\n",
       "    }\n",
       "\n",
       "    .dataframe thead th {\n",
       "        text-align: right;\n",
       "    }\n",
       "</style>\n",
       "<table border=\"1\" class=\"dataframe\">\n",
       "  <thead>\n",
       "    <tr style=\"text-align: right;\">\n",
       "      <th></th>\n",
       "      <th>EventName</th>\n",
       "      <th>DeviceIDHash</th>\n",
       "      <th>EventTimestamp</th>\n",
       "      <th>ExpId</th>\n",
       "    </tr>\n",
       "  </thead>\n",
       "  <tbody>\n",
       "    <tr>\n",
       "      <th>0</th>\n",
       "      <td>MainScreenAppear</td>\n",
       "      <td>4575588528974610257</td>\n",
       "      <td>1564029816</td>\n",
       "      <td>246</td>\n",
       "    </tr>\n",
       "    <tr>\n",
       "      <th>1</th>\n",
       "      <td>MainScreenAppear</td>\n",
       "      <td>7416695313311560658</td>\n",
       "      <td>1564053102</td>\n",
       "      <td>246</td>\n",
       "    </tr>\n",
       "    <tr>\n",
       "      <th>2</th>\n",
       "      <td>PaymentScreenSuccessful</td>\n",
       "      <td>3518123091307005509</td>\n",
       "      <td>1564054127</td>\n",
       "      <td>248</td>\n",
       "    </tr>\n",
       "    <tr>\n",
       "      <th>3</th>\n",
       "      <td>CartScreenAppear</td>\n",
       "      <td>3518123091307005509</td>\n",
       "      <td>1564054127</td>\n",
       "      <td>248</td>\n",
       "    </tr>\n",
       "    <tr>\n",
       "      <th>4</th>\n",
       "      <td>PaymentScreenSuccessful</td>\n",
       "      <td>6217807653094995999</td>\n",
       "      <td>1564055322</td>\n",
       "      <td>248</td>\n",
       "    </tr>\n",
       "    <tr>\n",
       "      <th>...</th>\n",
       "      <td>...</td>\n",
       "      <td>...</td>\n",
       "      <td>...</td>\n",
       "      <td>...</td>\n",
       "    </tr>\n",
       "    <tr>\n",
       "      <th>244121</th>\n",
       "      <td>MainScreenAppear</td>\n",
       "      <td>4599628364049201812</td>\n",
       "      <td>1565212345</td>\n",
       "      <td>247</td>\n",
       "    </tr>\n",
       "    <tr>\n",
       "      <th>244122</th>\n",
       "      <td>MainScreenAppear</td>\n",
       "      <td>5849806612437486590</td>\n",
       "      <td>1565212439</td>\n",
       "      <td>246</td>\n",
       "    </tr>\n",
       "    <tr>\n",
       "      <th>244123</th>\n",
       "      <td>MainScreenAppear</td>\n",
       "      <td>5746969938801999050</td>\n",
       "      <td>1565212483</td>\n",
       "      <td>246</td>\n",
       "    </tr>\n",
       "    <tr>\n",
       "      <th>244124</th>\n",
       "      <td>MainScreenAppear</td>\n",
       "      <td>5746969938801999050</td>\n",
       "      <td>1565212498</td>\n",
       "      <td>246</td>\n",
       "    </tr>\n",
       "    <tr>\n",
       "      <th>244125</th>\n",
       "      <td>OffersScreenAppear</td>\n",
       "      <td>5746969938801999050</td>\n",
       "      <td>1565212517</td>\n",
       "      <td>246</td>\n",
       "    </tr>\n",
       "  </tbody>\n",
       "</table>\n",
       "<p>244126 rows × 4 columns</p>\n",
       "</div>"
      ],
      "text/plain": [
       "                      EventName         DeviceIDHash  EventTimestamp  ExpId\n",
       "0              MainScreenAppear  4575588528974610257      1564029816    246\n",
       "1              MainScreenAppear  7416695313311560658      1564053102    246\n",
       "2       PaymentScreenSuccessful  3518123091307005509      1564054127    248\n",
       "3              CartScreenAppear  3518123091307005509      1564054127    248\n",
       "4       PaymentScreenSuccessful  6217807653094995999      1564055322    248\n",
       "...                         ...                  ...             ...    ...\n",
       "244121         MainScreenAppear  4599628364049201812      1565212345    247\n",
       "244122         MainScreenAppear  5849806612437486590      1565212439    246\n",
       "244123         MainScreenAppear  5746969938801999050      1565212483    246\n",
       "244124         MainScreenAppear  5746969938801999050      1565212498    246\n",
       "244125       OffersScreenAppear  5746969938801999050      1565212517    246\n",
       "\n",
       "[244126 rows x 4 columns]"
      ]
     },
     "execution_count": 4,
     "metadata": {},
     "output_type": "execute_result"
    }
   ],
   "source": [
    "data"
   ]
  },
  {
   "cell_type": "markdown",
   "id": "c954682a",
   "metadata": {},
   "source": [
    "Таблица содержит 4 столбца и 244126 строк. В таблице собраны данные о событиях, ID пользователей, время события в формате unix time и номер контрольной группы."
   ]
  },
  {
   "cell_type": "markdown",
   "id": "e29cd508",
   "metadata": {},
   "source": [
    "# **2. Подготовка данных**\n",
    "## **2.1 Изменение названий столбцов**\n"
   ]
  },
  {
   "cell_type": "markdown",
   "id": "cdf9f8d5",
   "metadata": {},
   "source": [
    "Для удобства дальнейшей работы изменим названия столбцов на \"event_name\", \"user_id\", \"event_timestamp\" и \"group_id\"."
   ]
  },
  {
   "cell_type": "code",
   "execution_count": 5,
   "id": "c7cf8695",
   "metadata": {},
   "outputs": [],
   "source": [
    "data.columns = ['event_name', 'user_id', 'event_timestamp', 'group_id']"
   ]
  },
  {
   "cell_type": "markdown",
   "id": "8a237409",
   "metadata": {},
   "source": [
    "## **2.2 Проверка на пропуски, дубликаты, корректировка типов данных**"
   ]
  },
  {
   "cell_type": "code",
   "execution_count": 6,
   "id": "424d06da",
   "metadata": {},
   "outputs": [
    {
     "name": "stdout",
     "output_type": "stream",
     "text": [
      "<class 'pandas.core.frame.DataFrame'>\n",
      "RangeIndex: 244126 entries, 0 to 244125\n",
      "Data columns (total 4 columns):\n",
      " #   Column           Non-Null Count   Dtype \n",
      "---  ------           --------------   ----- \n",
      " 0   event_name       244126 non-null  object\n",
      " 1   user_id          244126 non-null  int64 \n",
      " 2   event_timestamp  244126 non-null  int64 \n",
      " 3   group_id         244126 non-null  int64 \n",
      "dtypes: int64(3), object(1)\n",
      "memory usage: 7.5+ MB\n",
      "Кол-во дубликатов 413\n"
     ]
    }
   ],
   "source": [
    "data.info()\n",
    "print('Кол-во дубликатов', data.duplicated().sum())"
   ]
  },
  {
   "cell_type": "markdown",
   "id": "334cce80",
   "metadata": {},
   "source": [
    "В таблице нет пропусков. Но имеется 413 дубликатов, это менее 0,17% от всех имеющихся данных, поэтому дубликаты можно удалить.\n",
    "Столбец \"event_timestamp\" не приведен к формату времени, сделаем это в следующем шаге, когда будем работать с датами. С остальными столбцами можно работать, не меняя формат."
   ]
  },
  {
   "cell_type": "code",
   "execution_count": 7,
   "id": "02b3d0ef",
   "metadata": {},
   "outputs": [
    {
     "data": {
      "text/html": [
       "<div>\n",
       "<style scoped>\n",
       "    .dataframe tbody tr th:only-of-type {\n",
       "        vertical-align: middle;\n",
       "    }\n",
       "\n",
       "    .dataframe tbody tr th {\n",
       "        vertical-align: top;\n",
       "    }\n",
       "\n",
       "    .dataframe thead th {\n",
       "        text-align: right;\n",
       "    }\n",
       "</style>\n",
       "<table border=\"1\" class=\"dataframe\">\n",
       "  <thead>\n",
       "    <tr style=\"text-align: right;\">\n",
       "      <th></th>\n",
       "      <th>event_name</th>\n",
       "      <th>user_id</th>\n",
       "      <th>event_timestamp</th>\n",
       "      <th>group_id</th>\n",
       "    </tr>\n",
       "  </thead>\n",
       "  <tbody>\n",
       "    <tr>\n",
       "      <th>0</th>\n",
       "      <td>MainScreenAppear</td>\n",
       "      <td>4575588528974610257</td>\n",
       "      <td>1564029816</td>\n",
       "      <td>246</td>\n",
       "    </tr>\n",
       "    <tr>\n",
       "      <th>1</th>\n",
       "      <td>MainScreenAppear</td>\n",
       "      <td>7416695313311560658</td>\n",
       "      <td>1564053102</td>\n",
       "      <td>246</td>\n",
       "    </tr>\n",
       "    <tr>\n",
       "      <th>2</th>\n",
       "      <td>PaymentScreenSuccessful</td>\n",
       "      <td>3518123091307005509</td>\n",
       "      <td>1564054127</td>\n",
       "      <td>248</td>\n",
       "    </tr>\n",
       "    <tr>\n",
       "      <th>3</th>\n",
       "      <td>CartScreenAppear</td>\n",
       "      <td>3518123091307005509</td>\n",
       "      <td>1564054127</td>\n",
       "      <td>248</td>\n",
       "    </tr>\n",
       "    <tr>\n",
       "      <th>4</th>\n",
       "      <td>PaymentScreenSuccessful</td>\n",
       "      <td>6217807653094995999</td>\n",
       "      <td>1564055322</td>\n",
       "      <td>248</td>\n",
       "    </tr>\n",
       "    <tr>\n",
       "      <th>...</th>\n",
       "      <td>...</td>\n",
       "      <td>...</td>\n",
       "      <td>...</td>\n",
       "      <td>...</td>\n",
       "    </tr>\n",
       "    <tr>\n",
       "      <th>244121</th>\n",
       "      <td>MainScreenAppear</td>\n",
       "      <td>4599628364049201812</td>\n",
       "      <td>1565212345</td>\n",
       "      <td>247</td>\n",
       "    </tr>\n",
       "    <tr>\n",
       "      <th>244122</th>\n",
       "      <td>MainScreenAppear</td>\n",
       "      <td>5849806612437486590</td>\n",
       "      <td>1565212439</td>\n",
       "      <td>246</td>\n",
       "    </tr>\n",
       "    <tr>\n",
       "      <th>244123</th>\n",
       "      <td>MainScreenAppear</td>\n",
       "      <td>5746969938801999050</td>\n",
       "      <td>1565212483</td>\n",
       "      <td>246</td>\n",
       "    </tr>\n",
       "    <tr>\n",
       "      <th>244124</th>\n",
       "      <td>MainScreenAppear</td>\n",
       "      <td>5746969938801999050</td>\n",
       "      <td>1565212498</td>\n",
       "      <td>246</td>\n",
       "    </tr>\n",
       "    <tr>\n",
       "      <th>244125</th>\n",
       "      <td>OffersScreenAppear</td>\n",
       "      <td>5746969938801999050</td>\n",
       "      <td>1565212517</td>\n",
       "      <td>246</td>\n",
       "    </tr>\n",
       "  </tbody>\n",
       "</table>\n",
       "<p>243713 rows × 4 columns</p>\n",
       "</div>"
      ],
      "text/plain": [
       "                     event_name              user_id  event_timestamp  \\\n",
       "0              MainScreenAppear  4575588528974610257       1564029816   \n",
       "1              MainScreenAppear  7416695313311560658       1564053102   \n",
       "2       PaymentScreenSuccessful  3518123091307005509       1564054127   \n",
       "3              CartScreenAppear  3518123091307005509       1564054127   \n",
       "4       PaymentScreenSuccessful  6217807653094995999       1564055322   \n",
       "...                         ...                  ...              ...   \n",
       "244121         MainScreenAppear  4599628364049201812       1565212345   \n",
       "244122         MainScreenAppear  5849806612437486590       1565212439   \n",
       "244123         MainScreenAppear  5746969938801999050       1565212483   \n",
       "244124         MainScreenAppear  5746969938801999050       1565212498   \n",
       "244125       OffersScreenAppear  5746969938801999050       1565212517   \n",
       "\n",
       "        group_id  \n",
       "0            246  \n",
       "1            246  \n",
       "2            248  \n",
       "3            248  \n",
       "4            248  \n",
       "...          ...  \n",
       "244121       247  \n",
       "244122       246  \n",
       "244123       246  \n",
       "244124       246  \n",
       "244125       246  \n",
       "\n",
       "[243713 rows x 4 columns]"
      ]
     },
     "execution_count": 7,
     "metadata": {},
     "output_type": "execute_result"
    }
   ],
   "source": [
    "# удалим дубликаты\n",
    "data = data.drop_duplicates()\n",
    "data"
   ]
  },
  {
   "cell_type": "markdown",
   "id": "78d8a7e8",
   "metadata": {},
   "source": [
    "## **2.3 Работа со столбцом времени, добавление столбца даты и времени, столбца дат**"
   ]
  },
  {
   "cell_type": "code",
   "execution_count": 8,
   "id": "448df4b9",
   "metadata": {},
   "outputs": [
    {
     "name": "stderr",
     "output_type": "stream",
     "text": [
      "C:\\Users\\user\\AppData\\Local\\Temp\\ipykernel_6848\\3341054291.py:2: SettingWithCopyWarning:\n",
      "\n",
      "\n",
      "A value is trying to be set on a copy of a slice from a DataFrame.\n",
      "Try using .loc[row_indexer,col_indexer] = value instead\n",
      "\n",
      "See the caveats in the documentation: https://pandas.pydata.org/pandas-docs/stable/user_guide/indexing.html#returning-a-view-versus-a-copy\n",
      "\n",
      "C:\\Users\\user\\AppData\\Local\\Temp\\ipykernel_6848\\3341054291.py:4: SettingWithCopyWarning:\n",
      "\n",
      "\n",
      "A value is trying to be set on a copy of a slice from a DataFrame.\n",
      "Try using .loc[row_indexer,col_indexer] = value instead\n",
      "\n",
      "See the caveats in the documentation: https://pandas.pydata.org/pandas-docs/stable/user_guide/indexing.html#returning-a-view-versus-a-copy\n",
      "\n"
     ]
    }
   ],
   "source": [
    "# event_timestamp переведем в нужный формат времени и создадим новые слолбцы\n",
    "data['event_datetime'] = pd.to_datetime(data['event_timestamp'], unit='s')\n",
    "#data['event_date'] = pd.to_datetime(data['event_datetime']).dt.date\n",
    "data['event_date'] = data['event_datetime'].astype('datetime64[D]')\n",
    "#data['event_date'] = data['event_date'].dt.date\n",
    "#data.head()"
   ]
  },
  {
   "cell_type": "code",
   "execution_count": 9,
   "id": "a54120d2",
   "metadata": {},
   "outputs": [
    {
     "name": "stdout",
     "output_type": "stream",
     "text": [
      "<class 'pandas.core.frame.DataFrame'>\n",
      "Int64Index: 243713 entries, 0 to 244125\n",
      "Data columns (total 6 columns):\n",
      " #   Column           Non-Null Count   Dtype         \n",
      "---  ------           --------------   -----         \n",
      " 0   event_name       243713 non-null  object        \n",
      " 1   user_id          243713 non-null  int64         \n",
      " 2   event_timestamp  243713 non-null  int64         \n",
      " 3   group_id         243713 non-null  int64         \n",
      " 4   event_datetime   243713 non-null  datetime64[ns]\n",
      " 5   event_date       243713 non-null  datetime64[ns]\n",
      "dtypes: datetime64[ns](2), int64(3), object(1)\n",
      "memory usage: 13.0+ MB\n"
     ]
    }
   ],
   "source": [
    "\n",
    "data.info()"
   ]
  },
  {
   "cell_type": "code",
   "execution_count": 10,
   "id": "7039d6e7",
   "metadata": {},
   "outputs": [
    {
     "data": {
      "text/html": [
       "<div>\n",
       "<style scoped>\n",
       "    .dataframe tbody tr th:only-of-type {\n",
       "        vertical-align: middle;\n",
       "    }\n",
       "\n",
       "    .dataframe tbody tr th {\n",
       "        vertical-align: top;\n",
       "    }\n",
       "\n",
       "    .dataframe thead th {\n",
       "        text-align: right;\n",
       "    }\n",
       "</style>\n",
       "<table border=\"1\" class=\"dataframe\">\n",
       "  <thead>\n",
       "    <tr style=\"text-align: right;\">\n",
       "      <th></th>\n",
       "      <th>event_name</th>\n",
       "      <th>user_id</th>\n",
       "      <th>event_timestamp</th>\n",
       "      <th>group_id</th>\n",
       "      <th>event_datetime</th>\n",
       "      <th>event_date</th>\n",
       "    </tr>\n",
       "  </thead>\n",
       "  <tbody>\n",
       "    <tr>\n",
       "      <th>0</th>\n",
       "      <td>MainScreenAppear</td>\n",
       "      <td>4575588528974610257</td>\n",
       "      <td>1564029816</td>\n",
       "      <td>246</td>\n",
       "      <td>2019-07-25 04:43:36</td>\n",
       "      <td>2019-07-25 04:43:36</td>\n",
       "    </tr>\n",
       "    <tr>\n",
       "      <th>1</th>\n",
       "      <td>MainScreenAppear</td>\n",
       "      <td>7416695313311560658</td>\n",
       "      <td>1564053102</td>\n",
       "      <td>246</td>\n",
       "      <td>2019-07-25 11:11:42</td>\n",
       "      <td>2019-07-25 11:11:42</td>\n",
       "    </tr>\n",
       "    <tr>\n",
       "      <th>2</th>\n",
       "      <td>PaymentScreenSuccessful</td>\n",
       "      <td>3518123091307005509</td>\n",
       "      <td>1564054127</td>\n",
       "      <td>248</td>\n",
       "      <td>2019-07-25 11:28:47</td>\n",
       "      <td>2019-07-25 11:28:47</td>\n",
       "    </tr>\n",
       "    <tr>\n",
       "      <th>3</th>\n",
       "      <td>CartScreenAppear</td>\n",
       "      <td>3518123091307005509</td>\n",
       "      <td>1564054127</td>\n",
       "      <td>248</td>\n",
       "      <td>2019-07-25 11:28:47</td>\n",
       "      <td>2019-07-25 11:28:47</td>\n",
       "    </tr>\n",
       "    <tr>\n",
       "      <th>4</th>\n",
       "      <td>PaymentScreenSuccessful</td>\n",
       "      <td>6217807653094995999</td>\n",
       "      <td>1564055322</td>\n",
       "      <td>248</td>\n",
       "      <td>2019-07-25 11:48:42</td>\n",
       "      <td>2019-07-25 11:48:42</td>\n",
       "    </tr>\n",
       "    <tr>\n",
       "      <th>...</th>\n",
       "      <td>...</td>\n",
       "      <td>...</td>\n",
       "      <td>...</td>\n",
       "      <td>...</td>\n",
       "      <td>...</td>\n",
       "      <td>...</td>\n",
       "    </tr>\n",
       "    <tr>\n",
       "      <th>244121</th>\n",
       "      <td>MainScreenAppear</td>\n",
       "      <td>4599628364049201812</td>\n",
       "      <td>1565212345</td>\n",
       "      <td>247</td>\n",
       "      <td>2019-08-07 21:12:25</td>\n",
       "      <td>2019-08-07 21:12:25</td>\n",
       "    </tr>\n",
       "    <tr>\n",
       "      <th>244122</th>\n",
       "      <td>MainScreenAppear</td>\n",
       "      <td>5849806612437486590</td>\n",
       "      <td>1565212439</td>\n",
       "      <td>246</td>\n",
       "      <td>2019-08-07 21:13:59</td>\n",
       "      <td>2019-08-07 21:13:59</td>\n",
       "    </tr>\n",
       "    <tr>\n",
       "      <th>244123</th>\n",
       "      <td>MainScreenAppear</td>\n",
       "      <td>5746969938801999050</td>\n",
       "      <td>1565212483</td>\n",
       "      <td>246</td>\n",
       "      <td>2019-08-07 21:14:43</td>\n",
       "      <td>2019-08-07 21:14:43</td>\n",
       "    </tr>\n",
       "    <tr>\n",
       "      <th>244124</th>\n",
       "      <td>MainScreenAppear</td>\n",
       "      <td>5746969938801999050</td>\n",
       "      <td>1565212498</td>\n",
       "      <td>246</td>\n",
       "      <td>2019-08-07 21:14:58</td>\n",
       "      <td>2019-08-07 21:14:58</td>\n",
       "    </tr>\n",
       "    <tr>\n",
       "      <th>244125</th>\n",
       "      <td>OffersScreenAppear</td>\n",
       "      <td>5746969938801999050</td>\n",
       "      <td>1565212517</td>\n",
       "      <td>246</td>\n",
       "      <td>2019-08-07 21:15:17</td>\n",
       "      <td>2019-08-07 21:15:17</td>\n",
       "    </tr>\n",
       "  </tbody>\n",
       "</table>\n",
       "<p>243713 rows × 6 columns</p>\n",
       "</div>"
      ],
      "text/plain": [
       "                     event_name              user_id  event_timestamp  \\\n",
       "0              MainScreenAppear  4575588528974610257       1564029816   \n",
       "1              MainScreenAppear  7416695313311560658       1564053102   \n",
       "2       PaymentScreenSuccessful  3518123091307005509       1564054127   \n",
       "3              CartScreenAppear  3518123091307005509       1564054127   \n",
       "4       PaymentScreenSuccessful  6217807653094995999       1564055322   \n",
       "...                         ...                  ...              ...   \n",
       "244121         MainScreenAppear  4599628364049201812       1565212345   \n",
       "244122         MainScreenAppear  5849806612437486590       1565212439   \n",
       "244123         MainScreenAppear  5746969938801999050       1565212483   \n",
       "244124         MainScreenAppear  5746969938801999050       1565212498   \n",
       "244125       OffersScreenAppear  5746969938801999050       1565212517   \n",
       "\n",
       "        group_id      event_datetime          event_date  \n",
       "0            246 2019-07-25 04:43:36 2019-07-25 04:43:36  \n",
       "1            246 2019-07-25 11:11:42 2019-07-25 11:11:42  \n",
       "2            248 2019-07-25 11:28:47 2019-07-25 11:28:47  \n",
       "3            248 2019-07-25 11:28:47 2019-07-25 11:28:47  \n",
       "4            248 2019-07-25 11:48:42 2019-07-25 11:48:42  \n",
       "...          ...                 ...                 ...  \n",
       "244121       247 2019-08-07 21:12:25 2019-08-07 21:12:25  \n",
       "244122       246 2019-08-07 21:13:59 2019-08-07 21:13:59  \n",
       "244123       246 2019-08-07 21:14:43 2019-08-07 21:14:43  \n",
       "244124       246 2019-08-07 21:14:58 2019-08-07 21:14:58  \n",
       "244125       246 2019-08-07 21:15:17 2019-08-07 21:15:17  \n",
       "\n",
       "[243713 rows x 6 columns]"
      ]
     },
     "execution_count": 10,
     "metadata": {},
     "output_type": "execute_result"
    }
   ],
   "source": [
    "data"
   ]
  },
  {
   "cell_type": "markdown",
   "id": "d2463c15",
   "metadata": {},
   "source": [
    "# **3. Изучение и проверка данных**"
   ]
  },
  {
   "cell_type": "markdown",
   "id": "6a35e6c6",
   "metadata": {},
   "source": [
    "## **3.1 Сколько всего событий в логе**"
   ]
  },
  {
   "cell_type": "code",
   "execution_count": 11,
   "id": "d04d4abf",
   "metadata": {},
   "outputs": [
    {
     "name": "stdout",
     "output_type": "stream",
     "text": [
      "Всего событий в логе: 243713\n",
      "Типов событий: 5\n"
     ]
    }
   ],
   "source": [
    "print('Всего событий в логе:', data.shape[0])\n",
    "print('Типов событий:', data['event_name'].nunique())"
   ]
  },
  {
   "cell_type": "markdown",
   "id": "34dfbec6",
   "metadata": {},
   "source": [
    "Всего в логе 243713 события. Уникальных типов (видов) событий 5."
   ]
  },
  {
   "cell_type": "markdown",
   "id": "798b9df3",
   "metadata": {},
   "source": [
    "## **3.2 Сколько всего пользователей в логе**"
   ]
  },
  {
   "cell_type": "code",
   "execution_count": 12,
   "id": "f66cb6ed",
   "metadata": {},
   "outputs": [
    {
     "name": "stdout",
     "output_type": "stream",
     "text": [
      "Пользователей в логе: 7551\n"
     ]
    }
   ],
   "source": [
    "print('Пользователей в логе:', data['user_id'].nunique())"
   ]
  },
  {
   "cell_type": "markdown",
   "id": "1f70b074",
   "metadata": {},
   "source": [
    "## **3.3 Сколько в среднем событий приходится на пользователя**"
   ]
  },
  {
   "cell_type": "code",
   "execution_count": 13,
   "id": "69b0c82a",
   "metadata": {},
   "outputs": [
    {
     "data": {
      "text/plain": [
       "32.28"
      ]
     },
     "execution_count": 13,
     "metadata": {},
     "output_type": "execute_result"
    }
   ],
   "source": [
    "round(data.shape[0] / data['user_id'].nunique(), 2)"
   ]
  },
  {
   "cell_type": "markdown",
   "id": "fd676028",
   "metadata": {},
   "source": [
    "В среднем, на пользователя приходится 32 события."
   ]
  },
  {
   "cell_type": "markdown",
   "id": "bb768003",
   "metadata": {},
   "source": [
    "## **3.4 Период данных. Максимальная и минимальная дату. Гистограмма по дате и времени. Полные ли данные за период? Определение актуального периода**"
   ]
  },
  {
   "cell_type": "code",
   "execution_count": 14,
   "id": "7fc9ab54",
   "metadata": {},
   "outputs": [
    {
     "name": "stdout",
     "output_type": "stream",
     "text": [
      "Минимальная дата: 2019-07-25 04:43:36\n",
      "Максимальная дата: 2019-08-07 21:15:17\n",
      "Период: 13 days 16:31:41\n"
     ]
    }
   ],
   "source": [
    "#min date\n",
    "min_date = data['event_datetime'].min()\n",
    "#max date\n",
    "max_date = data['event_datetime'].max()\n",
    "#промежуток\n",
    "delta_time = max_date - min_date\n",
    "\n",
    "print('Минимальная дата:',min_date)\n",
    "print('Максимальная дата:', max_date)\n",
    "print('Период:', delta_time)"
   ]
  },
  {
   "cell_type": "markdown",
   "id": "b9883af5",
   "metadata": {},
   "source": [
    "Данные представлены за период 13 дней, с 25.07.2019 по 07.08.2019."
   ]
  },
  {
   "cell_type": "code",
   "execution_count": 15,
   "id": "816dddf3",
   "metadata": {},
   "outputs": [
    {
     "data": {
      "text/plain": [
       "<function matplotlib.pyplot.show(close=None, block=None)>"
      ]
     },
     "execution_count": 15,
     "metadata": {},
     "output_type": "execute_result"
    },
    {
     "data": {
      "image/png": "[encoded data removed]",
      "text/plain": [
       "<Figure size 1600x600 with 1 Axes>"
      ]
     },
     "metadata": {},
     "output_type": "display_data"
    }
   ],
   "source": [
    "# строим гистограмму\n",
    "plt.figure(figsize=(16,6))\n",
    "data['event_datetime'].hist(bins=200)\n",
    "plt.title(' Гистограмма по дате и времени')\n",
    "plt.ylabel('Частота')\n",
    "plt.xlabel('Дата')\n",
    "#plt.xticks(rotation=30)\n",
    "plt.show"
   ]
  },
  {
   "cell_type": "markdown",
   "id": "9eb2e7ef",
   "metadata": {},
   "source": [
    "По гистограмме видно: данные по времени распределены неравномерно. Оснвная доля событий зафиксирована в период 01.08.2019 - 07.08.2019, данные за первую неделю практически отсутствуют.  Примем за актуальный период времени 01.08.2019 - 07.08.2019."
   ]
  },
  {
   "cell_type": "code",
   "execution_count": 16,
   "id": "c36195ba",
   "metadata": {},
   "outputs": [
    {
     "data": {
      "text/html": [
       "<div>\n",
       "<style scoped>\n",
       "    .dataframe tbody tr th:only-of-type {\n",
       "        vertical-align: middle;\n",
       "    }\n",
       "\n",
       "    .dataframe tbody tr th {\n",
       "        vertical-align: top;\n",
       "    }\n",
       "\n",
       "    .dataframe thead th {\n",
       "        text-align: right;\n",
       "    }\n",
       "</style>\n",
       "<table border=\"1\" class=\"dataframe\">\n",
       "  <thead>\n",
       "    <tr style=\"text-align: right;\">\n",
       "      <th></th>\n",
       "      <th>event_name</th>\n",
       "      <th>user_id</th>\n",
       "      <th>event_timestamp</th>\n",
       "      <th>group_id</th>\n",
       "      <th>event_datetime</th>\n",
       "      <th>event_date</th>\n",
       "    </tr>\n",
       "  </thead>\n",
       "  <tbody>\n",
       "    <tr>\n",
       "      <th>2828</th>\n",
       "      <td>Tutorial</td>\n",
       "      <td>3737462046622621720</td>\n",
       "      <td>1564618048</td>\n",
       "      <td>246</td>\n",
       "      <td>2019-08-01 00:07:28</td>\n",
       "      <td>2019-08-01 00:07:28</td>\n",
       "    </tr>\n",
       "    <tr>\n",
       "      <th>2829</th>\n",
       "      <td>MainScreenAppear</td>\n",
       "      <td>3737462046622621720</td>\n",
       "      <td>1564618080</td>\n",
       "      <td>246</td>\n",
       "      <td>2019-08-01 00:08:00</td>\n",
       "      <td>2019-08-01 00:08:00</td>\n",
       "    </tr>\n",
       "    <tr>\n",
       "      <th>2830</th>\n",
       "      <td>MainScreenAppear</td>\n",
       "      <td>3737462046622621720</td>\n",
       "      <td>1564618135</td>\n",
       "      <td>246</td>\n",
       "      <td>2019-08-01 00:08:55</td>\n",
       "      <td>2019-08-01 00:08:55</td>\n",
       "    </tr>\n",
       "    <tr>\n",
       "      <th>2831</th>\n",
       "      <td>OffersScreenAppear</td>\n",
       "      <td>3737462046622621720</td>\n",
       "      <td>1564618138</td>\n",
       "      <td>246</td>\n",
       "      <td>2019-08-01 00:08:58</td>\n",
       "      <td>2019-08-01 00:08:58</td>\n",
       "    </tr>\n",
       "    <tr>\n",
       "      <th>2832</th>\n",
       "      <td>MainScreenAppear</td>\n",
       "      <td>1433840883824088890</td>\n",
       "      <td>1564618139</td>\n",
       "      <td>247</td>\n",
       "      <td>2019-08-01 00:08:59</td>\n",
       "      <td>2019-08-01 00:08:59</td>\n",
       "    </tr>\n",
       "    <tr>\n",
       "      <th>...</th>\n",
       "      <td>...</td>\n",
       "      <td>...</td>\n",
       "      <td>...</td>\n",
       "      <td>...</td>\n",
       "      <td>...</td>\n",
       "      <td>...</td>\n",
       "    </tr>\n",
       "    <tr>\n",
       "      <th>244121</th>\n",
       "      <td>MainScreenAppear</td>\n",
       "      <td>4599628364049201812</td>\n",
       "      <td>1565212345</td>\n",
       "      <td>247</td>\n",
       "      <td>2019-08-07 21:12:25</td>\n",
       "      <td>2019-08-07 21:12:25</td>\n",
       "    </tr>\n",
       "    <tr>\n",
       "      <th>244122</th>\n",
       "      <td>MainScreenAppear</td>\n",
       "      <td>5849806612437486590</td>\n",
       "      <td>1565212439</td>\n",
       "      <td>246</td>\n",
       "      <td>2019-08-07 21:13:59</td>\n",
       "      <td>2019-08-07 21:13:59</td>\n",
       "    </tr>\n",
       "    <tr>\n",
       "      <th>244123</th>\n",
       "      <td>MainScreenAppear</td>\n",
       "      <td>5746969938801999050</td>\n",
       "      <td>1565212483</td>\n",
       "      <td>246</td>\n",
       "      <td>2019-08-07 21:14:43</td>\n",
       "      <td>2019-08-07 21:14:43</td>\n",
       "    </tr>\n",
       "    <tr>\n",
       "      <th>244124</th>\n",
       "      <td>MainScreenAppear</td>\n",
       "      <td>5746969938801999050</td>\n",
       "      <td>1565212498</td>\n",
       "      <td>246</td>\n",
       "      <td>2019-08-07 21:14:58</td>\n",
       "      <td>2019-08-07 21:14:58</td>\n",
       "    </tr>\n",
       "    <tr>\n",
       "      <th>244125</th>\n",
       "      <td>OffersScreenAppear</td>\n",
       "      <td>5746969938801999050</td>\n",
       "      <td>1565212517</td>\n",
       "      <td>246</td>\n",
       "      <td>2019-08-07 21:15:17</td>\n",
       "      <td>2019-08-07 21:15:17</td>\n",
       "    </tr>\n",
       "  </tbody>\n",
       "</table>\n",
       "<p>240887 rows × 6 columns</p>\n",
       "</div>"
      ],
      "text/plain": [
       "                event_name              user_id  event_timestamp  group_id  \\\n",
       "2828              Tutorial  3737462046622621720       1564618048       246   \n",
       "2829      MainScreenAppear  3737462046622621720       1564618080       246   \n",
       "2830      MainScreenAppear  3737462046622621720       1564618135       246   \n",
       "2831    OffersScreenAppear  3737462046622621720       1564618138       246   \n",
       "2832      MainScreenAppear  1433840883824088890       1564618139       247   \n",
       "...                    ...                  ...              ...       ...   \n",
       "244121    MainScreenAppear  4599628364049201812       1565212345       247   \n",
       "244122    MainScreenAppear  5849806612437486590       1565212439       246   \n",
       "244123    MainScreenAppear  5746969938801999050       1565212483       246   \n",
       "244124    MainScreenAppear  5746969938801999050       1565212498       246   \n",
       "244125  OffersScreenAppear  5746969938801999050       1565212517       246   \n",
       "\n",
       "            event_datetime          event_date  \n",
       "2828   2019-08-01 00:07:28 2019-08-01 00:07:28  \n",
       "2829   2019-08-01 00:08:00 2019-08-01 00:08:00  \n",
       "2830   2019-08-01 00:08:55 2019-08-01 00:08:55  \n",
       "2831   2019-08-01 00:08:58 2019-08-01 00:08:58  \n",
       "2832   2019-08-01 00:08:59 2019-08-01 00:08:59  \n",
       "...                    ...                 ...  \n",
       "244121 2019-08-07 21:12:25 2019-08-07 21:12:25  \n",
       "244122 2019-08-07 21:13:59 2019-08-07 21:13:59  \n",
       "244123 2019-08-07 21:14:43 2019-08-07 21:14:43  \n",
       "244124 2019-08-07 21:14:58 2019-08-07 21:14:58  \n",
       "244125 2019-08-07 21:15:17 2019-08-07 21:15:17  \n",
       "\n",
       "[240887 rows x 6 columns]"
      ]
     },
     "execution_count": 16,
     "metadata": {},
     "output_type": "execute_result"
    }
   ],
   "source": [
    "#делаем срез\n",
    "new_data = data.query('event_datetime >= \"2019-08-01\"')\n",
    "new_data"
   ]
  },
  {
   "cell_type": "markdown",
   "id": "72ebb107",
   "metadata": {},
   "source": [
    "## **3.5 Определение количества событий и пользователей в актуальном периоде**"
   ]
  },
  {
   "cell_type": "code",
   "execution_count": 17,
   "id": "c3531335",
   "metadata": {},
   "outputs": [
    {
     "name": "stdout",
     "output_type": "stream",
     "text": [
      "Всего событий в отфильтрованном логе: 240887\n",
      "Типов событий в отфильтрованном логе: 5\n",
      "Пользователей в отфильтрованном логе: 7534\n"
     ]
    }
   ],
   "source": [
    "print('Всего событий в отфильтрованном логе:', new_data.shape[0])\n",
    "print('Типов событий в отфильтрованном логе:', new_data['event_name'].nunique())\n",
    "print('Пользователей в отфильтрованном логе:', new_data['user_id'].nunique())"
   ]
  },
  {
   "cell_type": "markdown",
   "id": "d243ffa8",
   "metadata": {},
   "source": [
    "Сравним эти данные с полученными ранее."
   ]
  },
  {
   "cell_type": "code",
   "execution_count": 18,
   "id": "ef387a4f",
   "metadata": {},
   "outputs": [
    {
     "name": "stdout",
     "output_type": "stream",
     "text": [
      "Событий в логе до фильтрации: 243713\n",
      "Событий в логе после фильтрации: 240887\n",
      "Количество удалённых событий: 2826 \n",
      "Процент изменений: -1.16%\n"
     ]
    }
   ],
   "source": [
    "print('Событий в логе до фильтрации: {}'.format(data.shape[0]))\n",
    "print('Событий в логе после фильтрации: {}'.format(new_data.shape[0]))\n",
    "print('Количество удалённых событий: {} '.format(data.shape[0] - new_data.shape[0]))\n",
    "print('Процент изменений: {:.2%}'.format(new_data.shape[0] / data.shape[0] - 1))"
   ]
  },
  {
   "cell_type": "code",
   "execution_count": 19,
   "id": "c86a68a3",
   "metadata": {},
   "outputs": [
    {
     "name": "stdout",
     "output_type": "stream",
     "text": [
      "Пользователей в логе до фильтрации: 7551\n",
      "Пользователей в логе после фильтрации: 7534\n",
      "Количество удалённых пользователей: 17 \n",
      "Процент изменений: -0.23%\n"
     ]
    }
   ],
   "source": [
    "print('Пользователей в логе до фильтрации: {}'.format(data['user_id'].nunique()))\n",
    "print('Пользователей в логе после фильтрации: {}'.format(new_data['user_id'].nunique()))\n",
    "print('Количество удалённых пользователей: {} '.format(data['user_id'].nunique() - new_data['user_id'].nunique()))\n",
    "print('Процент изменений: {:.2%}'.format(new_data['user_id'].nunique() / data['user_id'].nunique() - 1))"
   ]
  },
  {
   "cell_type": "markdown",
   "id": "ff62f3de",
   "metadata": {},
   "source": [
    "Количество событий в логе уменьшилось на 1,16%, количество пользователей уменьшилось на 0,23%. Вцелом, изменения несущественные. Можно продолжать работу с отфильтрованными данными."
   ]
  },
  {
   "cell_type": "markdown",
   "id": "257b9b07",
   "metadata": {},
   "source": [
    "## **3.6 Проверка пользователей на вхождение в 3 экспериментальные группы**\n"
   ]
  },
  {
   "cell_type": "code",
   "execution_count": 20,
   "id": "bc3cc5e1",
   "metadata": {},
   "outputs": [
    {
     "data": {
      "text/plain": [
       "group_id\n",
       "246    2484\n",
       "247    2513\n",
       "248    2537\n",
       "Name: user_id, dtype: int64"
      ]
     },
     "execution_count": 20,
     "metadata": {},
     "output_type": "execute_result"
    }
   ],
   "source": [
    "new_data.groupby('group_id')['user_id'].nunique()"
   ]
  },
  {
   "cell_type": "markdown",
   "id": "51326625",
   "metadata": {},
   "source": [
    "Пользователи есть в каждой из 3 экспериментальных групп."
   ]
  },
  {
   "cell_type": "markdown",
   "id": "0d70e743",
   "metadata": {},
   "source": [
    "# **4. Изучение воронки событий**\n",
    "## **4.1 Изучение событий есть в логах, как часто они встречаются. Сортировка событий по частоте**\n"
   ]
  },
  {
   "cell_type": "code",
   "execution_count": 21,
   "id": "0bf23639",
   "metadata": {},
   "outputs": [
    {
     "data": {
      "text/html": [
       "<div>\n",
       "<style scoped>\n",
       "    .dataframe tbody tr th:only-of-type {\n",
       "        vertical-align: middle;\n",
       "    }\n",
       "\n",
       "    .dataframe tbody tr th {\n",
       "        vertical-align: top;\n",
       "    }\n",
       "\n",
       "    .dataframe thead th {\n",
       "        text-align: right;\n",
       "    }\n",
       "</style>\n",
       "<table border=\"1\" class=\"dataframe\">\n",
       "  <thead>\n",
       "    <tr style=\"text-align: right;\">\n",
       "      <th></th>\n",
       "      <th>event_name</th>\n",
       "      <th>user_id</th>\n",
       "      <th>event_timestamp</th>\n",
       "      <th>group_id</th>\n",
       "      <th>event_datetime</th>\n",
       "      <th>event_date</th>\n",
       "    </tr>\n",
       "  </thead>\n",
       "  <tbody>\n",
       "    <tr>\n",
       "      <th>2828</th>\n",
       "      <td>Tutorial</td>\n",
       "      <td>3737462046622621720</td>\n",
       "      <td>1564618048</td>\n",
       "      <td>246</td>\n",
       "      <td>2019-08-01 00:07:28</td>\n",
       "      <td>2019-08-01 00:07:28</td>\n",
       "    </tr>\n",
       "    <tr>\n",
       "      <th>2829</th>\n",
       "      <td>MainScreenAppear</td>\n",
       "      <td>3737462046622621720</td>\n",
       "      <td>1564618080</td>\n",
       "      <td>246</td>\n",
       "      <td>2019-08-01 00:08:00</td>\n",
       "      <td>2019-08-01 00:08:00</td>\n",
       "    </tr>\n",
       "    <tr>\n",
       "      <th>2830</th>\n",
       "      <td>MainScreenAppear</td>\n",
       "      <td>3737462046622621720</td>\n",
       "      <td>1564618135</td>\n",
       "      <td>246</td>\n",
       "      <td>2019-08-01 00:08:55</td>\n",
       "      <td>2019-08-01 00:08:55</td>\n",
       "    </tr>\n",
       "    <tr>\n",
       "      <th>2831</th>\n",
       "      <td>OffersScreenAppear</td>\n",
       "      <td>3737462046622621720</td>\n",
       "      <td>1564618138</td>\n",
       "      <td>246</td>\n",
       "      <td>2019-08-01 00:08:58</td>\n",
       "      <td>2019-08-01 00:08:58</td>\n",
       "    </tr>\n",
       "    <tr>\n",
       "      <th>2832</th>\n",
       "      <td>MainScreenAppear</td>\n",
       "      <td>1433840883824088890</td>\n",
       "      <td>1564618139</td>\n",
       "      <td>247</td>\n",
       "      <td>2019-08-01 00:08:59</td>\n",
       "      <td>2019-08-01 00:08:59</td>\n",
       "    </tr>\n",
       "  </tbody>\n",
       "</table>\n",
       "</div>"
      ],
      "text/plain": [
       "              event_name              user_id  event_timestamp  group_id  \\\n",
       "2828            Tutorial  3737462046622621720       1564618048       246   \n",
       "2829    MainScreenAppear  3737462046622621720       1564618080       246   \n",
       "2830    MainScreenAppear  3737462046622621720       1564618135       246   \n",
       "2831  OffersScreenAppear  3737462046622621720       1564618138       246   \n",
       "2832    MainScreenAppear  1433840883824088890       1564618139       247   \n",
       "\n",
       "          event_datetime          event_date  \n",
       "2828 2019-08-01 00:07:28 2019-08-01 00:07:28  \n",
       "2829 2019-08-01 00:08:00 2019-08-01 00:08:00  \n",
       "2830 2019-08-01 00:08:55 2019-08-01 00:08:55  \n",
       "2831 2019-08-01 00:08:58 2019-08-01 00:08:58  \n",
       "2832 2019-08-01 00:08:59 2019-08-01 00:08:59  "
      ]
     },
     "execution_count": 21,
     "metadata": {},
     "output_type": "execute_result"
    }
   ],
   "source": [
    "new_data.head()"
   ]
  },
  {
   "cell_type": "code",
   "execution_count": 22,
   "id": "ee2016d7",
   "metadata": {},
   "outputs": [
    {
     "data": {
      "text/html": [
       "<div>\n",
       "<style scoped>\n",
       "    .dataframe tbody tr th:only-of-type {\n",
       "        vertical-align: middle;\n",
       "    }\n",
       "\n",
       "    .dataframe tbody tr th {\n",
       "        vertical-align: top;\n",
       "    }\n",
       "\n",
       "    .dataframe thead th {\n",
       "        text-align: right;\n",
       "    }\n",
       "</style>\n",
       "<table border=\"1\" class=\"dataframe\">\n",
       "  <thead>\n",
       "    <tr style=\"text-align: right;\">\n",
       "      <th></th>\n",
       "      <th>user_id</th>\n",
       "    </tr>\n",
       "    <tr>\n",
       "      <th>event_name</th>\n",
       "      <th></th>\n",
       "    </tr>\n",
       "  </thead>\n",
       "  <tbody>\n",
       "    <tr>\n",
       "      <th>MainScreenAppear</th>\n",
       "      <td>117328</td>\n",
       "    </tr>\n",
       "    <tr>\n",
       "      <th>OffersScreenAppear</th>\n",
       "      <td>46333</td>\n",
       "    </tr>\n",
       "    <tr>\n",
       "      <th>CartScreenAppear</th>\n",
       "      <td>42303</td>\n",
       "    </tr>\n",
       "    <tr>\n",
       "      <th>PaymentScreenSuccessful</th>\n",
       "      <td>33918</td>\n",
       "    </tr>\n",
       "    <tr>\n",
       "      <th>Tutorial</th>\n",
       "      <td>1005</td>\n",
       "    </tr>\n",
       "  </tbody>\n",
       "</table>\n",
       "</div>"
      ],
      "text/plain": [
       "                         user_id\n",
       "event_name                      \n",
       "MainScreenAppear          117328\n",
       "OffersScreenAppear         46333\n",
       "CartScreenAppear           42303\n",
       "PaymentScreenSuccessful    33918\n",
       "Tutorial                    1005"
      ]
     },
     "execution_count": 22,
     "metadata": {},
     "output_type": "execute_result"
    }
   ],
   "source": [
    "new_data.groupby('event_name').agg({'user_id':'count'}).sort_values(by='user_id', ascending=False)"
   ]
  },
  {
   "cell_type": "markdown",
   "id": "cf8f4277",
   "metadata": {},
   "source": [
    "В логе представлено пять вариантов событий:\n",
    "- MainScreenAppear - просмотр главного экрана;\n",
    "- OffersScreenAppear - просмотр экрана с продуктами;\n",
    "- CartScreenAppear - просмотр экрана с корзиной;\n",
    "- PaymentScreenSuccessful - просмотр экрана с подтверждением оплаты;\n",
    "- Tutorial - просмотр экрана с обучением.\n",
    "\n",
    "Наибольшее число событий приходится на просмотр главного экрана (117328 просмотров), наименьшее на обучение (1005)."
   ]
  },
  {
   "cell_type": "markdown",
   "id": "dbaf3f7a",
   "metadata": {},
   "source": [
    "## **4.2 Сколько пользователей совершали каждое из этих событий. Сортировка событий по числу пользователей, расчет доли пользователей, которые хоть раз совершали событие**"
   ]
  },
  {
   "cell_type": "code",
   "execution_count": 23,
   "id": "3607d1f3",
   "metadata": {},
   "outputs": [
    {
     "data": {
      "text/html": [
       "<div>\n",
       "<style scoped>\n",
       "    .dataframe tbody tr th:only-of-type {\n",
       "        vertical-align: middle;\n",
       "    }\n",
       "\n",
       "    .dataframe tbody tr th {\n",
       "        vertical-align: top;\n",
       "    }\n",
       "\n",
       "    .dataframe thead th {\n",
       "        text-align: right;\n",
       "    }\n",
       "</style>\n",
       "<table border=\"1\" class=\"dataframe\">\n",
       "  <thead>\n",
       "    <tr style=\"text-align: right;\">\n",
       "      <th></th>\n",
       "      <th>event_name</th>\n",
       "      <th>qty_users</th>\n",
       "      <th>persent_of_users</th>\n",
       "    </tr>\n",
       "  </thead>\n",
       "  <tbody>\n",
       "    <tr>\n",
       "      <th>0</th>\n",
       "      <td>MainScreenAppear</td>\n",
       "      <td>7419</td>\n",
       "      <td>98.47</td>\n",
       "    </tr>\n",
       "    <tr>\n",
       "      <th>1</th>\n",
       "      <td>OffersScreenAppear</td>\n",
       "      <td>4593</td>\n",
       "      <td>60.96</td>\n",
       "    </tr>\n",
       "    <tr>\n",
       "      <th>2</th>\n",
       "      <td>CartScreenAppear</td>\n",
       "      <td>3734</td>\n",
       "      <td>49.56</td>\n",
       "    </tr>\n",
       "    <tr>\n",
       "      <th>3</th>\n",
       "      <td>PaymentScreenSuccessful</td>\n",
       "      <td>3539</td>\n",
       "      <td>46.97</td>\n",
       "    </tr>\n",
       "    <tr>\n",
       "      <th>4</th>\n",
       "      <td>Tutorial</td>\n",
       "      <td>840</td>\n",
       "      <td>11.15</td>\n",
       "    </tr>\n",
       "  </tbody>\n",
       "</table>\n",
       "</div>"
      ],
      "text/plain": [
       "                event_name  qty_users  persent_of_users\n",
       "0         MainScreenAppear       7419             98.47\n",
       "1       OffersScreenAppear       4593             60.96\n",
       "2         CartScreenAppear       3734             49.56\n",
       "3  PaymentScreenSuccessful       3539             46.97\n",
       "4                 Tutorial        840             11.15"
      ]
     },
     "execution_count": 23,
     "metadata": {},
     "output_type": "execute_result"
    }
   ],
   "source": [
    "user_events = new_data.groupby('event_name').agg({'user_id':'nunique'}).sort_values(by='user_id', ascending=False)\n",
    "user_events = user_events.reset_index()\n",
    "user_events.columns = ['event_name', 'qty_users']\n",
    "user_events['persent_of_users'] = (user_events['qty_users'] / new_data['user_id'].nunique() *100).round(2)\n",
    "user_events"
   ]
  },
  {
   "cell_type": "markdown",
   "id": "3b04d197",
   "metadata": {},
   "source": [
    "Лишь 11,5 % пользователей проходили обучение, главный экран просмотрели 98,47% всех посетивших сайт."
   ]
  },
  {
   "cell_type": "markdown",
   "id": "6b1ea55c",
   "metadata": {},
   "source": [
    "## **4.3 Предположение о порядке событий. Все ли они выстраиваются в последовательную цепочку? Их не нужно учитывать при расчёте воронки**"
   ]
  },
  {
   "cell_type": "markdown",
   "id": "7bfbcd5a",
   "metadata": {},
   "source": [
    "Воронка событий выглядит следующим образом:\n",
    "1. MainScreenAppear - просмотр главного экрана;\n",
    "2. OffersScreenAppear - просмотр страницы с товаром;\n",
    "3. CartScreenAppear - просмотр корзины;\n",
    "4. PaymentScreenSuccessful - просмотр экрана с подтверждением оплаты.\n",
    "5. Tutorial - обучение.\n",
    "\n",
    "Возможно, просмотр страницы с обучением не является обязательным при работе с сайтом.\n",
    "\n",
    "Скорее всего события расположены в следующем порядке:\n",
    "1. MainScreenAppear - просмотр главного экрана;\n",
    "2. OffersScreenAppear - просмотр страницы с товаром;\n",
    "3. CartScreenAppear - просмотр корзины;\n",
    "4. PaymentScreenSuccessful - просмотр экрана с подтверждением оплаты.\n",
    "\n",
    "Этап Tutorial лишний, так как обязательным не является и не влияет на то, дойдет ли пользователь до покупки или нет. Уберем этат этап из анализа."
   ]
  },
  {
   "cell_type": "code",
   "execution_count": 24,
   "id": "845162bd",
   "metadata": {},
   "outputs": [
    {
     "data": {
      "text/html": [
       "<div>\n",
       "<style scoped>\n",
       "    .dataframe tbody tr th:only-of-type {\n",
       "        vertical-align: middle;\n",
       "    }\n",
       "\n",
       "    .dataframe tbody tr th {\n",
       "        vertical-align: top;\n",
       "    }\n",
       "\n",
       "    .dataframe thead th {\n",
       "        text-align: right;\n",
       "    }\n",
       "</style>\n",
       "<table border=\"1\" class=\"dataframe\">\n",
       "  <thead>\n",
       "    <tr style=\"text-align: right;\">\n",
       "      <th></th>\n",
       "      <th>event_name</th>\n",
       "      <th>user_id</th>\n",
       "      <th>event_timestamp</th>\n",
       "      <th>group_id</th>\n",
       "      <th>event_datetime</th>\n",
       "      <th>event_date</th>\n",
       "    </tr>\n",
       "  </thead>\n",
       "  <tbody>\n",
       "    <tr>\n",
       "      <th>2829</th>\n",
       "      <td>MainScreenAppear</td>\n",
       "      <td>3737462046622621720</td>\n",
       "      <td>1564618080</td>\n",
       "      <td>246</td>\n",
       "      <td>2019-08-01 00:08:00</td>\n",
       "      <td>2019-08-01 00:08:00</td>\n",
       "    </tr>\n",
       "    <tr>\n",
       "      <th>2830</th>\n",
       "      <td>MainScreenAppear</td>\n",
       "      <td>3737462046622621720</td>\n",
       "      <td>1564618135</td>\n",
       "      <td>246</td>\n",
       "      <td>2019-08-01 00:08:55</td>\n",
       "      <td>2019-08-01 00:08:55</td>\n",
       "    </tr>\n",
       "    <tr>\n",
       "      <th>2831</th>\n",
       "      <td>OffersScreenAppear</td>\n",
       "      <td>3737462046622621720</td>\n",
       "      <td>1564618138</td>\n",
       "      <td>246</td>\n",
       "      <td>2019-08-01 00:08:58</td>\n",
       "      <td>2019-08-01 00:08:58</td>\n",
       "    </tr>\n",
       "    <tr>\n",
       "      <th>2832</th>\n",
       "      <td>MainScreenAppear</td>\n",
       "      <td>1433840883824088890</td>\n",
       "      <td>1564618139</td>\n",
       "      <td>247</td>\n",
       "      <td>2019-08-01 00:08:59</td>\n",
       "      <td>2019-08-01 00:08:59</td>\n",
       "    </tr>\n",
       "    <tr>\n",
       "      <th>2833</th>\n",
       "      <td>MainScreenAppear</td>\n",
       "      <td>4899590676214355127</td>\n",
       "      <td>1564618215</td>\n",
       "      <td>247</td>\n",
       "      <td>2019-08-01 00:10:15</td>\n",
       "      <td>2019-08-01 00:10:15</td>\n",
       "    </tr>\n",
       "    <tr>\n",
       "      <th>...</th>\n",
       "      <td>...</td>\n",
       "      <td>...</td>\n",
       "      <td>...</td>\n",
       "      <td>...</td>\n",
       "      <td>...</td>\n",
       "      <td>...</td>\n",
       "    </tr>\n",
       "    <tr>\n",
       "      <th>244121</th>\n",
       "      <td>MainScreenAppear</td>\n",
       "      <td>4599628364049201812</td>\n",
       "      <td>1565212345</td>\n",
       "      <td>247</td>\n",
       "      <td>2019-08-07 21:12:25</td>\n",
       "      <td>2019-08-07 21:12:25</td>\n",
       "    </tr>\n",
       "    <tr>\n",
       "      <th>244122</th>\n",
       "      <td>MainScreenAppear</td>\n",
       "      <td>5849806612437486590</td>\n",
       "      <td>1565212439</td>\n",
       "      <td>246</td>\n",
       "      <td>2019-08-07 21:13:59</td>\n",
       "      <td>2019-08-07 21:13:59</td>\n",
       "    </tr>\n",
       "    <tr>\n",
       "      <th>244123</th>\n",
       "      <td>MainScreenAppear</td>\n",
       "      <td>5746969938801999050</td>\n",
       "      <td>1565212483</td>\n",
       "      <td>246</td>\n",
       "      <td>2019-08-07 21:14:43</td>\n",
       "      <td>2019-08-07 21:14:43</td>\n",
       "    </tr>\n",
       "    <tr>\n",
       "      <th>244124</th>\n",
       "      <td>MainScreenAppear</td>\n",
       "      <td>5746969938801999050</td>\n",
       "      <td>1565212498</td>\n",
       "      <td>246</td>\n",
       "      <td>2019-08-07 21:14:58</td>\n",
       "      <td>2019-08-07 21:14:58</td>\n",
       "    </tr>\n",
       "    <tr>\n",
       "      <th>244125</th>\n",
       "      <td>OffersScreenAppear</td>\n",
       "      <td>5746969938801999050</td>\n",
       "      <td>1565212517</td>\n",
       "      <td>246</td>\n",
       "      <td>2019-08-07 21:15:17</td>\n",
       "      <td>2019-08-07 21:15:17</td>\n",
       "    </tr>\n",
       "  </tbody>\n",
       "</table>\n",
       "<p>239882 rows × 6 columns</p>\n",
       "</div>"
      ],
      "text/plain": [
       "                event_name              user_id  event_timestamp  group_id  \\\n",
       "2829      MainScreenAppear  3737462046622621720       1564618080       246   \n",
       "2830      MainScreenAppear  3737462046622621720       1564618135       246   \n",
       "2831    OffersScreenAppear  3737462046622621720       1564618138       246   \n",
       "2832      MainScreenAppear  1433840883824088890       1564618139       247   \n",
       "2833      MainScreenAppear  4899590676214355127       1564618215       247   \n",
       "...                    ...                  ...              ...       ...   \n",
       "244121    MainScreenAppear  4599628364049201812       1565212345       247   \n",
       "244122    MainScreenAppear  5849806612437486590       1565212439       246   \n",
       "244123    MainScreenAppear  5746969938801999050       1565212483       246   \n",
       "244124    MainScreenAppear  5746969938801999050       1565212498       246   \n",
       "244125  OffersScreenAppear  5746969938801999050       1565212517       246   \n",
       "\n",
       "            event_datetime          event_date  \n",
       "2829   2019-08-01 00:08:00 2019-08-01 00:08:00  \n",
       "2830   2019-08-01 00:08:55 2019-08-01 00:08:55  \n",
       "2831   2019-08-01 00:08:58 2019-08-01 00:08:58  \n",
       "2832   2019-08-01 00:08:59 2019-08-01 00:08:59  \n",
       "2833   2019-08-01 00:10:15 2019-08-01 00:10:15  \n",
       "...                    ...                 ...  \n",
       "244121 2019-08-07 21:12:25 2019-08-07 21:12:25  \n",
       "244122 2019-08-07 21:13:59 2019-08-07 21:13:59  \n",
       "244123 2019-08-07 21:14:43 2019-08-07 21:14:43  \n",
       "244124 2019-08-07 21:14:58 2019-08-07 21:14:58  \n",
       "244125 2019-08-07 21:15:17 2019-08-07 21:15:17  \n",
       "\n",
       "[239882 rows x 6 columns]"
      ]
     },
     "execution_count": 24,
     "metadata": {},
     "output_type": "execute_result"
    }
   ],
   "source": [
    "final_data = new_data.query('event_name != \"Tutorial\"')\n",
    "final_data"
   ]
  },
  {
   "cell_type": "markdown",
   "id": "9df4f475",
   "metadata": {},
   "source": [
    "## **4.4 Подсчет доли пользователей, проходящих на следующий шаг воронки. На каком шаге теряется больше всего пользователей? Какая доля пользователей доходит от первого события до оплаты?**"
   ]
  },
  {
   "cell_type": "markdown",
   "id": "03b53309",
   "metadata": {},
   "source": [
    "Создадим таблицу с данными о количестве событий, количестве уникальных пользователей и доле пользователей, переходящих на следующий шаг воронки событий"
   ]
  },
  {
   "cell_type": "code",
   "execution_count": 25,
   "id": "f3283b92",
   "metadata": {},
   "outputs": [
    {
     "data": {
      "text/html": [
       "<div>\n",
       "<style scoped>\n",
       "    .dataframe tbody tr th:only-of-type {\n",
       "        vertical-align: middle;\n",
       "    }\n",
       "\n",
       "    .dataframe tbody tr th {\n",
       "        vertical-align: top;\n",
       "    }\n",
       "\n",
       "    .dataframe thead th {\n",
       "        text-align: right;\n",
       "    }\n",
       "</style>\n",
       "<table border=\"1\" class=\"dataframe\">\n",
       "  <thead>\n",
       "    <tr style=\"text-align: right;\">\n",
       "      <th></th>\n",
       "      <th>event_name</th>\n",
       "      <th>qty_events</th>\n",
       "      <th>qty_users</th>\n",
       "      <th>persent</th>\n",
       "    </tr>\n",
       "  </thead>\n",
       "  <tbody>\n",
       "    <tr>\n",
       "      <th>0</th>\n",
       "      <td>MainScreenAppear</td>\n",
       "      <td>117328</td>\n",
       "      <td>7419</td>\n",
       "      <td>100.00</td>\n",
       "    </tr>\n",
       "    <tr>\n",
       "      <th>1</th>\n",
       "      <td>OffersScreenAppear</td>\n",
       "      <td>46333</td>\n",
       "      <td>4593</td>\n",
       "      <td>61.91</td>\n",
       "    </tr>\n",
       "    <tr>\n",
       "      <th>2</th>\n",
       "      <td>CartScreenAppear</td>\n",
       "      <td>42303</td>\n",
       "      <td>3734</td>\n",
       "      <td>81.30</td>\n",
       "    </tr>\n",
       "    <tr>\n",
       "      <th>3</th>\n",
       "      <td>PaymentScreenSuccessful</td>\n",
       "      <td>33918</td>\n",
       "      <td>3539</td>\n",
       "      <td>94.78</td>\n",
       "    </tr>\n",
       "  </tbody>\n",
       "</table>\n",
       "</div>"
      ],
      "text/plain": [
       "                event_name  qty_events  qty_users  persent\n",
       "0         MainScreenAppear      117328       7419   100.00\n",
       "1       OffersScreenAppear       46333       4593    61.91\n",
       "2         CartScreenAppear       42303       3734    81.30\n",
       "3  PaymentScreenSuccessful       33918       3539    94.78"
      ]
     },
     "execution_count": 25,
     "metadata": {},
     "output_type": "execute_result"
    }
   ],
   "source": [
    "final_user_events = final_data.groupby('event_name').agg({'event_name':'count', 'user_id':'nunique'}).sort_values(by='user_id', ascending=False)\n",
    "final_user_events.columns = ['qty_events', 'qty_users']\n",
    "final_user_events = final_user_events.reset_index() \n",
    "final_user_events['persent'] = (final_user_events['qty_users'] / \n",
    "                                final_user_events['qty_users']\n",
    "                                .shift(1, fill_value=1*final_user_events['qty_users'][0])*100).round(2)\n",
    "\n",
    "final_user_events"
   ]
  },
  {
   "cell_type": "markdown",
   "id": "bfe67c83",
   "metadata": {},
   "source": [
    "Построим воронкообразную диаграмму для нагрядного представления воронки событий."
   ]
  },
  {
   "cell_type": "code",
   "execution_count": 26,
   "id": "3ddfbd37",
   "metadata": {},
   "outputs": [
    {
     "data": {
      "image/png": "[encoded data removed]"
     },
     "metadata": {},
     "output_type": "display_data"
    }
   ],
   "source": [
    "fig = go.Figure(go.Funnel(\n",
    "    y = final_user_events['event_name'],\n",
    "    x = final_user_events['qty_users'],\n",
    "    textposition = \"inside\",\n",
    "    textinfo = \"value+percent previous\",\n",
    "    opacity = 0.65, marker = {\"color\": [\"deepskyblue\", \"lightsalmon\", \"tan\", \"teal\", \"silver\"],\n",
    "    \"line\": {\"width\": [4, 2, 2, 3, 1, 1], \"color\": [\"wheat\", \"wheat\", \"blue\", \"wheat\", \"wheat\"]}},\n",
    "    connector = {\"line\": {\"color\": \"royalblue\", \"dash\": \"dot\", \"width\": 3}})\n",
    "    )\n",
    "fig.update_layout(title=\"Воронка событий\")\n",
    "fig.show(\"png\")"
   ]
  },
  {
   "cell_type": "markdown",
   "id": "8e90b313",
   "metadata": {},
   "source": [
    "Большишое число пользователей приложение теряет при переходе с главной страницы на страницы товаров, лишь 61,9% пользователей переходит на второй этап.  \n",
    "От просмотра страниц до просмотра корзины доходит уже 81,3% пользователей, просмотревших товары в приложении.  \n",
    "94,8% просмотревших корзину оплачивают товар.  \n",
    "От первого этапа до этапа успешной оплаты, доходит 47,7% пользователей. Почти половина, достаточно неплохой показатель."
   ]
  },
  {
   "cell_type": "markdown",
   "id": "d2b55bda",
   "metadata": {},
   "source": [
    "# **5. Изучение результатов эксперимента**\n",
    "## **5.1 Количество пользователей в каждой экспериментальной группе**"
   ]
  },
  {
   "cell_type": "code",
   "execution_count": 27,
   "id": "96b1f2a0",
   "metadata": {},
   "outputs": [
    {
     "data": {
      "text/html": [
       "<div>\n",
       "<style scoped>\n",
       "    .dataframe tbody tr th:only-of-type {\n",
       "        vertical-align: middle;\n",
       "    }\n",
       "\n",
       "    .dataframe tbody tr th {\n",
       "        vertical-align: top;\n",
       "    }\n",
       "\n",
       "    .dataframe thead th {\n",
       "        text-align: right;\n",
       "    }\n",
       "</style>\n",
       "<table border=\"1\" class=\"dataframe\">\n",
       "  <thead>\n",
       "    <tr style=\"text-align: right;\">\n",
       "      <th></th>\n",
       "      <th>group_id</th>\n",
       "      <th>user_id</th>\n",
       "      <th>persent</th>\n",
       "    </tr>\n",
       "  </thead>\n",
       "  <tbody>\n",
       "    <tr>\n",
       "      <th>0</th>\n",
       "      <td>246</td>\n",
       "      <td>2483</td>\n",
       "      <td>32.97</td>\n",
       "    </tr>\n",
       "    <tr>\n",
       "      <th>1</th>\n",
       "      <td>247</td>\n",
       "      <td>2512</td>\n",
       "      <td>33.36</td>\n",
       "    </tr>\n",
       "    <tr>\n",
       "      <th>2</th>\n",
       "      <td>248</td>\n",
       "      <td>2535</td>\n",
       "      <td>33.67</td>\n",
       "    </tr>\n",
       "  </tbody>\n",
       "</table>\n",
       "</div>"
      ],
      "text/plain": [
       "   group_id  user_id  persent\n",
       "0       246     2483    32.97\n",
       "1       247     2512    33.36\n",
       "2       248     2535    33.67"
      ]
     },
     "execution_count": 27,
     "metadata": {},
     "output_type": "execute_result"
    }
   ],
   "source": [
    "group = final_data.groupby('group_id').agg({'user_id':'nunique'}).reset_index()\n",
    "group['persent'] = (group['user_id'] / group['user_id'].sum() *100).round(2)\n",
    "group"
   ]
  },
  {
   "cell_type": "markdown",
   "id": "17f482d0",
   "metadata": {},
   "source": [
    "В каждой группе практически равное количество пользователей. Проверим, не пересекаются ли пользователи между собой."
   ]
  },
  {
   "cell_type": "code",
   "execution_count": 28,
   "id": "f084d0d3",
   "metadata": {},
   "outputs": [
    {
     "data": {
      "text/plain": [
       "user_id     0\n",
       "group_id    0\n",
       "dtype: int64"
      ]
     },
     "execution_count": 28,
     "metadata": {},
     "output_type": "execute_result"
    }
   ],
   "source": [
    "# подсчитаем, в скольки группах состоит каждый из пользователей \n",
    "v = final_data.groupby('user_id')['group_id'].nunique()\n",
    "# подсчитаем, сколько пользователей попали в обе группы\n",
    "v.reset_index().query('group_id > 1').count()"
   ]
  },
  {
   "cell_type": "markdown",
   "id": "137761ff",
   "metadata": {},
   "source": [
    "Пересекающихся пользователей не обнаружено."
   ]
  },
  {
   "cell_type": "markdown",
   "id": "3b4f9ac7",
   "metadata": {},
   "source": [
    "## **5.2 Определение статистически значимой разницы между выборками 246 и 247, либо ее отсутствие**"
   ]
  },
  {
   "cell_type": "markdown",
   "id": "f0b36816",
   "metadata": {},
   "source": [
    "Проверим, находят ли статистические критерии разницу между выборками 246 и 247. Для этого сформируем таблицу с информацией по событиям по каждой группе."
   ]
  },
  {
   "cell_type": "code",
   "execution_count": 29,
   "id": "5a26de91",
   "metadata": {},
   "outputs": [
    {
     "data": {
      "text/html": [
       "<div>\n",
       "<style scoped>\n",
       "    .dataframe tbody tr th:only-of-type {\n",
       "        vertical-align: middle;\n",
       "    }\n",
       "\n",
       "    .dataframe tbody tr th {\n",
       "        vertical-align: top;\n",
       "    }\n",
       "\n",
       "    .dataframe thead th {\n",
       "        text-align: right;\n",
       "    }\n",
       "</style>\n",
       "<table border=\"1\" class=\"dataframe\">\n",
       "  <thead>\n",
       "    <tr style=\"text-align: right;\">\n",
       "      <th></th>\n",
       "      <th>group_id</th>\n",
       "      <th>CartScreenAppear</th>\n",
       "      <th>MainScreenAppear</th>\n",
       "      <th>OffersScreenAppear</th>\n",
       "      <th>PaymentScreenSuccessful</th>\n",
       "      <th>total_users</th>\n",
       "    </tr>\n",
       "  </thead>\n",
       "  <tbody>\n",
       "    <tr>\n",
       "      <th>0</th>\n",
       "      <td>246</td>\n",
       "      <td>1266</td>\n",
       "      <td>2450</td>\n",
       "      <td>1542</td>\n",
       "      <td>1200</td>\n",
       "      <td>2483</td>\n",
       "    </tr>\n",
       "    <tr>\n",
       "      <th>1</th>\n",
       "      <td>247</td>\n",
       "      <td>1238</td>\n",
       "      <td>2476</td>\n",
       "      <td>1520</td>\n",
       "      <td>1158</td>\n",
       "      <td>2512</td>\n",
       "    </tr>\n",
       "    <tr>\n",
       "      <th>2</th>\n",
       "      <td>248</td>\n",
       "      <td>1230</td>\n",
       "      <td>2493</td>\n",
       "      <td>1531</td>\n",
       "      <td>1181</td>\n",
       "      <td>2535</td>\n",
       "    </tr>\n",
       "  </tbody>\n",
       "</table>\n",
       "</div>"
      ],
      "text/plain": [
       "   group_id  CartScreenAppear  MainScreenAppear  OffersScreenAppear  \\\n",
       "0       246              1266              2450                1542   \n",
       "1       247              1238              2476                1520   \n",
       "2       248              1230              2493                1531   \n",
       "\n",
       "   PaymentScreenSuccessful  total_users  \n",
       "0                     1200         2483  \n",
       "1                     1158         2512  \n",
       "2                     1181         2535  "
      ]
     },
     "execution_count": 29,
     "metadata": {},
     "output_type": "execute_result"
    }
   ],
   "source": [
    "# сформируем сводную таблицу\n",
    "users_by_events = (\n",
    "    final_data\n",
    "    .pivot_table(index = 'group_id',\n",
    "                 columns = 'event_name',\n",
    "                 values = 'user_id',\n",
    "                 aggfunc = 'nunique'))\n",
    "\n",
    "users_by_events = users_by_events.reset_index()\n",
    "\n",
    "users_by_events = users_by_events.merge(group, left_on='group_id', right_on='group_id', how='left')\n",
    "users_by_events = users_by_events.iloc [: , : -1]\n",
    "users_by_events = users_by_events.rename(columns = {'user_id':'total_users'})\n",
    "users_by_events"
   ]
  },
  {
   "cell_type": "code",
   "execution_count": 30,
   "id": "c259369c",
   "metadata": {},
   "outputs": [
    {
     "name": "stderr",
     "output_type": "stream",
     "text": [
      "C:\\Users\\user\\AppData\\Local\\Temp\\ipykernel_6848\\2884572514.py:3: FutureWarning:\n",
      "\n",
      "The frame.append method is deprecated and will be removed from pandas in a future version. Use pandas.concat instead.\n",
      "\n"
     ]
    },
    {
     "data": {
      "text/html": [
       "<div>\n",
       "<style scoped>\n",
       "    .dataframe tbody tr th:only-of-type {\n",
       "        vertical-align: middle;\n",
       "    }\n",
       "\n",
       "    .dataframe tbody tr th {\n",
       "        vertical-align: top;\n",
       "    }\n",
       "\n",
       "    .dataframe thead th {\n",
       "        text-align: right;\n",
       "    }\n",
       "</style>\n",
       "<table border=\"1\" class=\"dataframe\">\n",
       "  <thead>\n",
       "    <tr style=\"text-align: right;\">\n",
       "      <th></th>\n",
       "      <th>group_id</th>\n",
       "      <th>CartScreenAppear</th>\n",
       "      <th>MainScreenAppear</th>\n",
       "      <th>OffersScreenAppear</th>\n",
       "      <th>PaymentScreenSuccessful</th>\n",
       "      <th>total_users</th>\n",
       "    </tr>\n",
       "  </thead>\n",
       "  <tbody>\n",
       "    <tr>\n",
       "      <th>0</th>\n",
       "      <td>246</td>\n",
       "      <td>1266</td>\n",
       "      <td>2450</td>\n",
       "      <td>1542</td>\n",
       "      <td>1200</td>\n",
       "      <td>2483</td>\n",
       "    </tr>\n",
       "    <tr>\n",
       "      <th>1</th>\n",
       "      <td>247</td>\n",
       "      <td>1238</td>\n",
       "      <td>2476</td>\n",
       "      <td>1520</td>\n",
       "      <td>1158</td>\n",
       "      <td>2512</td>\n",
       "    </tr>\n",
       "    <tr>\n",
       "      <th>2</th>\n",
       "      <td>248</td>\n",
       "      <td>1230</td>\n",
       "      <td>2493</td>\n",
       "      <td>1531</td>\n",
       "      <td>1181</td>\n",
       "      <td>2535</td>\n",
       "    </tr>\n",
       "    <tr>\n",
       "      <th>3</th>\n",
       "      <td>246_247</td>\n",
       "      <td>2504</td>\n",
       "      <td>4926</td>\n",
       "      <td>3062</td>\n",
       "      <td>2358</td>\n",
       "      <td>4995</td>\n",
       "    </tr>\n",
       "  </tbody>\n",
       "</table>\n",
       "</div>"
      ],
      "text/plain": [
       "  group_id  CartScreenAppear  MainScreenAppear  OffersScreenAppear  \\\n",
       "0      246              1266              2450                1542   \n",
       "1      247              1238              2476                1520   \n",
       "2      248              1230              2493                1531   \n",
       "3  246_247              2504              4926                3062   \n",
       "\n",
       "   PaymentScreenSuccessful  total_users  \n",
       "0                     1200         2483  \n",
       "1                     1158         2512  \n",
       "2                     1181         2535  \n",
       "3                     2358         4995  "
      ]
     },
     "execution_count": 30,
     "metadata": {},
     "output_type": "execute_result"
    }
   ],
   "source": [
    "# дополнение таблицы информацией по объединенной контрольной группе\n",
    "row_246_247 = users_by_events.loc[0] + users_by_events.loc[1]\n",
    "users_by_events = users_by_events.append([row_246_247]).reset_index(drop=True)\n",
    "users_by_events.iloc[3,0] = '246_247'\n",
    "users_by_events"
   ]
  },
  {
   "cell_type": "code",
   "execution_count": 31,
   "id": "8488cc29",
   "metadata": {},
   "outputs": [],
   "source": [
    "# напишем функцию для проверки гипотезы о равенстве долей\n",
    "def z_test(event_1, event_2, total_1, total_2, alpha):  \n",
    "    share_1 = event_1 / total_1 \n",
    "    share_2 = event_2 / total_2 \n",
    "    share_combined = (event_1 + event_2) / (total_1 + total_2) \n",
    "    diff = share_1 - share_2 \n",
    "    z_value = diff / (share_combined * (1 - share_combined) * (1/total_1 + 1/total_2)) ** 0.5\n",
    "    dist = stats.norm(0, 1) \n",
    "    p_value = 2 * (1 - dist.cdf(abs(z_value)))\n",
    "    print('p-значение: ', p_value)\n",
    "    if p_value < alpha:\n",
    "        print('Отвергаем нулевую гипотезу: между долями есть значимая разница')\n",
    "    else:\n",
    "        print('Не получилось отвергнуть нулевую гипотезу, нет оснований считать доли разными') \n"
   ]
  },
  {
   "cell_type": "markdown",
   "id": "237ef847",
   "metadata": {},
   "source": [
    "Сформулируем гипотезы:\n",
    "- Н0 - статистически значимой разницы между выборками 246 и 247 отсутствует, выборки равны;\n",
    "- Н1 - есть статистически значимая разница между выборками 246 и 247, доли разные."
   ]
  },
  {
   "cell_type": "code",
   "execution_count": 32,
   "id": "4c4827c9",
   "metadata": {},
   "outputs": [
    {
     "name": "stdout",
     "output_type": "stream",
     "text": [
      "Проверка гипотезы о различиях в долях клиентов по событию CartScreenAppear в группах 246 и 247\n",
      "p-значение:  0.22867643757335676\n",
      "Не получилось отвергнуть нулевую гипотезу, нет оснований считать доли разными\n",
      "\n",
      "Проверка гипотезы о различиях в долях клиентов по событию MainScreenAppear в группах 246 и 247\n",
      "p-значение:  0.7526703436483038\n",
      "Не получилось отвергнуть нулевую гипотезу, нет оснований считать доли разными\n",
      "\n",
      "Проверка гипотезы о различиях в долях клиентов по событию OffersScreenAppear в группах 246 и 247\n",
      "p-значение:  0.24786096925282264\n",
      "Не получилось отвергнуть нулевую гипотезу, нет оснований считать доли разными\n",
      "\n",
      "Проверка гипотезы о различиях в долях клиентов по событию PaymentScreenSuccessful в группах 246 и 247\n",
      "p-значение:  0.11446627829276612\n",
      "Не получилось отвергнуть нулевую гипотезу, нет оснований считать доли разными\n",
      "\n"
     ]
    }
   ],
   "source": [
    "column_list = [1, 2, 3, 4]\n",
    "for i in column_list:\n",
    "    print('Проверка гипотезы о различиях в долях клиентов по событию', users_by_events.columns[i], 'в группах 246 и 247')\n",
    "    z_test (users_by_events.iloc[0,i],\n",
    "           users_by_events.iloc[1,i],\n",
    "           users_by_events.iloc[0,5],\n",
    "           users_by_events.iloc[1,5], 0.05)\n",
    "    print('')\n",
    "    "
   ]
  },
  {
   "cell_type": "markdown",
   "id": "96692b8a",
   "metadata": {},
   "source": [
    "A/A тест проведен корректно. Ни для одного из событий разница не оказалось статистически значимой. Обе эти группы можно считать контрольными."
   ]
  },
  {
   "cell_type": "markdown",
   "id": "c42466fa",
   "metadata": {},
   "source": [
    "## **5.3 Выбор самого популярного события, его анализ**"
   ]
  },
  {
   "cell_type": "markdown",
   "id": "fe8c1cd8",
   "metadata": {},
   "source": [
    "При построении воронки мы уже считали количество событий, произошедших в приложении."
   ]
  },
  {
   "cell_type": "code",
   "execution_count": 33,
   "id": "e6d832b9",
   "metadata": {},
   "outputs": [
    {
     "data": {
      "text/html": [
       "<div>\n",
       "<style scoped>\n",
       "    .dataframe tbody tr th:only-of-type {\n",
       "        vertical-align: middle;\n",
       "    }\n",
       "\n",
       "    .dataframe tbody tr th {\n",
       "        vertical-align: top;\n",
       "    }\n",
       "\n",
       "    .dataframe thead th {\n",
       "        text-align: right;\n",
       "    }\n",
       "</style>\n",
       "<table border=\"1\" class=\"dataframe\">\n",
       "  <thead>\n",
       "    <tr style=\"text-align: right;\">\n",
       "      <th></th>\n",
       "      <th>event_name</th>\n",
       "      <th>qty_events</th>\n",
       "      <th>qty_users</th>\n",
       "      <th>persent</th>\n",
       "    </tr>\n",
       "  </thead>\n",
       "  <tbody>\n",
       "    <tr>\n",
       "      <th>0</th>\n",
       "      <td>MainScreenAppear</td>\n",
       "      <td>117328</td>\n",
       "      <td>7419</td>\n",
       "      <td>100.00</td>\n",
       "    </tr>\n",
       "    <tr>\n",
       "      <th>1</th>\n",
       "      <td>OffersScreenAppear</td>\n",
       "      <td>46333</td>\n",
       "      <td>4593</td>\n",
       "      <td>61.91</td>\n",
       "    </tr>\n",
       "    <tr>\n",
       "      <th>2</th>\n",
       "      <td>CartScreenAppear</td>\n",
       "      <td>42303</td>\n",
       "      <td>3734</td>\n",
       "      <td>81.30</td>\n",
       "    </tr>\n",
       "    <tr>\n",
       "      <th>3</th>\n",
       "      <td>PaymentScreenSuccessful</td>\n",
       "      <td>33918</td>\n",
       "      <td>3539</td>\n",
       "      <td>94.78</td>\n",
       "    </tr>\n",
       "  </tbody>\n",
       "</table>\n",
       "</div>"
      ],
      "text/plain": [
       "                event_name  qty_events  qty_users  persent\n",
       "0         MainScreenAppear      117328       7419   100.00\n",
       "1       OffersScreenAppear       46333       4593    61.91\n",
       "2         CartScreenAppear       42303       3734    81.30\n",
       "3  PaymentScreenSuccessful       33918       3539    94.78"
      ]
     },
     "execution_count": 33,
     "metadata": {},
     "output_type": "execute_result"
    }
   ],
   "source": [
    "final_user_events"
   ]
  },
  {
   "cell_type": "markdown",
   "id": "0121d280",
   "metadata": {},
   "source": [
    "Самое популярное событие - MainScreenAppear - появление главного экрана. За анализируемый период главный экран просмотрели 117328 раз. Определим количество пользователей в группах, совершивших данное событие и их доли от общего количества пользователей по группам."
   ]
  },
  {
   "cell_type": "code",
   "execution_count": 34,
   "id": "82dd9002",
   "metadata": {},
   "outputs": [
    {
     "data": {
      "text/html": [
       "<div>\n",
       "<style scoped>\n",
       "    .dataframe tbody tr th:only-of-type {\n",
       "        vertical-align: middle;\n",
       "    }\n",
       "\n",
       "    .dataframe tbody tr th {\n",
       "        vertical-align: top;\n",
       "    }\n",
       "\n",
       "    .dataframe thead th {\n",
       "        text-align: right;\n",
       "    }\n",
       "</style>\n",
       "<table border=\"1\" class=\"dataframe\">\n",
       "  <thead>\n",
       "    <tr style=\"text-align: right;\">\n",
       "      <th></th>\n",
       "      <th>group_id</th>\n",
       "      <th>MainScreenAppear</th>\n",
       "      <th>total_users</th>\n",
       "      <th>share</th>\n",
       "    </tr>\n",
       "  </thead>\n",
       "  <tbody>\n",
       "    <tr>\n",
       "      <th>0</th>\n",
       "      <td>246</td>\n",
       "      <td>2450</td>\n",
       "      <td>2483</td>\n",
       "      <td>0.9867</td>\n",
       "    </tr>\n",
       "    <tr>\n",
       "      <th>1</th>\n",
       "      <td>247</td>\n",
       "      <td>2476</td>\n",
       "      <td>2512</td>\n",
       "      <td>0.9857</td>\n",
       "    </tr>\n",
       "    <tr>\n",
       "      <th>2</th>\n",
       "      <td>248</td>\n",
       "      <td>2493</td>\n",
       "      <td>2535</td>\n",
       "      <td>0.9834</td>\n",
       "    </tr>\n",
       "    <tr>\n",
       "      <th>3</th>\n",
       "      <td>246_247</td>\n",
       "      <td>4926</td>\n",
       "      <td>4995</td>\n",
       "      <td>0.9862</td>\n",
       "    </tr>\n",
       "  </tbody>\n",
       "</table>\n",
       "</div>"
      ],
      "text/plain": [
       "  group_id  MainScreenAppear  total_users   share\n",
       "0      246              2450         2483  0.9867\n",
       "1      247              2476         2512  0.9857\n",
       "2      248              2493         2535  0.9834\n",
       "3  246_247              4926         4995  0.9862"
      ]
     },
     "execution_count": 34,
     "metadata": {},
     "output_type": "execute_result"
    }
   ],
   "source": [
    "top_event = users_by_events[['group_id', 'MainScreenAppear', 'total_users']].copy()\n",
    "top_event['share'] = round(top_event['MainScreenAppear'] / top_event['total_users'], 4)\n",
    "top_event"
   ]
  },
  {
   "cell_type": "markdown",
   "id": "df72216e",
   "metadata": {},
   "source": [
    "Из группы теста 246 главный экран приложения просмотрели 98,67% пользователей, в группе 247 -  98,57%.\n",
    "\n",
    "Статистически значимая разница между выборками отсутствует. Статистический тест по всем событиям был выполнен ранее.  \n",
    "A/A тест проведен корректно. Распределение на группы корректное."
   ]
  },
  {
   "cell_type": "markdown",
   "id": "b89c5e1d",
   "metadata": {},
   "source": [
    "## **5.4 Результаты А/В эксперимента**"
   ]
  },
  {
   "cell_type": "markdown",
   "id": "c632f2d8",
   "metadata": {},
   "source": [
    "Проверим, есть ли статистически значимая разница в каждом из событий по группам 246, 247, объединенной группой 246_247 с группой с с изменённым шрифтом - 248."
   ]
  },
  {
   "cell_type": "code",
   "execution_count": 35,
   "id": "d061c6b9",
   "metadata": {},
   "outputs": [
    {
     "data": {
      "text/html": [
       "<div>\n",
       "<style scoped>\n",
       "    .dataframe tbody tr th:only-of-type {\n",
       "        vertical-align: middle;\n",
       "    }\n",
       "\n",
       "    .dataframe tbody tr th {\n",
       "        vertical-align: top;\n",
       "    }\n",
       "\n",
       "    .dataframe thead th {\n",
       "        text-align: right;\n",
       "    }\n",
       "</style>\n",
       "<table border=\"1\" class=\"dataframe\">\n",
       "  <thead>\n",
       "    <tr style=\"text-align: right;\">\n",
       "      <th></th>\n",
       "      <th>group_id</th>\n",
       "      <th>CartScreenAppear</th>\n",
       "      <th>MainScreenAppear</th>\n",
       "      <th>OffersScreenAppear</th>\n",
       "      <th>PaymentScreenSuccessful</th>\n",
       "      <th>total_users</th>\n",
       "    </tr>\n",
       "  </thead>\n",
       "  <tbody>\n",
       "    <tr>\n",
       "      <th>0</th>\n",
       "      <td>246</td>\n",
       "      <td>1266</td>\n",
       "      <td>2450</td>\n",
       "      <td>1542</td>\n",
       "      <td>1200</td>\n",
       "      <td>2483</td>\n",
       "    </tr>\n",
       "    <tr>\n",
       "      <th>1</th>\n",
       "      <td>247</td>\n",
       "      <td>1238</td>\n",
       "      <td>2476</td>\n",
       "      <td>1520</td>\n",
       "      <td>1158</td>\n",
       "      <td>2512</td>\n",
       "    </tr>\n",
       "    <tr>\n",
       "      <th>2</th>\n",
       "      <td>248</td>\n",
       "      <td>1230</td>\n",
       "      <td>2493</td>\n",
       "      <td>1531</td>\n",
       "      <td>1181</td>\n",
       "      <td>2535</td>\n",
       "    </tr>\n",
       "    <tr>\n",
       "      <th>3</th>\n",
       "      <td>246_247</td>\n",
       "      <td>2504</td>\n",
       "      <td>4926</td>\n",
       "      <td>3062</td>\n",
       "      <td>2358</td>\n",
       "      <td>4995</td>\n",
       "    </tr>\n",
       "  </tbody>\n",
       "</table>\n",
       "</div>"
      ],
      "text/plain": [
       "  group_id  CartScreenAppear  MainScreenAppear  OffersScreenAppear  \\\n",
       "0      246              1266              2450                1542   \n",
       "1      247              1238              2476                1520   \n",
       "2      248              1230              2493                1531   \n",
       "3  246_247              2504              4926                3062   \n",
       "\n",
       "   PaymentScreenSuccessful  total_users  \n",
       "0                     1200         2483  \n",
       "1                     1158         2512  \n",
       "2                     1181         2535  \n",
       "3                     2358         4995  "
      ]
     },
     "execution_count": 35,
     "metadata": {},
     "output_type": "execute_result"
    }
   ],
   "source": [
    "users_by_events"
   ]
  },
  {
   "cell_type": "code",
   "execution_count": 36,
   "id": "2f3778ae",
   "metadata": {},
   "outputs": [
    {
     "name": "stdout",
     "output_type": "stream",
     "text": [
      "Проверка гипотезы о различиях в долях клиентов по событию CartScreenAppear в группах 246 и 248\n",
      "p-значение:  0.08067367598823139\n",
      "Не получилось отвергнуть нулевую гипотезу, нет оснований считать доли разными\n",
      "\n",
      "Проверка гипотезы о различиях в долях клиентов по событию CartScreenAppear в группах 247 и 248\n",
      "p-значение:  0.5878284605111943\n",
      "Не получилось отвергнуть нулевую гипотезу, нет оснований считать доли разными\n",
      "\n",
      "Проверка гипотезы о различиях в долях клиентов по событию CartScreenAppear в группах 246_247 и 248\n",
      "p-значение:  0.18683558686831558\n",
      "Не получилось отвергнуть нулевую гипотезу, нет оснований считать доли разными\n",
      "\n",
      "\n",
      "Проверка гипотезы о различиях в долях клиентов по событию MainScreenAppear в группах 246 и 248\n",
      "p-значение:  0.3387114076159288\n",
      "Не получилось отвергнуть нулевую гипотезу, нет оснований считать доли разными\n",
      "\n",
      "Проверка гипотезы о различиях в долях клиентов по событию MainScreenAppear в группах 247 и 248\n",
      "p-значение:  0.5194964354051703\n",
      "Не получилось отвергнуть нулевую гипотезу, нет оснований считать доли разными\n",
      "\n",
      "Проверка гипотезы о различиях в долях клиентов по событию MainScreenAppear в группах 246_247 и 248\n",
      "p-значение:  0.3486684291093256\n",
      "Не получилось отвергнуть нулевую гипотезу, нет оснований считать доли разными\n",
      "\n",
      "\n",
      "Проверка гипотезы о различиях в долях клиентов по событию OffersScreenAppear в группах 246 и 248\n",
      "p-значение:  0.21442476639710506\n",
      "Не получилось отвергнуть нулевую гипотезу, нет оснований считать доли разными\n",
      "\n",
      "Проверка гипотезы о различиях в долях клиентов по событию OffersScreenAppear в группах 247 и 248\n",
      "p-значение:  0.9333751305879443\n",
      "Не получилось отвергнуть нулевую гипотезу, нет оснований считать доли разными\n",
      "\n",
      "Проверка гипотезы о различиях в долях клиентов по событию OffersScreenAppear в группах 246_247 и 248\n",
      "p-значение:  0.44582745409482394\n",
      "Не получилось отвергнуть нулевую гипотезу, нет оснований считать доли разными\n",
      "\n",
      "\n",
      "Проверка гипотезы о различиях в долях клиентов по событию PaymentScreenSuccessful в группах 246 и 248\n",
      "p-значение:  0.21693033984516674\n",
      "Не получилось отвергнуть нулевую гипотезу, нет оснований считать доли разными\n",
      "\n",
      "Проверка гипотезы о различиях в долях клиентов по событию PaymentScreenSuccessful в группах 247 и 248\n",
      "p-значение:  0.7275718682261119\n",
      "Не получилось отвергнуть нулевую гипотезу, нет оснований считать доли разными\n",
      "\n",
      "Проверка гипотезы о различиях в долях клиентов по событию PaymentScreenSuccessful в группах 246_247 и 248\n",
      "p-значение:  0.6107918742187335\n",
      "Не получилось отвергнуть нулевую гипотезу, нет оснований считать доли разными\n",
      "\n",
      "\n"
     ]
    }
   ],
   "source": [
    "column_list = [1, 2, 3, 4]\n",
    "for i in column_list:\n",
    "    print('Проверка гипотезы о различиях в долях клиентов по событию', users_by_events.columns[i], 'в группах 246 и 248')\n",
    "    z_test (users_by_events.iloc[0,i],\n",
    "           users_by_events.iloc[2,i],\n",
    "           users_by_events.iloc[0,5],\n",
    "           users_by_events.iloc[2,5], 0.05)\n",
    "    print('')\n",
    "    print('Проверка гипотезы о различиях в долях клиентов по событию', users_by_events.columns[i], 'в группах 247 и 248')\n",
    "    z_test (users_by_events.iloc[1,i],\n",
    "           users_by_events.iloc[2,i],\n",
    "           users_by_events.iloc[1,5],\n",
    "           users_by_events.iloc[2,5], 0.05)\n",
    "    print('')\n",
    "    print('Проверка гипотезы о различиях в долях клиентов по событию', users_by_events.columns[i], 'в группах 246_247 и 248')\n",
    "    z_test (users_by_events.iloc[3,i],\n",
    "           users_by_events.iloc[2,i],\n",
    "           users_by_events.iloc[3,5],\n",
    "           users_by_events.iloc[2,5], 0.05)\n",
    "    print('')\n",
    "    print('')"
   ]
  },
  {
   "cell_type": "markdown",
   "id": "c73e5ec6",
   "metadata": {},
   "source": [
    "Статистически значимой разницы между группами во всех тестах не выявлено.\n"
   ]
  },
  {
   "cell_type": "markdown",
   "id": "9b4ca2e5",
   "metadata": {},
   "source": [
    "## **5.5 Обоснование определения уровня значимости**"
   ]
  },
  {
   "cell_type": "markdown",
   "id": "368ee539",
   "metadata": {},
   "source": [
    "Мы провели множественный тест, то есть брали несколько выборок из одного и того же набора данных. При множественном тестировании важно помнить, что с каждой новой проверкой гипотезы растёт вероятность ошибки первого рода. \n",
    "Чтобы снизить вероятность ложнопозитивного результата при множественном тестировании гипотез, применяют метод Шидака (как один из наиболее точных) для корректировки уровня значимости для уменьшения групповой вероятности ошибки первого рода.\n",
    "\n",
    "Было сделано 16 проверок статистических гипотез: 4 проверки в контрольных группах и 12 тестов при нахождении статистических различий в измененной и контрольных группах.\n"
   ]
  },
  {
   "cell_type": "code",
   "execution_count": 37,
   "id": "72b65ff8",
   "metadata": {},
   "outputs": [
    {
     "name": "stdout",
     "output_type": "stream",
     "text": [
      "Уточненный уровень alpha 0.0032006977101884937\n"
     ]
    }
   ],
   "source": [
    "print('Уточненный уровень alpha', 1-(1-0.05)**(1/16))"
   ]
  },
  {
   "cell_type": "markdown",
   "id": "240f36f2",
   "metadata": {},
   "source": [
    "Результаты проведенных z-тестов не изменятся не изменятся. Во всех проверках p-value > alpha, при снижении уровня alpha до 0,0032 результаты тестирования не изменятся.\n"
   ]
  },
  {
   "cell_type": "code",
   "execution_count": 38,
   "id": "0a0dcdc1",
   "metadata": {},
   "outputs": [
    {
     "name": "stdout",
     "output_type": "stream",
     "text": [
      "Проверка гипотезы о различиях в долях клиентов по событию CartScreenAppear в группах 246 и 247\n",
      "p-значение:  0.22867643757335676\n",
      "Не получилось отвергнуть нулевую гипотезу, нет оснований считать доли разными\n",
      "\n",
      "Проверка гипотезы о различиях в долях клиентов по событию MainScreenAppear в группах 246 и 247\n",
      "p-значение:  0.7526703436483038\n",
      "Не получилось отвергнуть нулевую гипотезу, нет оснований считать доли разными\n",
      "\n",
      "Проверка гипотезы о различиях в долях клиентов по событию OffersScreenAppear в группах 246 и 247\n",
      "p-значение:  0.24786096925282264\n",
      "Не получилось отвергнуть нулевую гипотезу, нет оснований считать доли разными\n",
      "\n",
      "Проверка гипотезы о различиях в долях клиентов по событию PaymentScreenSuccessful в группах 246 и 247\n",
      "p-значение:  0.11446627829276612\n",
      "Не получилось отвергнуть нулевую гипотезу, нет оснований считать доли разными\n",
      "\n"
     ]
    }
   ],
   "source": [
    "column_list = [1, 2, 3, 4]\n",
    "for i in column_list:\n",
    "    print('Проверка гипотезы о различиях в долях клиентов по событию', users_by_events.columns[i], 'в группах 246 и 247')\n",
    "    z_test (users_by_events.iloc[0,i],\n",
    "           users_by_events.iloc[1,i],\n",
    "           users_by_events.iloc[0,5],\n",
    "           users_by_events.iloc[1,5], 0.003)\n",
    "    print('')"
   ]
  },
  {
   "cell_type": "code",
   "execution_count": 39,
   "id": "491ad4c1",
   "metadata": {},
   "outputs": [
    {
     "name": "stdout",
     "output_type": "stream",
     "text": [
      "Проверка гипотезы о различиях в долях клиентов по событию CartScreenAppear в группах 246 и 248\n",
      "p-значение:  0.08067367598823139\n",
      "Не получилось отвергнуть нулевую гипотезу, нет оснований считать доли разными\n",
      "\n",
      "Проверка гипотезы о различиях в долях клиентов по событию MainScreenAppear в группах 246 и 248\n",
      "p-значение:  0.3387114076159288\n",
      "Не получилось отвергнуть нулевую гипотезу, нет оснований считать доли разными\n",
      "\n",
      "Проверка гипотезы о различиях в долях клиентов по событию OffersScreenAppear в группах 246 и 248\n",
      "p-значение:  0.21442476639710506\n",
      "Не получилось отвергнуть нулевую гипотезу, нет оснований считать доли разными\n",
      "\n",
      "Проверка гипотезы о различиях в долях клиентов по событию PaymentScreenSuccessful в группах 246 и 248\n",
      "p-значение:  0.21693033984516674\n",
      "Не получилось отвергнуть нулевую гипотезу, нет оснований считать доли разными\n",
      "\n",
      "Проверка гипотезы о различиях в долях клиентов по событию CartScreenAppear в группах 247 и 248\n",
      "p-значение:  0.5878284605111943\n",
      "Не получилось отвергнуть нулевую гипотезу, нет оснований считать доли разными\n",
      "\n",
      "Проверка гипотезы о различиях в долях клиентов по событию MainScreenAppear в группах 247 и 248\n",
      "p-значение:  0.5194964354051703\n",
      "Не получилось отвергнуть нулевую гипотезу, нет оснований считать доли разными\n",
      "\n",
      "Проверка гипотезы о различиях в долях клиентов по событию OffersScreenAppear в группах 247 и 248\n",
      "p-значение:  0.9333751305879443\n",
      "Не получилось отвергнуть нулевую гипотезу, нет оснований считать доли разными\n",
      "\n",
      "Проверка гипотезы о различиях в долях клиентов по событию PaymentScreenSuccessful в группах 247 и 248\n",
      "p-значение:  0.7275718682261119\n",
      "Не получилось отвергнуть нулевую гипотезу, нет оснований считать доли разными\n",
      "\n",
      "Проверка гипотезы о различиях в долях клиентов по событию CartScreenAppear в группах 246_247 и 248\n",
      "p-значение:  0.18683558686831558\n",
      "Не получилось отвергнуть нулевую гипотезу, нет оснований считать доли разными\n",
      "\n",
      "\n",
      "Проверка гипотезы о различиях в долях клиентов по событию MainScreenAppear в группах 246_247 и 248\n",
      "p-значение:  0.3486684291093256\n",
      "Не получилось отвергнуть нулевую гипотезу, нет оснований считать доли разными\n",
      "\n",
      "\n",
      "Проверка гипотезы о различиях в долях клиентов по событию OffersScreenAppear в группах 246_247 и 248\n",
      "p-значение:  0.44582745409482394\n",
      "Не получилось отвергнуть нулевую гипотезу, нет оснований считать доли разными\n",
      "\n",
      "\n",
      "Проверка гипотезы о различиях в долях клиентов по событию PaymentScreenSuccessful в группах 246_247 и 248\n",
      "p-значение:  0.6107918742187335\n",
      "Не получилось отвергнуть нулевую гипотезу, нет оснований считать доли разными\n",
      "\n",
      "\n"
     ]
    }
   ],
   "source": [
    "column_list = [1, 2, 3, 4]\n",
    "for i in column_list:\n",
    "    print('Проверка гипотезы о различиях в долях клиентов по событию', users_by_events.columns[i], 'в группах 246 и 248')\n",
    "    z_test (users_by_events.iloc[0,i],\n",
    "           users_by_events.iloc[2,i],\n",
    "           users_by_events.iloc[0,5],\n",
    "           users_by_events.iloc[2,5], 0.003)\n",
    "    print('')\n",
    "\n",
    "for i in column_list:    \n",
    "    print('Проверка гипотезы о различиях в долях клиентов по событию', users_by_events.columns[i], 'в группах 247 и 248')\n",
    "    z_test (users_by_events.iloc[1,i],\n",
    "           users_by_events.iloc[2,i],\n",
    "           users_by_events.iloc[1,5],\n",
    "           users_by_events.iloc[2,5], 0.003)\n",
    "    print('')\n",
    "    \n",
    "for i in column_list:    \n",
    "    print('Проверка гипотезы о различиях в долях клиентов по событию', users_by_events.columns[i], 'в группах 246_247 и 248')\n",
    "    z_test (users_by_events.iloc[3,i],\n",
    "           users_by_events.iloc[2,i],\n",
    "           users_by_events.iloc[3,5],\n",
    "           users_by_events.iloc[2,5], 0.003)\n",
    "    print('')\n",
    "    print('')    "
   ]
  },
  {
   "cell_type": "markdown",
   "id": "24161583",
   "metadata": {},
   "source": [
    "# **Вывод**"
   ]
  },
  {
   "cell_type": "markdown",
   "id": "2bcd416b",
   "metadata": {},
   "source": [
    "Задача проекта - разобраться, как ведут себя пользователи мобильного приложения по продаже продуктов питания.\n",
    "\n",
    "Для анализа были представлена таблица с логами. Каждая запись в логе — это действие пользователя, или событие. В таблице собраны данные о событиях, ID пользователей, время события в формате unix time и номер контрольной группы. Столбцы с информацией о времени были приведены к формату timestamp, а также изменены названия столбцов.\n",
    "\n",
    "Для анализа были представлены данные за период 25.07.2019 - 07.08.2019. Но за первую неделю практически отсутствуют. За актуальный период времени был принят период 01.08.2019 - 07.08.2019.\n",
    "\n",
    "В каждой из 3х экспериментальных групп попало примерно 2,5 тыс. пользователей (2484, 2513, 2537). Группы можно считать равными. Пересекающихся пользователей не обнаружено.\n",
    "\n",
    "Воронка событий выглядит следующим образом:\n",
    "- MainScreenAppear - просмотр главного экрана;\n",
    "- OffersScreenAppear - просмотр страницы с товаром;\n",
    "- CartScreenAppear - просмотр корзины;\n",
    "- PaymentScreenSuccessful - просмотр экрана с подтверждением оплаты.\n",
    "- Tutorial - обучение. \n",
    "Возможно, просмотр страницы с обучением не является обязательным при работе с сайтом. Эти события не участвовали в дальнейшем анализе.\n",
    "\n",
    "В ходе работы над проектом был выполнен подсчет доли пользователей, проходящих на каждый следующий шаг воронки. \n",
    "Больше всего пользователей теряется при переходе с главной страницы на страницы товаров, лишь 61,9% пользователей переходит на второй этап.  \n",
    "От просмотра страниц до просмотра корзины доходит уже 81,3% пользователей, просмотревших товары в приложении.  \n",
    "94,8% просмотревших корзину оплачивают товар.  \n",
    "От первого этапа до этапа успешной оплаты, доходит 47,7% пользователей. Почти половина, достаточно неплохой показатель.\n",
    "\n",
    "Только 98,5% всех пользователей хотя бы раз открывали главную страницу приложения (возможно оставшиеся пользователи не смогли попасть на главную страницу из-за ошибок/некорректной работы приложения, либо это следствие \"обрезанных\" данных).\n",
    "Только лишь 61,9% пользователей переходит на страницы товаров (возможно приложение работает корректно не на всех устройствах).\n",
    "\n",
    "В ходе анализа A/A/B эксперемента было проведено 16 проверок статистических гипотез (12 проверяли разницу между контрольными группами и группой с изменённым шрифтом).  и ни одна из них не выявила значимой разницы. Статистически значимой разницы между группами выявлено не было.\n",
    "\n",
    "Поэтому можно утверждать, что на поведение пользователей изменение шрифта значимого эффекта не оказало. Тестирование можно назвать успешным - изменение шрифта не повлияло на поведение пользователей.\n"
   ]
  },
  {
   "cell_type": "code",
   "execution_count": null,
   "id": "b82d0093",
   "metadata": {},
   "outputs": [],
   "source": []
  }
 ],
 "metadata": {
  "ExecuteTimeLog": [
   {
    "duration": 1130,
    "start_time": "2023-03-18T15:59:06.432Z"
   },
   {
    "duration": 297,
    "start_time": "2023-03-18T15:59:07.564Z"
   },
   {
    "duration": 34,
    "start_time": "2023-03-18T15:59:07.863Z"
   },
   {
    "duration": 7,
    "start_time": "2023-03-18T15:59:07.910Z"
   },
   {
    "duration": 103,
    "start_time": "2023-03-18T15:59:07.919Z"
   },
   {
    "duration": 89,
    "start_time": "2023-03-18T15:59:08.024Z"
   },
   {
    "duration": 22,
    "start_time": "2023-03-18T15:59:08.115Z"
   },
   {
    "duration": 23,
    "start_time": "2023-03-18T15:59:08.139Z"
   },
   {
    "duration": 42,
    "start_time": "2023-03-18T15:59:08.163Z"
   },
   {
    "duration": 53,
    "start_time": "2023-03-18T15:59:08.208Z"
   },
   {
    "duration": 9,
    "start_time": "2023-03-18T15:59:08.263Z"
   },
   {
    "duration": 39,
    "start_time": "2023-03-18T15:59:08.274Z"
   },
   {
    "duration": 6,
    "start_time": "2023-03-18T15:59:08.315Z"
   },
   {
    "duration": 582,
    "start_time": "2023-03-18T15:59:08.323Z"
   },
   {
    "duration": 38,
    "start_time": "2023-03-18T15:59:08.907Z"
   },
   {
    "duration": 69,
    "start_time": "2023-03-18T15:59:08.947Z"
   },
   {
    "duration": 6,
    "start_time": "2023-03-18T15:59:09.018Z"
   },
   {
    "duration": 34,
    "start_time": "2023-03-18T15:59:09.025Z"
   },
   {
    "duration": 49,
    "start_time": "2023-03-18T15:59:09.060Z"
   },
   {
    "duration": 8,
    "start_time": "2023-03-18T15:59:09.111Z"
   },
   {
    "duration": 30,
    "start_time": "2023-03-18T15:59:09.121Z"
   },
   {
    "duration": 88,
    "start_time": "2023-03-18T15:59:09.152Z"
   },
   {
    "duration": 26,
    "start_time": "2023-03-18T15:59:09.242Z"
   },
   {
    "duration": 96,
    "start_time": "2023-03-18T15:59:09.270Z"
   },
   {
    "duration": 365,
    "start_time": "2023-03-18T15:59:09.367Z"
   },
   {
    "duration": 80,
    "start_time": "2023-03-18T15:59:09.734Z"
   },
   {
    "duration": 200,
    "start_time": "2023-03-18T15:59:09.816Z"
   },
   {
    "duration": 13,
    "start_time": "2023-03-18T15:59:10.019Z"
   },
   {
    "duration": 5,
    "start_time": "2023-03-18T15:59:10.033Z"
   },
   {
    "duration": 14,
    "start_time": "2023-03-18T15:59:10.040Z"
   },
   {
    "duration": 52,
    "start_time": "2023-03-18T15:59:10.055Z"
   },
   {
    "duration": 14,
    "start_time": "2023-03-18T15:59:10.109Z"
   },
   {
    "duration": 9,
    "start_time": "2023-03-18T15:59:10.125Z"
   },
   {
    "duration": 27,
    "start_time": "2023-03-18T15:59:10.135Z"
   },
   {
    "duration": 32,
    "start_time": "2023-03-18T15:59:10.164Z"
   },
   {
    "duration": 1116,
    "start_time": "2023-03-19T05:51:15.331Z"
   },
   {
    "duration": 296,
    "start_time": "2023-03-19T05:51:16.449Z"
   },
   {
    "duration": 15,
    "start_time": "2023-03-19T05:51:16.748Z"
   },
   {
    "duration": 10,
    "start_time": "2023-03-19T05:51:16.765Z"
   },
   {
    "duration": 104,
    "start_time": "2023-03-19T05:51:16.777Z"
   },
   {
    "duration": 107,
    "start_time": "2023-03-19T05:51:16.883Z"
   },
   {
    "duration": 25,
    "start_time": "2023-03-19T05:51:16.993Z"
   },
   {
    "duration": 36,
    "start_time": "2023-03-19T05:51:17.020Z"
   },
   {
    "duration": 23,
    "start_time": "2023-03-19T05:51:17.058Z"
   },
   {
    "duration": 80,
    "start_time": "2023-03-19T05:51:17.084Z"
   },
   {
    "duration": 14,
    "start_time": "2023-03-19T05:51:17.166Z"
   },
   {
    "duration": 27,
    "start_time": "2023-03-19T05:51:17.182Z"
   },
   {
    "duration": 44,
    "start_time": "2023-03-19T05:51:17.211Z"
   },
   {
    "duration": 610,
    "start_time": "2023-03-19T05:51:17.257Z"
   },
   {
    "duration": 33,
    "start_time": "2023-03-19T05:51:17.868Z"
   },
   {
    "duration": 42,
    "start_time": "2023-03-19T05:51:17.903Z"
   },
   {
    "duration": 29,
    "start_time": "2023-03-19T05:51:17.947Z"
   },
   {
    "duration": 33,
    "start_time": "2023-03-19T05:51:17.978Z"
   },
   {
    "duration": 38,
    "start_time": "2023-03-19T05:51:18.012Z"
   },
   {
    "duration": 30,
    "start_time": "2023-03-19T05:51:18.052Z"
   },
   {
    "duration": 36,
    "start_time": "2023-03-19T05:51:18.083Z"
   },
   {
    "duration": 86,
    "start_time": "2023-03-19T05:51:18.121Z"
   },
   {
    "duration": 29,
    "start_time": "2023-03-19T05:51:18.209Z"
   },
   {
    "duration": 119,
    "start_time": "2023-03-19T05:51:18.241Z"
   },
   {
    "duration": 318,
    "start_time": "2023-03-19T05:51:18.362Z"
   },
   {
    "duration": 93,
    "start_time": "2023-03-19T05:51:18.681Z"
   },
   {
    "duration": 49,
    "start_time": "2023-03-19T05:51:18.776Z"
   },
   {
    "duration": 114,
    "start_time": "2023-03-19T05:51:18.874Z"
   },
   {
    "duration": 14,
    "start_time": "2023-03-19T05:51:18.990Z"
   },
   {
    "duration": 6,
    "start_time": "2023-03-19T05:51:19.006Z"
   },
   {
    "duration": 20,
    "start_time": "2023-03-19T05:51:19.014Z"
   },
   {
    "duration": 9,
    "start_time": "2023-03-19T05:51:19.035Z"
   },
   {
    "duration": 35,
    "start_time": "2023-03-19T05:51:19.046Z"
   },
   {
    "duration": 12,
    "start_time": "2023-03-19T05:51:19.082Z"
   },
   {
    "duration": 32,
    "start_time": "2023-03-19T05:51:19.096Z"
   },
   {
    "duration": 4,
    "start_time": "2023-03-19T05:51:19.130Z"
   },
   {
    "duration": 50,
    "start_time": "2023-03-19T05:51:19.137Z"
   },
   {
    "duration": 34,
    "start_time": "2023-03-19T05:51:19.189Z"
   },
   {
    "duration": 1017,
    "start_time": "2023-03-19T08:24:02.702Z"
   },
   {
    "duration": 270,
    "start_time": "2023-03-19T08:24:03.721Z"
   },
   {
    "duration": 18,
    "start_time": "2023-03-19T08:24:03.993Z"
   },
   {
    "duration": 4,
    "start_time": "2023-03-19T08:24:04.013Z"
   },
   {
    "duration": 123,
    "start_time": "2023-03-19T08:24:04.020Z"
   },
   {
    "duration": 94,
    "start_time": "2023-03-19T08:24:04.145Z"
   },
   {
    "duration": 36,
    "start_time": "2023-03-19T08:24:04.240Z"
   },
   {
    "duration": 21,
    "start_time": "2023-03-19T08:24:04.280Z"
   },
   {
    "duration": 15,
    "start_time": "2023-03-19T08:24:04.303Z"
   },
   {
    "duration": 63,
    "start_time": "2023-03-19T08:24:04.320Z"
   },
   {
    "duration": 12,
    "start_time": "2023-03-19T08:24:04.386Z"
   },
   {
    "duration": 12,
    "start_time": "2023-03-19T08:24:04.400Z"
   },
   {
    "duration": 7,
    "start_time": "2023-03-19T08:24:04.413Z"
   },
   {
    "duration": 586,
    "start_time": "2023-03-19T08:24:04.423Z"
   },
   {
    "duration": 33,
    "start_time": "2023-03-19T08:24:05.011Z"
   },
   {
    "duration": 41,
    "start_time": "2023-03-19T08:24:05.066Z"
   },
   {
    "duration": 5,
    "start_time": "2023-03-19T08:24:05.110Z"
   },
   {
    "duration": 58,
    "start_time": "2023-03-19T08:24:05.117Z"
   },
   {
    "duration": 38,
    "start_time": "2023-03-19T08:24:05.179Z"
   },
   {
    "duration": 11,
    "start_time": "2023-03-19T08:24:05.219Z"
   },
   {
    "duration": 55,
    "start_time": "2023-03-19T08:24:05.233Z"
   },
   {
    "duration": 86,
    "start_time": "2023-03-19T08:24:05.290Z"
   },
   {
    "duration": 28,
    "start_time": "2023-03-19T08:24:05.378Z"
   },
   {
    "duration": 91,
    "start_time": "2023-03-19T08:24:05.407Z"
   },
   {
    "duration": 383,
    "start_time": "2023-03-19T08:24:05.500Z"
   },
   {
    "duration": 90,
    "start_time": "2023-03-19T08:24:05.886Z"
   },
   {
    "duration": 102,
    "start_time": "2023-03-19T08:24:05.978Z"
   },
   {
    "duration": 121,
    "start_time": "2023-03-19T08:24:06.082Z"
   },
   {
    "duration": 13,
    "start_time": "2023-03-19T08:24:06.205Z"
   },
   {
    "duration": 9,
    "start_time": "2023-03-19T08:24:06.220Z"
   },
   {
    "duration": 43,
    "start_time": "2023-03-19T08:24:06.232Z"
   },
   {
    "duration": 8,
    "start_time": "2023-03-19T08:24:06.278Z"
   },
   {
    "duration": 17,
    "start_time": "2023-03-19T08:24:06.288Z"
   },
   {
    "duration": 17,
    "start_time": "2023-03-19T08:24:06.307Z"
   },
   {
    "duration": 54,
    "start_time": "2023-03-19T08:24:06.325Z"
   },
   {
    "duration": 3,
    "start_time": "2023-03-19T08:24:06.381Z"
   },
   {
    "duration": 13,
    "start_time": "2023-03-19T08:24:06.386Z"
   },
   {
    "duration": 30,
    "start_time": "2023-03-19T08:24:06.401Z"
   }
  ],
  "kernelspec": {
   "display_name": "Python 3 (ipykernel)",
   "language": "python",
   "name": "python3"
  },
  "language_info": {
   "codemirror_mode": {
    "name": "ipython",
    "version": 3
   },
   "file_extension": ".py",
   "mimetype": "text/x-python",
   "name": "python",
   "nbconvert_exporter": "python",
   "pygments_lexer": "ipython3",
   "version": "3.10.9"
  },
  "toc": {
   "base_numbering": 1,
   "nav_menu": {},
   "number_sections": true,
   "sideBar": true,
   "skip_h1_title": true,
   "title_cell": "Table of Contents",
   "title_sidebar": "Contents",
   "toc_cell": false,
   "toc_position": {},
   "toc_section_display": true,
   "toc_window_display": false
  }
 },
 "nbformat": 4,
 "nbformat_minor": 5
}
