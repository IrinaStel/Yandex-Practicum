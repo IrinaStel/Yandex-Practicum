{
 "cells": [
  {
   "cell_type": "markdown",
   "id": "87832ca8",
   "metadata": {},
   "source": [
    "**Оценка результатов A/B-теста**"
   ]
  },
  {
   "cell_type": "markdown",
   "id": "89172d2c",
   "metadata": {},
   "source": [
    "**Цель исследования** — провести оценку результатов A/B-теста, оценить корректность его проведения, проанализировать результаты теста.\n",
    "\n",
    "**Ход исследования**\n",
    "1. Загрузка данных.\n",
    "2. Подготовка данных:\n",
    "    - Ознакомление с данными.\n",
    "    - Преобразование типов данных.\n",
    "    - Анализ пропусков в дубликатов.\n",
    "3. Оценка корректности проведения теста по следующим параметрам: \n",
    "    - Соответствие данных требованиям технического задания.\n",
    "    - Время проведения теста. \n",
    "    - Аудитория теста (нет пересечений с конкурирующим тестом и нет пользователей, участвующих в двух группах теста одновременно, проверка равномерности распределения по тестовым группам и правильность их формирования).\n",
    "4. Исследовательский анализ данных:\n",
    "    - Расчет количества событий на пользователя, распределение показателя в выборках.\n",
    "    - Распределение числа событий в выборках по дням.\n",
    "    - Изменения конверсии в воронке в выборках на разных этапах.\n",
    "    - Особенности A/B-тестирования.\n",
    "5. Оценка результатов A/B-тестирования:\n",
    "    - Какие результаты показало A/В-тестирование?\n",
    "    - Проверка статистической разницы долей z-критерием.\n",
    "6. Вывод, общее заключение о корректности проведения теста.\n",
    "\n",
    "\n",
    "**Техническое задание**\n",
    "- Название теста: `recommender_system_test`;\n",
    "- группы: А — контрольная, B — новая платёжная воронка;\n",
    "- дата запуска: 2020-12-07;\n",
    "- дата остановки набора новых пользователей: 2020-12-21;\n",
    "- дата остановки: 2021-01-04;\n",
    "- аудитория: в тест должно быть отобрано 15% новых пользователей из региона EU;\n",
    "- назначение теста: тестирование изменений, связанных с внедрением улучшенной рекомендательной системы;\n",
    "- ожидаемое количество участников теста: 6000.\n",
    "- ожидаемый эффект: за 14 дней с момента регистрации пользователи покажут улучшение каждой метрики не менее, чем на 10%:\n",
    "    - конверсии в просмотр карточек товаров — событие `product_page`,\n",
    "    - просмотры корзины — `product_cart`,\n",
    "    - покупки — `purchase`.\n"
   ]
  },
  {
   "cell_type": "markdown",
   "id": "3aa4dae6",
   "metadata": {},
   "source": [
    "# **1. Загрузка данных**"
   ]
  },
  {
   "cell_type": "code",
   "execution_count": 1,
   "id": "da47983c",
   "metadata": {},
   "outputs": [],
   "source": [
    "import pandas as pd\n",
    "import numpy as np\n",
    "\n",
    "import matplotlib.pyplot as plt\n",
    "import seaborn as sns\n",
    "import datetime as dt\n",
    "from datetime import datetime, timedelta\n",
    "import scipy.stats as stats\n",
    "import plotly.express as px\n",
    "from plotly import graph_objects as go\n",
    "from statsmodels.stats.proportion import proportions_ztest\n"
   ]
  },
  {
   "cell_type": "code",
   "execution_count": 2,
   "id": "20bba15b",
   "metadata": {},
   "outputs": [],
   "source": [
    "import plotly.io as pio \n",
    "pio.renderers.default = \"png\" \n",
    "svg_renderer = pio.renderers[\"png\"] \n",
    "svg_renderer.scale = 1.2"
   ]
  },
  {
   "cell_type": "code",
   "execution_count": 3,
   "id": "490e2616",
   "metadata": {},
   "outputs": [],
   "source": [
    "try:\n",
    "    events = pd.read_csv('C:/Users/user/Desktop/Проект/final_ab_events.csv')\n",
    "    marketing_events = pd.read_csv('C:/Users/user/Desktop/Проект/ab_project_marketing_events.csv')\n",
    "    new_users = pd.read_csv('C:/Users/user/Desktop/Проект/final_ab_new_users.csv')\n",
    "    participants = pd.read_csv('C:/Users/user/Desktop/Проект/final_ab_participants.csv')\n",
    "       \n",
    "except:\n",
    "    events = pd.read_csv('/datasets/final_ab_events.csv')\n",
    "    marketing_events = pd.read_csv('/datasets/ab_project_marketing_events.csv')\n",
    "    new_users = pd.read_csv('/datasets/final_ab_new_users.csv')\n",
    "    participants = pd.read_csv('/datasets/final_ab_participants.csv')"
   ]
  },
  {
   "cell_type": "markdown",
   "id": "508a38a1",
   "metadata": {},
   "source": [
    "# **2. Подготовка данных**\n",
    "## **2.1 Ознакомление с данными**"
   ]
  },
  {
   "cell_type": "code",
   "execution_count": 4,
   "id": "9a77f087",
   "metadata": {},
   "outputs": [
    {
     "data": {
      "text/html": [
       "<div>\n",
       "<style scoped>\n",
       "    .dataframe tbody tr th:only-of-type {\n",
       "        vertical-align: middle;\n",
       "    }\n",
       "\n",
       "    .dataframe tbody tr th {\n",
       "        vertical-align: top;\n",
       "    }\n",
       "\n",
       "    .dataframe thead th {\n",
       "        text-align: right;\n",
       "    }\n",
       "</style>\n",
       "<table border=\"1\" class=\"dataframe\">\n",
       "  <thead>\n",
       "    <tr style=\"text-align: right;\">\n",
       "      <th></th>\n",
       "      <th>user_id</th>\n",
       "      <th>event_dt</th>\n",
       "      <th>event_name</th>\n",
       "      <th>details</th>\n",
       "    </tr>\n",
       "  </thead>\n",
       "  <tbody>\n",
       "    <tr>\n",
       "      <th>0</th>\n",
       "      <td>E1BDDCE0DAFA2679</td>\n",
       "      <td>2020-12-07 20:22:03</td>\n",
       "      <td>purchase</td>\n",
       "      <td>99.99</td>\n",
       "    </tr>\n",
       "    <tr>\n",
       "      <th>1</th>\n",
       "      <td>7B6452F081F49504</td>\n",
       "      <td>2020-12-07 09:22:53</td>\n",
       "      <td>purchase</td>\n",
       "      <td>9.99</td>\n",
       "    </tr>\n",
       "    <tr>\n",
       "      <th>2</th>\n",
       "      <td>9CD9F34546DF254C</td>\n",
       "      <td>2020-12-07 12:59:29</td>\n",
       "      <td>purchase</td>\n",
       "      <td>4.99</td>\n",
       "    </tr>\n",
       "    <tr>\n",
       "      <th>3</th>\n",
       "      <td>96F27A054B191457</td>\n",
       "      <td>2020-12-07 04:02:40</td>\n",
       "      <td>purchase</td>\n",
       "      <td>4.99</td>\n",
       "    </tr>\n",
       "    <tr>\n",
       "      <th>4</th>\n",
       "      <td>1FD7660FDF94CA1F</td>\n",
       "      <td>2020-12-07 10:15:09</td>\n",
       "      <td>purchase</td>\n",
       "      <td>4.99</td>\n",
       "    </tr>\n",
       "  </tbody>\n",
       "</table>\n",
       "</div>"
      ],
      "text/plain": [
       "            user_id             event_dt event_name  details\n",
       "0  E1BDDCE0DAFA2679  2020-12-07 20:22:03   purchase    99.99\n",
       "1  7B6452F081F49504  2020-12-07 09:22:53   purchase     9.99\n",
       "2  9CD9F34546DF254C  2020-12-07 12:59:29   purchase     4.99\n",
       "3  96F27A054B191457  2020-12-07 04:02:40   purchase     4.99\n",
       "4  1FD7660FDF94CA1F  2020-12-07 10:15:09   purchase     4.99"
      ]
     },
     "metadata": {},
     "output_type": "display_data"
    },
    {
     "name": "stdout",
     "output_type": "stream",
     "text": [
      "<class 'pandas.core.frame.DataFrame'>\n",
      "RangeIndex: 440317 entries, 0 to 440316\n",
      "Data columns (total 4 columns):\n",
      " #   Column      Non-Null Count   Dtype  \n",
      "---  ------      --------------   -----  \n",
      " 0   user_id     440317 non-null  object \n",
      " 1   event_dt    440317 non-null  object \n",
      " 2   event_name  440317 non-null  object \n",
      " 3   details     62740 non-null   float64\n",
      "dtypes: float64(1), object(3)\n",
      "memory usage: 13.4+ MB\n"
     ]
    }
   ],
   "source": [
    "display(events.head())\n",
    "events.info()"
   ]
  },
  {
   "cell_type": "markdown",
   "id": "59852611",
   "metadata": {},
   "source": [
    "В таблице events находится информация о действиях новых пользователей в период с 7 декабря 2020 по 4 января 2021 года.  \n",
    "Таблица содержит 440317 строк с информацией о id пользователя, дате и названии события, столбец с дополнительной информацией.    В столбце 'details' содержатся пропуски.   \n",
    "'event_dt' нужно привести к формату даты."
   ]
  },
  {
   "cell_type": "code",
   "execution_count": 5,
   "id": "795a3076",
   "metadata": {},
   "outputs": [
    {
     "data": {
      "text/html": [
       "<div>\n",
       "<style scoped>\n",
       "    .dataframe tbody tr th:only-of-type {\n",
       "        vertical-align: middle;\n",
       "    }\n",
       "\n",
       "    .dataframe tbody tr th {\n",
       "        vertical-align: top;\n",
       "    }\n",
       "\n",
       "    .dataframe thead th {\n",
       "        text-align: right;\n",
       "    }\n",
       "</style>\n",
       "<table border=\"1\" class=\"dataframe\">\n",
       "  <thead>\n",
       "    <tr style=\"text-align: right;\">\n",
       "      <th></th>\n",
       "      <th>name</th>\n",
       "      <th>regions</th>\n",
       "      <th>start_dt</th>\n",
       "      <th>finish_dt</th>\n",
       "    </tr>\n",
       "  </thead>\n",
       "  <tbody>\n",
       "    <tr>\n",
       "      <th>0</th>\n",
       "      <td>Christmas&amp;New Year Promo</td>\n",
       "      <td>EU, N.America</td>\n",
       "      <td>2020-12-25</td>\n",
       "      <td>2021-01-03</td>\n",
       "    </tr>\n",
       "    <tr>\n",
       "      <th>1</th>\n",
       "      <td>St. Valentine's Day Giveaway</td>\n",
       "      <td>EU, CIS, APAC, N.America</td>\n",
       "      <td>2020-02-14</td>\n",
       "      <td>2020-02-16</td>\n",
       "    </tr>\n",
       "    <tr>\n",
       "      <th>2</th>\n",
       "      <td>St. Patric's Day Promo</td>\n",
       "      <td>EU, N.America</td>\n",
       "      <td>2020-03-17</td>\n",
       "      <td>2020-03-19</td>\n",
       "    </tr>\n",
       "    <tr>\n",
       "      <th>3</th>\n",
       "      <td>Easter Promo</td>\n",
       "      <td>EU, CIS, APAC, N.America</td>\n",
       "      <td>2020-04-12</td>\n",
       "      <td>2020-04-19</td>\n",
       "    </tr>\n",
       "    <tr>\n",
       "      <th>4</th>\n",
       "      <td>4th of July Promo</td>\n",
       "      <td>N.America</td>\n",
       "      <td>2020-07-04</td>\n",
       "      <td>2020-07-11</td>\n",
       "    </tr>\n",
       "  </tbody>\n",
       "</table>\n",
       "</div>"
      ],
      "text/plain": [
       "                           name                   regions    start_dt  \\\n",
       "0      Christmas&New Year Promo             EU, N.America  2020-12-25   \n",
       "1  St. Valentine's Day Giveaway  EU, CIS, APAC, N.America  2020-02-14   \n",
       "2        St. Patric's Day Promo             EU, N.America  2020-03-17   \n",
       "3                  Easter Promo  EU, CIS, APAC, N.America  2020-04-12   \n",
       "4             4th of July Promo                 N.America  2020-07-04   \n",
       "\n",
       "    finish_dt  \n",
       "0  2021-01-03  \n",
       "1  2020-02-16  \n",
       "2  2020-03-19  \n",
       "3  2020-04-19  \n",
       "4  2020-07-11  "
      ]
     },
     "metadata": {},
     "output_type": "display_data"
    },
    {
     "name": "stdout",
     "output_type": "stream",
     "text": [
      "<class 'pandas.core.frame.DataFrame'>\n",
      "RangeIndex: 14 entries, 0 to 13\n",
      "Data columns (total 4 columns):\n",
      " #   Column     Non-Null Count  Dtype \n",
      "---  ------     --------------  ----- \n",
      " 0   name       14 non-null     object\n",
      " 1   regions    14 non-null     object\n",
      " 2   start_dt   14 non-null     object\n",
      " 3   finish_dt  14 non-null     object\n",
      "dtypes: object(4)\n",
      "memory usage: 576.0+ bytes\n"
     ]
    }
   ],
   "source": [
    "display(marketing_events.head())\n",
    "marketing_events.info()"
   ]
  },
  {
   "cell_type": "markdown",
   "id": "1d243916",
   "metadata": {},
   "source": [
    "Представляет собой  календарь маркетинговых событий на 2020 год.\n",
    "Таблица содержит информацию о маркетинговых событиях: их названии, регионе и времени проведения. В талице 14 строк, пропущенных значений нет.  \n",
    "Данные в колонках 'start_dt' и 'finish_dt' необходимо привести к формату даты."
   ]
  },
  {
   "cell_type": "code",
   "execution_count": 6,
   "id": "8cf74641",
   "metadata": {},
   "outputs": [
    {
     "data": {
      "text/html": [
       "<div>\n",
       "<style scoped>\n",
       "    .dataframe tbody tr th:only-of-type {\n",
       "        vertical-align: middle;\n",
       "    }\n",
       "\n",
       "    .dataframe tbody tr th {\n",
       "        vertical-align: top;\n",
       "    }\n",
       "\n",
       "    .dataframe thead th {\n",
       "        text-align: right;\n",
       "    }\n",
       "</style>\n",
       "<table border=\"1\" class=\"dataframe\">\n",
       "  <thead>\n",
       "    <tr style=\"text-align: right;\">\n",
       "      <th></th>\n",
       "      <th>user_id</th>\n",
       "      <th>first_date</th>\n",
       "      <th>region</th>\n",
       "      <th>device</th>\n",
       "    </tr>\n",
       "  </thead>\n",
       "  <tbody>\n",
       "    <tr>\n",
       "      <th>0</th>\n",
       "      <td>D72A72121175D8BE</td>\n",
       "      <td>2020-12-07</td>\n",
       "      <td>EU</td>\n",
       "      <td>PC</td>\n",
       "    </tr>\n",
       "    <tr>\n",
       "      <th>1</th>\n",
       "      <td>F1C668619DFE6E65</td>\n",
       "      <td>2020-12-07</td>\n",
       "      <td>N.America</td>\n",
       "      <td>Android</td>\n",
       "    </tr>\n",
       "    <tr>\n",
       "      <th>2</th>\n",
       "      <td>2E1BF1D4C37EA01F</td>\n",
       "      <td>2020-12-07</td>\n",
       "      <td>EU</td>\n",
       "      <td>PC</td>\n",
       "    </tr>\n",
       "    <tr>\n",
       "      <th>3</th>\n",
       "      <td>50734A22C0C63768</td>\n",
       "      <td>2020-12-07</td>\n",
       "      <td>EU</td>\n",
       "      <td>iPhone</td>\n",
       "    </tr>\n",
       "    <tr>\n",
       "      <th>4</th>\n",
       "      <td>E1BDDCE0DAFA2679</td>\n",
       "      <td>2020-12-07</td>\n",
       "      <td>N.America</td>\n",
       "      <td>iPhone</td>\n",
       "    </tr>\n",
       "  </tbody>\n",
       "</table>\n",
       "</div>"
      ],
      "text/plain": [
       "            user_id  first_date     region   device\n",
       "0  D72A72121175D8BE  2020-12-07         EU       PC\n",
       "1  F1C668619DFE6E65  2020-12-07  N.America  Android\n",
       "2  2E1BF1D4C37EA01F  2020-12-07         EU       PC\n",
       "3  50734A22C0C63768  2020-12-07         EU   iPhone\n",
       "4  E1BDDCE0DAFA2679  2020-12-07  N.America   iPhone"
      ]
     },
     "metadata": {},
     "output_type": "display_data"
    },
    {
     "name": "stdout",
     "output_type": "stream",
     "text": [
      "<class 'pandas.core.frame.DataFrame'>\n",
      "RangeIndex: 61733 entries, 0 to 61732\n",
      "Data columns (total 4 columns):\n",
      " #   Column      Non-Null Count  Dtype \n",
      "---  ------      --------------  ----- \n",
      " 0   user_id     61733 non-null  object\n",
      " 1   first_date  61733 non-null  object\n",
      " 2   region      61733 non-null  object\n",
      " 3   device      61733 non-null  object\n",
      "dtypes: object(4)\n",
      "memory usage: 1.9+ MB\n"
     ]
    }
   ],
   "source": [
    "display(new_users.head())\n",
    "new_users.info()"
   ]
  },
  {
   "cell_type": "markdown",
   "id": "0c568d34",
   "metadata": {},
   "source": [
    "Таблица содержит информацию о пользователях, зарегистрировавшиеся с 7 до 21 декабря 2020 года. Представлены данные о пользовавателях, такие как id пользователя, дата регистрации, регион регистрации и устройство, с которого произошла регистрация пользователя.  \n",
    "В таблице 61733 строки, пропущенных значений нет.\n",
    "'first_date' нужно привести к формату даты."
   ]
  },
  {
   "cell_type": "code",
   "execution_count": 7,
   "id": "3e4c06ae",
   "metadata": {},
   "outputs": [
    {
     "data": {
      "text/html": [
       "<div>\n",
       "<style scoped>\n",
       "    .dataframe tbody tr th:only-of-type {\n",
       "        vertical-align: middle;\n",
       "    }\n",
       "\n",
       "    .dataframe tbody tr th {\n",
       "        vertical-align: top;\n",
       "    }\n",
       "\n",
       "    .dataframe thead th {\n",
       "        text-align: right;\n",
       "    }\n",
       "</style>\n",
       "<table border=\"1\" class=\"dataframe\">\n",
       "  <thead>\n",
       "    <tr style=\"text-align: right;\">\n",
       "      <th></th>\n",
       "      <th>user_id</th>\n",
       "      <th>group</th>\n",
       "      <th>ab_test</th>\n",
       "    </tr>\n",
       "  </thead>\n",
       "  <tbody>\n",
       "    <tr>\n",
       "      <th>0</th>\n",
       "      <td>D1ABA3E2887B6A73</td>\n",
       "      <td>A</td>\n",
       "      <td>recommender_system_test</td>\n",
       "    </tr>\n",
       "    <tr>\n",
       "      <th>1</th>\n",
       "      <td>A7A3664BD6242119</td>\n",
       "      <td>A</td>\n",
       "      <td>recommender_system_test</td>\n",
       "    </tr>\n",
       "    <tr>\n",
       "      <th>2</th>\n",
       "      <td>DABC14FDDFADD29E</td>\n",
       "      <td>A</td>\n",
       "      <td>recommender_system_test</td>\n",
       "    </tr>\n",
       "    <tr>\n",
       "      <th>3</th>\n",
       "      <td>04988C5DF189632E</td>\n",
       "      <td>A</td>\n",
       "      <td>recommender_system_test</td>\n",
       "    </tr>\n",
       "    <tr>\n",
       "      <th>4</th>\n",
       "      <td>482F14783456D21B</td>\n",
       "      <td>B</td>\n",
       "      <td>recommender_system_test</td>\n",
       "    </tr>\n",
       "  </tbody>\n",
       "</table>\n",
       "</div>"
      ],
      "text/plain": [
       "            user_id group                  ab_test\n",
       "0  D1ABA3E2887B6A73     A  recommender_system_test\n",
       "1  A7A3664BD6242119     A  recommender_system_test\n",
       "2  DABC14FDDFADD29E     A  recommender_system_test\n",
       "3  04988C5DF189632E     A  recommender_system_test\n",
       "4  482F14783456D21B     B  recommender_system_test"
      ]
     },
     "metadata": {},
     "output_type": "display_data"
    },
    {
     "name": "stdout",
     "output_type": "stream",
     "text": [
      "<class 'pandas.core.frame.DataFrame'>\n",
      "RangeIndex: 18268 entries, 0 to 18267\n",
      "Data columns (total 3 columns):\n",
      " #   Column   Non-Null Count  Dtype \n",
      "---  ------   --------------  ----- \n",
      " 0   user_id  18268 non-null  object\n",
      " 1   group    18268 non-null  object\n",
      " 2   ab_test  18268 non-null  object\n",
      "dtypes: object(3)\n",
      "memory usage: 428.3+ KB\n"
     ]
    }
   ],
   "source": [
    "display(participants.head())\n",
    "participants.info()"
   ]
  },
  {
   "cell_type": "markdown",
   "id": "9a98a632",
   "metadata": {},
   "source": [
    "таблица участников тестов. Содержит такую информация об участниках теста: идентификатор пользователя, группа пользователя и название теста.\n",
    "В таблице 18268 строк, пропущенных значений не выявлено, типы данных корректны."
   ]
  },
  {
   "cell_type": "markdown",
   "id": "633123de",
   "metadata": {},
   "source": [
    "## **2.2 Преобразование типов данных**"
   ]
  },
  {
   "cell_type": "markdown",
   "id": "8befa88e",
   "metadata": {},
   "source": [
    "В прошлом пункте работы выяснили, что во всех таблицах столбцы, содержащие информацию о времени (дате) необходимо привнести к формату даты."
   ]
  },
  {
   "cell_type": "code",
   "execution_count": 8,
   "id": "a4d371f5",
   "metadata": {},
   "outputs": [],
   "source": [
    "events['event_dt'] = pd.to_datetime(events['event_dt'])\n",
    "marketing_events['start_dt'] = pd.to_datetime(marketing_events['start_dt'])\n",
    "marketing_events['finish_dt'] = pd.to_datetime(marketing_events['finish_dt'])\n",
    "new_users['first_date'] = pd.to_datetime(new_users['first_date'])"
   ]
  },
  {
   "cell_type": "code",
   "execution_count": 9,
   "id": "c0827a25",
   "metadata": {},
   "outputs": [
    {
     "name": "stdout",
     "output_type": "stream",
     "text": [
      "<class 'pandas.core.frame.DataFrame'>\n",
      "RangeIndex: 440317 entries, 0 to 440316\n",
      "Data columns (total 4 columns):\n",
      " #   Column      Non-Null Count   Dtype         \n",
      "---  ------      --------------   -----         \n",
      " 0   user_id     440317 non-null  object        \n",
      " 1   event_dt    440317 non-null  datetime64[ns]\n",
      " 2   event_name  440317 non-null  object        \n",
      " 3   details     62740 non-null   float64       \n",
      "dtypes: datetime64[ns](1), float64(1), object(2)\n",
      "memory usage: 13.4+ MB\n"
     ]
    },
    {
     "data": {
      "text/plain": [
       "None"
      ]
     },
     "metadata": {},
     "output_type": "display_data"
    },
    {
     "name": "stdout",
     "output_type": "stream",
     "text": [
      "<class 'pandas.core.frame.DataFrame'>\n",
      "RangeIndex: 14 entries, 0 to 13\n",
      "Data columns (total 4 columns):\n",
      " #   Column     Non-Null Count  Dtype         \n",
      "---  ------     --------------  -----         \n",
      " 0   name       14 non-null     object        \n",
      " 1   regions    14 non-null     object        \n",
      " 2   start_dt   14 non-null     datetime64[ns]\n",
      " 3   finish_dt  14 non-null     datetime64[ns]\n",
      "dtypes: datetime64[ns](2), object(2)\n",
      "memory usage: 576.0+ bytes\n"
     ]
    },
    {
     "data": {
      "text/plain": [
       "None"
      ]
     },
     "metadata": {},
     "output_type": "display_data"
    },
    {
     "name": "stdout",
     "output_type": "stream",
     "text": [
      "<class 'pandas.core.frame.DataFrame'>\n",
      "RangeIndex: 61733 entries, 0 to 61732\n",
      "Data columns (total 4 columns):\n",
      " #   Column      Non-Null Count  Dtype         \n",
      "---  ------      --------------  -----         \n",
      " 0   user_id     61733 non-null  object        \n",
      " 1   first_date  61733 non-null  datetime64[ns]\n",
      " 2   region      61733 non-null  object        \n",
      " 3   device      61733 non-null  object        \n",
      "dtypes: datetime64[ns](1), object(3)\n",
      "memory usage: 1.9+ MB\n"
     ]
    }
   ],
   "source": [
    "display(events.info())\n",
    "\n",
    "display(marketing_events.info())\n",
    "\n",
    "new_users.info()"
   ]
  },
  {
   "cell_type": "markdown",
   "id": "3c57819b",
   "metadata": {},
   "source": [
    "## **2.3 Анализ пропусков в дубликатов**"
   ]
  },
  {
   "cell_type": "code",
   "execution_count": 10,
   "id": "7e8a7587",
   "metadata": {},
   "outputs": [
    {
     "name": "stdout",
     "output_type": "stream",
     "text": [
      "Кол-во дубликатов 0\n",
      "Кол-во дубликатов 0\n",
      "Кол-во дубликатов 0\n",
      "Кол-во дубликатов 0\n"
     ]
    }
   ],
   "source": [
    "# проверка на явные дубликаты\n",
    "print('Кол-во дубликатов', events.duplicated().sum())\n",
    "print('Кол-во дубликатов', marketing_events.duplicated().sum())\n",
    "print('Кол-во дубликатов', new_users.duplicated().sum())\n",
    "print('Кол-во дубликатов', participants.duplicated().sum())"
   ]
  },
  {
   "cell_type": "markdown",
   "id": "c9a7aac7",
   "metadata": {},
   "source": [
    "Дубликатов в данных не найдено."
   ]
  },
  {
   "cell_type": "markdown",
   "id": "4eed9fd9",
   "metadata": {},
   "source": [
    "В таблице 'events' есть пропуски."
   ]
  },
  {
   "cell_type": "code",
   "execution_count": 11,
   "id": "9fe0dd25",
   "metadata": {},
   "outputs": [
    {
     "data": {
      "text/plain": [
       "user_id            0\n",
       "event_dt           0\n",
       "event_name         0\n",
       "details       377577\n",
       "dtype: int64"
      ]
     },
     "execution_count": 11,
     "metadata": {},
     "output_type": "execute_result"
    }
   ],
   "source": [
    "events.isnull().sum()"
   ]
  },
  {
   "cell_type": "code",
   "execution_count": 12,
   "id": "a4ee83e8",
   "metadata": {},
   "outputs": [
    {
     "data": {
      "text/html": [
       "<style type=\"text/css\">\n",
       "#T_4c246_row0_col0, #T_4c246_row1_col0, #T_4c246_row2_col0 {\n",
       "  background-color: #3b4cc0;\n",
       "  color: #f1f1f1;\n",
       "}\n",
       "#T_4c246_row3_col0 {\n",
       "  background-color: #b40426;\n",
       "  color: #f1f1f1;\n",
       "}\n",
       "</style>\n",
       "<table id=\"T_4c246\">\n",
       "  <thead>\n",
       "    <tr>\n",
       "      <th class=\"blank level0\" >&nbsp;</th>\n",
       "      <th id=\"T_4c246_level0_col0\" class=\"col_heading level0 col0\" >0</th>\n",
       "    </tr>\n",
       "  </thead>\n",
       "  <tbody>\n",
       "    <tr>\n",
       "      <th id=\"T_4c246_level0_row0\" class=\"row_heading level0 row0\" >user_id</th>\n",
       "      <td id=\"T_4c246_row0_col0\" class=\"data row0 col0\" >0.000000</td>\n",
       "    </tr>\n",
       "    <tr>\n",
       "      <th id=\"T_4c246_level0_row1\" class=\"row_heading level0 row1\" >event_dt</th>\n",
       "      <td id=\"T_4c246_row1_col0\" class=\"data row1 col0\" >0.000000</td>\n",
       "    </tr>\n",
       "    <tr>\n",
       "      <th id=\"T_4c246_level0_row2\" class=\"row_heading level0 row2\" >event_name</th>\n",
       "      <td id=\"T_4c246_row2_col0\" class=\"data row2 col0\" >0.000000</td>\n",
       "    </tr>\n",
       "    <tr>\n",
       "      <th id=\"T_4c246_level0_row3\" class=\"row_heading level0 row3\" >details</th>\n",
       "      <td id=\"T_4c246_row3_col0\" class=\"data row3 col0\" >86.000000</td>\n",
       "    </tr>\n",
       "  </tbody>\n",
       "</table>\n"
      ],
      "text/plain": [
       "<pandas.io.formats.style.Styler at 0x1a534ffe830>"
      ]
     },
     "execution_count": 12,
     "metadata": {},
     "output_type": "execute_result"
    }
   ],
   "source": [
    "pd.DataFrame(round(events.isna().mean()*100,)).style.background_gradient('coolwarm')"
   ]
  },
  {
   "cell_type": "markdown",
   "id": "bd43baa1",
   "metadata": {},
   "source": [
    "В столбце 'details' таблицы 'events' содержится 86% пропусков. Рассмотрим их подробнее."
   ]
  },
  {
   "cell_type": "code",
   "execution_count": 13,
   "id": "97234471",
   "metadata": {},
   "outputs": [
    {
     "data": {
      "text/html": [
       "<div>\n",
       "<style scoped>\n",
       "    .dataframe tbody tr th:only-of-type {\n",
       "        vertical-align: middle;\n",
       "    }\n",
       "\n",
       "    .dataframe tbody tr th {\n",
       "        vertical-align: top;\n",
       "    }\n",
       "\n",
       "    .dataframe thead th {\n",
       "        text-align: right;\n",
       "    }\n",
       "</style>\n",
       "<table border=\"1\" class=\"dataframe\">\n",
       "  <thead>\n",
       "    <tr style=\"text-align: right;\">\n",
       "      <th></th>\n",
       "      <th>user_id</th>\n",
       "      <th>event_dt</th>\n",
       "      <th>details</th>\n",
       "    </tr>\n",
       "    <tr>\n",
       "      <th>event_name</th>\n",
       "      <th></th>\n",
       "      <th></th>\n",
       "      <th></th>\n",
       "    </tr>\n",
       "  </thead>\n",
       "  <tbody>\n",
       "    <tr>\n",
       "      <th>login</th>\n",
       "      <td>189552</td>\n",
       "      <td>189552</td>\n",
       "      <td>0</td>\n",
       "    </tr>\n",
       "    <tr>\n",
       "      <th>product_cart</th>\n",
       "      <td>62462</td>\n",
       "      <td>62462</td>\n",
       "      <td>0</td>\n",
       "    </tr>\n",
       "    <tr>\n",
       "      <th>product_page</th>\n",
       "      <td>125563</td>\n",
       "      <td>125563</td>\n",
       "      <td>0</td>\n",
       "    </tr>\n",
       "    <tr>\n",
       "      <th>purchase</th>\n",
       "      <td>62740</td>\n",
       "      <td>62740</td>\n",
       "      <td>62740</td>\n",
       "    </tr>\n",
       "  </tbody>\n",
       "</table>\n",
       "</div>"
      ],
      "text/plain": [
       "              user_id  event_dt  details\n",
       "event_name                              \n",
       "login          189552    189552        0\n",
       "product_cart    62462     62462        0\n",
       "product_page   125563    125563        0\n",
       "purchase        62740     62740    62740"
      ]
     },
     "execution_count": 13,
     "metadata": {},
     "output_type": "execute_result"
    }
   ],
   "source": [
    "events.groupby('event_name').count()"
   ]
  },
  {
   "cell_type": "code",
   "execution_count": 14,
   "id": "8d072080",
   "metadata": {},
   "outputs": [
    {
     "data": {
      "text/html": [
       "<div>\n",
       "<style scoped>\n",
       "    .dataframe tbody tr th:only-of-type {\n",
       "        vertical-align: middle;\n",
       "    }\n",
       "\n",
       "    .dataframe tbody tr th {\n",
       "        vertical-align: top;\n",
       "    }\n",
       "\n",
       "    .dataframe thead th {\n",
       "        text-align: right;\n",
       "    }\n",
       "</style>\n",
       "<table border=\"1\" class=\"dataframe\">\n",
       "  <thead>\n",
       "    <tr style=\"text-align: right;\">\n",
       "      <th></th>\n",
       "      <th>user_id</th>\n",
       "      <th>event_dt</th>\n",
       "      <th>event_name</th>\n",
       "      <th>details</th>\n",
       "    </tr>\n",
       "  </thead>\n",
       "  <tbody>\n",
       "    <tr>\n",
       "      <th>0</th>\n",
       "      <td>E1BDDCE0DAFA2679</td>\n",
       "      <td>2020-12-07 20:22:03</td>\n",
       "      <td>purchase</td>\n",
       "      <td>99.99</td>\n",
       "    </tr>\n",
       "    <tr>\n",
       "      <th>1</th>\n",
       "      <td>7B6452F081F49504</td>\n",
       "      <td>2020-12-07 09:22:53</td>\n",
       "      <td>purchase</td>\n",
       "      <td>9.99</td>\n",
       "    </tr>\n",
       "    <tr>\n",
       "      <th>2</th>\n",
       "      <td>9CD9F34546DF254C</td>\n",
       "      <td>2020-12-07 12:59:29</td>\n",
       "      <td>purchase</td>\n",
       "      <td>4.99</td>\n",
       "    </tr>\n",
       "    <tr>\n",
       "      <th>3</th>\n",
       "      <td>96F27A054B191457</td>\n",
       "      <td>2020-12-07 04:02:40</td>\n",
       "      <td>purchase</td>\n",
       "      <td>4.99</td>\n",
       "    </tr>\n",
       "    <tr>\n",
       "      <th>4</th>\n",
       "      <td>1FD7660FDF94CA1F</td>\n",
       "      <td>2020-12-07 10:15:09</td>\n",
       "      <td>purchase</td>\n",
       "      <td>4.99</td>\n",
       "    </tr>\n",
       "    <tr>\n",
       "      <th>...</th>\n",
       "      <td>...</td>\n",
       "      <td>...</td>\n",
       "      <td>...</td>\n",
       "      <td>...</td>\n",
       "    </tr>\n",
       "    <tr>\n",
       "      <th>62735</th>\n",
       "      <td>1455450835F72F5E</td>\n",
       "      <td>2020-12-30 09:27:10</td>\n",
       "      <td>purchase</td>\n",
       "      <td>4.99</td>\n",
       "    </tr>\n",
       "    <tr>\n",
       "      <th>62736</th>\n",
       "      <td>339C4C55021A83C6</td>\n",
       "      <td>2020-12-30 12:55:08</td>\n",
       "      <td>purchase</td>\n",
       "      <td>9.99</td>\n",
       "    </tr>\n",
       "    <tr>\n",
       "      <th>62737</th>\n",
       "      <td>D1553B56FFA8974B</td>\n",
       "      <td>2020-12-30 03:15:35</td>\n",
       "      <td>purchase</td>\n",
       "      <td>4.99</td>\n",
       "    </tr>\n",
       "    <tr>\n",
       "      <th>62738</th>\n",
       "      <td>245E85F65C358E08</td>\n",
       "      <td>2020-12-30 19:35:55</td>\n",
       "      <td>purchase</td>\n",
       "      <td>9.99</td>\n",
       "    </tr>\n",
       "    <tr>\n",
       "      <th>62739</th>\n",
       "      <td>F80C9BDDEA02E53C</td>\n",
       "      <td>2020-12-30 09:53:39</td>\n",
       "      <td>purchase</td>\n",
       "      <td>4.99</td>\n",
       "    </tr>\n",
       "  </tbody>\n",
       "</table>\n",
       "<p>62740 rows × 4 columns</p>\n",
       "</div>"
      ],
      "text/plain": [
       "                user_id            event_dt event_name  details\n",
       "0      E1BDDCE0DAFA2679 2020-12-07 20:22:03   purchase    99.99\n",
       "1      7B6452F081F49504 2020-12-07 09:22:53   purchase     9.99\n",
       "2      9CD9F34546DF254C 2020-12-07 12:59:29   purchase     4.99\n",
       "3      96F27A054B191457 2020-12-07 04:02:40   purchase     4.99\n",
       "4      1FD7660FDF94CA1F 2020-12-07 10:15:09   purchase     4.99\n",
       "...                 ...                 ...        ...      ...\n",
       "62735  1455450835F72F5E 2020-12-30 09:27:10   purchase     4.99\n",
       "62736  339C4C55021A83C6 2020-12-30 12:55:08   purchase     9.99\n",
       "62737  D1553B56FFA8974B 2020-12-30 03:15:35   purchase     4.99\n",
       "62738  245E85F65C358E08 2020-12-30 19:35:55   purchase     9.99\n",
       "62739  F80C9BDDEA02E53C 2020-12-30 09:53:39   purchase     4.99\n",
       "\n",
       "[62740 rows x 4 columns]"
      ]
     },
     "execution_count": 14,
     "metadata": {},
     "output_type": "execute_result"
    }
   ],
   "source": [
    "events.query('event_name==\"purchase\"')"
   ]
  },
  {
   "cell_type": "markdown",
   "id": "7f79406d",
   "metadata": {},
   "source": [
    "Данные в столбце details есть только для события purchase. В остальных столбцах пропуски. Скорее всего этот столбец заполняется именно на этапе покупки. В нем содержится информация о стоимости покупки. \n",
    "\n",
    "В данном случае пропуски заполнять нецелесообразно."
   ]
  },
  {
   "cell_type": "markdown",
   "id": "a673e9c5",
   "metadata": {},
   "source": [
    "# 3 **Оценка корректности проведения теста по следующим параметрам:** \n",
    "## 3.1 **Соответствие данных требованиям технического задания**"
   ]
  },
  {
   "cell_type": "markdown",
   "id": "f51e6ef4",
   "metadata": {},
   "source": [
    "Проверим, соответствует ли аудитория проведения теста представленному ТЗ. Объединим таблица участников тестов с таблицей с данными пользователей, указанных при регистрации и таблицей с действиями пользователей."
   ]
  },
  {
   "cell_type": "code",
   "execution_count": 15,
   "id": "c12bff74",
   "metadata": {},
   "outputs": [
    {
     "data": {
      "text/html": [
       "<div>\n",
       "<style scoped>\n",
       "    .dataframe tbody tr th:only-of-type {\n",
       "        vertical-align: middle;\n",
       "    }\n",
       "\n",
       "    .dataframe tbody tr th {\n",
       "        vertical-align: top;\n",
       "    }\n",
       "\n",
       "    .dataframe thead th {\n",
       "        text-align: right;\n",
       "    }\n",
       "</style>\n",
       "<table border=\"1\" class=\"dataframe\">\n",
       "  <thead>\n",
       "    <tr style=\"text-align: right;\">\n",
       "      <th></th>\n",
       "      <th>user_id</th>\n",
       "      <th>group</th>\n",
       "      <th>ab_test</th>\n",
       "      <th>first_date</th>\n",
       "      <th>region</th>\n",
       "      <th>device</th>\n",
       "      <th>event_dt</th>\n",
       "      <th>event_name</th>\n",
       "      <th>details</th>\n",
       "    </tr>\n",
       "  </thead>\n",
       "  <tbody>\n",
       "    <tr>\n",
       "      <th>0</th>\n",
       "      <td>D1ABA3E2887B6A73</td>\n",
       "      <td>A</td>\n",
       "      <td>recommender_system_test</td>\n",
       "      <td>2020-12-07</td>\n",
       "      <td>EU</td>\n",
       "      <td>PC</td>\n",
       "      <td>2020-12-07 14:43:27</td>\n",
       "      <td>purchase</td>\n",
       "      <td>99.99</td>\n",
       "    </tr>\n",
       "    <tr>\n",
       "      <th>1</th>\n",
       "      <td>D1ABA3E2887B6A73</td>\n",
       "      <td>A</td>\n",
       "      <td>recommender_system_test</td>\n",
       "      <td>2020-12-07</td>\n",
       "      <td>EU</td>\n",
       "      <td>PC</td>\n",
       "      <td>2020-12-25 00:04:56</td>\n",
       "      <td>purchase</td>\n",
       "      <td>4.99</td>\n",
       "    </tr>\n",
       "    <tr>\n",
       "      <th>2</th>\n",
       "      <td>D1ABA3E2887B6A73</td>\n",
       "      <td>A</td>\n",
       "      <td>recommender_system_test</td>\n",
       "      <td>2020-12-07</td>\n",
       "      <td>EU</td>\n",
       "      <td>PC</td>\n",
       "      <td>2020-12-07 14:43:29</td>\n",
       "      <td>product_cart</td>\n",
       "      <td>NaN</td>\n",
       "    </tr>\n",
       "    <tr>\n",
       "      <th>3</th>\n",
       "      <td>D1ABA3E2887B6A73</td>\n",
       "      <td>A</td>\n",
       "      <td>recommender_system_test</td>\n",
       "      <td>2020-12-07</td>\n",
       "      <td>EU</td>\n",
       "      <td>PC</td>\n",
       "      <td>2020-12-25 00:04:57</td>\n",
       "      <td>product_cart</td>\n",
       "      <td>NaN</td>\n",
       "    </tr>\n",
       "    <tr>\n",
       "      <th>4</th>\n",
       "      <td>D1ABA3E2887B6A73</td>\n",
       "      <td>A</td>\n",
       "      <td>recommender_system_test</td>\n",
       "      <td>2020-12-07</td>\n",
       "      <td>EU</td>\n",
       "      <td>PC</td>\n",
       "      <td>2020-12-07 14:43:27</td>\n",
       "      <td>product_page</td>\n",
       "      <td>NaN</td>\n",
       "    </tr>\n",
       "    <tr>\n",
       "      <th>...</th>\n",
       "      <td>...</td>\n",
       "      <td>...</td>\n",
       "      <td>...</td>\n",
       "      <td>...</td>\n",
       "      <td>...</td>\n",
       "      <td>...</td>\n",
       "      <td>...</td>\n",
       "      <td>...</td>\n",
       "      <td>...</td>\n",
       "    </tr>\n",
       "    <tr>\n",
       "      <th>110363</th>\n",
       "      <td>63FBE257B05F2245</td>\n",
       "      <td>A</td>\n",
       "      <td>interface_eu_test</td>\n",
       "      <td>2020-12-20</td>\n",
       "      <td>EU</td>\n",
       "      <td>Android</td>\n",
       "      <td>2020-12-23 13:03:17</td>\n",
       "      <td>login</td>\n",
       "      <td>NaN</td>\n",
       "    </tr>\n",
       "    <tr>\n",
       "      <th>110364</th>\n",
       "      <td>79F9ABFB029CF724</td>\n",
       "      <td>B</td>\n",
       "      <td>interface_eu_test</td>\n",
       "      <td>2020-12-14</td>\n",
       "      <td>EU</td>\n",
       "      <td>PC</td>\n",
       "      <td>2020-12-14 19:12:49</td>\n",
       "      <td>login</td>\n",
       "      <td>NaN</td>\n",
       "    </tr>\n",
       "    <tr>\n",
       "      <th>110365</th>\n",
       "      <td>79F9ABFB029CF724</td>\n",
       "      <td>B</td>\n",
       "      <td>interface_eu_test</td>\n",
       "      <td>2020-12-14</td>\n",
       "      <td>EU</td>\n",
       "      <td>PC</td>\n",
       "      <td>2020-12-15 01:50:22</td>\n",
       "      <td>login</td>\n",
       "      <td>NaN</td>\n",
       "    </tr>\n",
       "    <tr>\n",
       "      <th>110366</th>\n",
       "      <td>79F9ABFB029CF724</td>\n",
       "      <td>B</td>\n",
       "      <td>interface_eu_test</td>\n",
       "      <td>2020-12-14</td>\n",
       "      <td>EU</td>\n",
       "      <td>PC</td>\n",
       "      <td>2020-12-16 19:27:36</td>\n",
       "      <td>login</td>\n",
       "      <td>NaN</td>\n",
       "    </tr>\n",
       "    <tr>\n",
       "      <th>110367</th>\n",
       "      <td>79F9ABFB029CF724</td>\n",
       "      <td>B</td>\n",
       "      <td>interface_eu_test</td>\n",
       "      <td>2020-12-14</td>\n",
       "      <td>EU</td>\n",
       "      <td>PC</td>\n",
       "      <td>2020-12-20 13:04:31</td>\n",
       "      <td>login</td>\n",
       "      <td>NaN</td>\n",
       "    </tr>\n",
       "  </tbody>\n",
       "</table>\n",
       "<p>110368 rows × 9 columns</p>\n",
       "</div>"
      ],
      "text/plain": [
       "                 user_id group                  ab_test first_date region  \\\n",
       "0       D1ABA3E2887B6A73     A  recommender_system_test 2020-12-07     EU   \n",
       "1       D1ABA3E2887B6A73     A  recommender_system_test 2020-12-07     EU   \n",
       "2       D1ABA3E2887B6A73     A  recommender_system_test 2020-12-07     EU   \n",
       "3       D1ABA3E2887B6A73     A  recommender_system_test 2020-12-07     EU   \n",
       "4       D1ABA3E2887B6A73     A  recommender_system_test 2020-12-07     EU   \n",
       "...                  ...   ...                      ...        ...    ...   \n",
       "110363  63FBE257B05F2245     A        interface_eu_test 2020-12-20     EU   \n",
       "110364  79F9ABFB029CF724     B        interface_eu_test 2020-12-14     EU   \n",
       "110365  79F9ABFB029CF724     B        interface_eu_test 2020-12-14     EU   \n",
       "110366  79F9ABFB029CF724     B        interface_eu_test 2020-12-14     EU   \n",
       "110367  79F9ABFB029CF724     B        interface_eu_test 2020-12-14     EU   \n",
       "\n",
       "         device            event_dt    event_name  details  \n",
       "0            PC 2020-12-07 14:43:27      purchase    99.99  \n",
       "1            PC 2020-12-25 00:04:56      purchase     4.99  \n",
       "2            PC 2020-12-07 14:43:29  product_cart      NaN  \n",
       "3            PC 2020-12-25 00:04:57  product_cart      NaN  \n",
       "4            PC 2020-12-07 14:43:27  product_page      NaN  \n",
       "...         ...                 ...           ...      ...  \n",
       "110363  Android 2020-12-23 13:03:17         login      NaN  \n",
       "110364       PC 2020-12-14 19:12:49         login      NaN  \n",
       "110365       PC 2020-12-15 01:50:22         login      NaN  \n",
       "110366       PC 2020-12-16 19:27:36         login      NaN  \n",
       "110367       PC 2020-12-20 13:04:31         login      NaN  \n",
       "\n",
       "[110368 rows x 9 columns]"
      ]
     },
     "execution_count": 15,
     "metadata": {},
     "output_type": "execute_result"
    }
   ],
   "source": [
    "# объединенная таблица участников тестов\n",
    "df = participants.merge(new_users, on='user_id', how='left').merge(events, on='user_id', how='left')\n",
    "df"
   ]
  },
  {
   "cell_type": "markdown",
   "id": "d2292473",
   "metadata": {},
   "source": [
    "Проверим, сколько человек приняло участие в тесте."
   ]
  },
  {
   "cell_type": "code",
   "execution_count": 16,
   "id": "7f1c4c95",
   "metadata": {},
   "outputs": [
    {
     "name": "stdout",
     "output_type": "stream",
     "text": [
      "Количество участников теста: 6701\n"
     ]
    }
   ],
   "source": [
    "print('Количество участников теста:', \n",
    "      df.query('ab_test == \"recommender_system_test\"')['user_id'].nunique())"
   ]
  },
  {
   "cell_type": "code",
   "execution_count": 17,
   "id": "a0cdf2e0",
   "metadata": {},
   "outputs": [
    {
     "data": {
      "text/plain": [
       "group\n",
       "A    3824\n",
       "B    2877\n",
       "Name: user_id, dtype: int64"
      ]
     },
     "execution_count": 17,
     "metadata": {},
     "output_type": "execute_result"
    }
   ],
   "source": [
    "df.query('ab_test == \"recommender_system_test\"').groupby('group')['user_id'].nunique()"
   ]
  },
  {
   "cell_type": "markdown",
   "id": "d85b5597",
   "metadata": {},
   "source": [
    "В тесте recommender_system_test приняли участие 6701 человек, разделенные на 2 группы."
   ]
  },
  {
   "cell_type": "markdown",
   "id": "91111b25",
   "metadata": {},
   "source": [
    "Проверим, совпадают ли периоды привлечения новых пользователей и время проведения теста."
   ]
  },
  {
   "cell_type": "code",
   "execution_count": 18,
   "id": "09763019",
   "metadata": {},
   "outputs": [
    {
     "name": "stdout",
     "output_type": "stream",
     "text": [
      "Новые пользователи привлечены в период с 2020-12-07 00:00:00 по 2020-12-21 00:00:00.\n",
      "\n",
      "Минимальное время совершения событий 2020-12-07 00:05:57\n",
      "Максимальное время совершения событий 2020-12-30 12:42:57\n"
     ]
    }
   ],
   "source": [
    "print('Новые пользователи привлечены в период с {} по {}.'.format(\n",
    "    df.query('ab_test == \"recommender_system_test\"')['first_date'].min(),\n",
    "    df.query('ab_test == \"recommender_system_test\"')['first_date'].max()))\n",
    "print()\n",
    "# максимальное и минимальное время событий в датасете\n",
    "print('Минимальное время совершения событий', df.query('ab_test == \"recommender_system_test\"')['event_dt'].min())\n",
    "print('Максимальное время совершения событий', df.query('ab_test == \"recommender_system_test\"')['event_dt'].max())"
   ]
  },
  {
   "cell_type": "markdown",
   "id": "7e9e9a87",
   "metadata": {},
   "source": [
    "Дата запуска теста совпадает с ТЗ: 2020-12-07;  \n",
    "Дата остановки набора новых пользователей: по ТЗ - 2020-12-21, совпадает с ТЗ;  \n",
    "Дата остановки теста: по ТЗ - 2021-01-04, по факту - 2020-12-30.  \n",
    "Возможно, не все пользователи имели возможность совершить события в первые 14 дней после регистрации. Это может негативно сказаться на результатах тестирования."
   ]
  },
  {
   "cell_type": "markdown",
   "id": "16e794fd",
   "metadata": {},
   "source": [
    "Проверим долю пользователей из Европы, попавших в тест."
   ]
  },
  {
   "cell_type": "code",
   "execution_count": 19,
   "id": "5fa3b555",
   "metadata": {},
   "outputs": [
    {
     "name": "stdout",
     "output_type": "stream",
     "text": [
      "Доля пользователей из Европы, участвующих в тесте: 15.0 %\n"
     ]
    }
   ],
   "source": [
    "print('Доля пользователей из Европы, участвующих в тесте:', round(\n",
    "    df.query('ab_test == \"recommender_system_test\" and region == \"EU\"')['user_id'].nunique() / \n",
    "    new_users.query('first_date >= \"2020-12-07\" and first_date <= \"2020-12-21\" & region == \"EU\"')['user_id'].nunique()*100, 2), '%')\n"
   ]
  },
  {
   "cell_type": "markdown",
   "id": "2b53eec1",
   "metadata": {},
   "source": [
    "В тесте приняли участие только 15 % новых пользователя из Европы."
   ]
  },
  {
   "cell_type": "markdown",
   "id": "f2a10b20",
   "metadata": {},
   "source": [
    "## 3.2 **Время проведения теста**"
   ]
  },
  {
   "cell_type": "markdown",
   "id": "5c654205",
   "metadata": {},
   "source": [
    "Проверим, что время проведения теста не совпадает с маркетинговыми и другими активностями."
   ]
  },
  {
   "cell_type": "code",
   "execution_count": 20,
   "id": "b17f799a",
   "metadata": {},
   "outputs": [
    {
     "data": {
      "text/html": [
       "<div>\n",
       "<style scoped>\n",
       "    .dataframe tbody tr th:only-of-type {\n",
       "        vertical-align: middle;\n",
       "    }\n",
       "\n",
       "    .dataframe tbody tr th {\n",
       "        vertical-align: top;\n",
       "    }\n",
       "\n",
       "    .dataframe thead th {\n",
       "        text-align: right;\n",
       "    }\n",
       "</style>\n",
       "<table border=\"1\" class=\"dataframe\">\n",
       "  <thead>\n",
       "    <tr style=\"text-align: right;\">\n",
       "      <th></th>\n",
       "      <th>name</th>\n",
       "      <th>regions</th>\n",
       "      <th>start_dt</th>\n",
       "      <th>finish_dt</th>\n",
       "    </tr>\n",
       "  </thead>\n",
       "  <tbody>\n",
       "    <tr>\n",
       "      <th>0</th>\n",
       "      <td>Christmas&amp;New Year Promo</td>\n",
       "      <td>EU, N.America</td>\n",
       "      <td>2020-12-25</td>\n",
       "      <td>2021-01-03</td>\n",
       "    </tr>\n",
       "    <tr>\n",
       "      <th>1</th>\n",
       "      <td>St. Valentine's Day Giveaway</td>\n",
       "      <td>EU, CIS, APAC, N.America</td>\n",
       "      <td>2020-02-14</td>\n",
       "      <td>2020-02-16</td>\n",
       "    </tr>\n",
       "    <tr>\n",
       "      <th>2</th>\n",
       "      <td>St. Patric's Day Promo</td>\n",
       "      <td>EU, N.America</td>\n",
       "      <td>2020-03-17</td>\n",
       "      <td>2020-03-19</td>\n",
       "    </tr>\n",
       "    <tr>\n",
       "      <th>3</th>\n",
       "      <td>Easter Promo</td>\n",
       "      <td>EU, CIS, APAC, N.America</td>\n",
       "      <td>2020-04-12</td>\n",
       "      <td>2020-04-19</td>\n",
       "    </tr>\n",
       "    <tr>\n",
       "      <th>4</th>\n",
       "      <td>4th of July Promo</td>\n",
       "      <td>N.America</td>\n",
       "      <td>2020-07-04</td>\n",
       "      <td>2020-07-11</td>\n",
       "    </tr>\n",
       "    <tr>\n",
       "      <th>5</th>\n",
       "      <td>Black Friday Ads Campaign</td>\n",
       "      <td>EU, CIS, APAC, N.America</td>\n",
       "      <td>2020-11-26</td>\n",
       "      <td>2020-12-01</td>\n",
       "    </tr>\n",
       "    <tr>\n",
       "      <th>6</th>\n",
       "      <td>Chinese New Year Promo</td>\n",
       "      <td>APAC</td>\n",
       "      <td>2020-01-25</td>\n",
       "      <td>2020-02-07</td>\n",
       "    </tr>\n",
       "    <tr>\n",
       "      <th>7</th>\n",
       "      <td>Labor day (May 1st) Ads Campaign</td>\n",
       "      <td>EU, CIS, APAC</td>\n",
       "      <td>2020-05-01</td>\n",
       "      <td>2020-05-03</td>\n",
       "    </tr>\n",
       "    <tr>\n",
       "      <th>8</th>\n",
       "      <td>International Women's Day Promo</td>\n",
       "      <td>EU, CIS, APAC</td>\n",
       "      <td>2020-03-08</td>\n",
       "      <td>2020-03-10</td>\n",
       "    </tr>\n",
       "    <tr>\n",
       "      <th>9</th>\n",
       "      <td>Victory Day CIS (May 9th) Event</td>\n",
       "      <td>CIS</td>\n",
       "      <td>2020-05-09</td>\n",
       "      <td>2020-05-11</td>\n",
       "    </tr>\n",
       "    <tr>\n",
       "      <th>10</th>\n",
       "      <td>CIS New Year Gift Lottery</td>\n",
       "      <td>CIS</td>\n",
       "      <td>2020-12-30</td>\n",
       "      <td>2021-01-07</td>\n",
       "    </tr>\n",
       "    <tr>\n",
       "      <th>11</th>\n",
       "      <td>Dragon Boat Festival Giveaway</td>\n",
       "      <td>APAC</td>\n",
       "      <td>2020-06-25</td>\n",
       "      <td>2020-07-01</td>\n",
       "    </tr>\n",
       "    <tr>\n",
       "      <th>12</th>\n",
       "      <td>Single's Day Gift Promo</td>\n",
       "      <td>APAC</td>\n",
       "      <td>2020-11-11</td>\n",
       "      <td>2020-11-12</td>\n",
       "    </tr>\n",
       "    <tr>\n",
       "      <th>13</th>\n",
       "      <td>Chinese Moon Festival</td>\n",
       "      <td>APAC</td>\n",
       "      <td>2020-10-01</td>\n",
       "      <td>2020-10-07</td>\n",
       "    </tr>\n",
       "  </tbody>\n",
       "</table>\n",
       "</div>"
      ],
      "text/plain": [
       "                                name                   regions   start_dt  \\\n",
       "0           Christmas&New Year Promo             EU, N.America 2020-12-25   \n",
       "1       St. Valentine's Day Giveaway  EU, CIS, APAC, N.America 2020-02-14   \n",
       "2             St. Patric's Day Promo             EU, N.America 2020-03-17   \n",
       "3                       Easter Promo  EU, CIS, APAC, N.America 2020-04-12   \n",
       "4                  4th of July Promo                 N.America 2020-07-04   \n",
       "5          Black Friday Ads Campaign  EU, CIS, APAC, N.America 2020-11-26   \n",
       "6             Chinese New Year Promo                      APAC 2020-01-25   \n",
       "7   Labor day (May 1st) Ads Campaign             EU, CIS, APAC 2020-05-01   \n",
       "8    International Women's Day Promo             EU, CIS, APAC 2020-03-08   \n",
       "9    Victory Day CIS (May 9th) Event                       CIS 2020-05-09   \n",
       "10         CIS New Year Gift Lottery                       CIS 2020-12-30   \n",
       "11     Dragon Boat Festival Giveaway                      APAC 2020-06-25   \n",
       "12           Single's Day Gift Promo                      APAC 2020-11-11   \n",
       "13             Chinese Moon Festival                      APAC 2020-10-01   \n",
       "\n",
       "    finish_dt  \n",
       "0  2021-01-03  \n",
       "1  2020-02-16  \n",
       "2  2020-03-19  \n",
       "3  2020-04-19  \n",
       "4  2020-07-11  \n",
       "5  2020-12-01  \n",
       "6  2020-02-07  \n",
       "7  2020-05-03  \n",
       "8  2020-03-10  \n",
       "9  2020-05-11  \n",
       "10 2021-01-07  \n",
       "11 2020-07-01  \n",
       "12 2020-11-12  \n",
       "13 2020-10-07  "
      ]
     },
     "execution_count": 20,
     "metadata": {},
     "output_type": "execute_result"
    }
   ],
   "source": [
    "marketing_events"
   ]
  },
  {
   "cell_type": "code",
   "execution_count": 21,
   "id": "7abf6761",
   "metadata": {},
   "outputs": [
    {
     "data": {
      "text/html": [
       "<div>\n",
       "<style scoped>\n",
       "    .dataframe tbody tr th:only-of-type {\n",
       "        vertical-align: middle;\n",
       "    }\n",
       "\n",
       "    .dataframe tbody tr th {\n",
       "        vertical-align: top;\n",
       "    }\n",
       "\n",
       "    .dataframe thead th {\n",
       "        text-align: right;\n",
       "    }\n",
       "</style>\n",
       "<table border=\"1\" class=\"dataframe\">\n",
       "  <thead>\n",
       "    <tr style=\"text-align: right;\">\n",
       "      <th></th>\n",
       "      <th>name</th>\n",
       "      <th>regions</th>\n",
       "      <th>start_dt</th>\n",
       "      <th>finish_dt</th>\n",
       "    </tr>\n",
       "  </thead>\n",
       "  <tbody>\n",
       "    <tr>\n",
       "      <th>0</th>\n",
       "      <td>Christmas&amp;New Year Promo</td>\n",
       "      <td>EU, N.America</td>\n",
       "      <td>2020-12-25</td>\n",
       "      <td>2021-01-03</td>\n",
       "    </tr>\n",
       "  </tbody>\n",
       "</table>\n",
       "</div>"
      ],
      "text/plain": [
       "                       name        regions   start_dt  finish_dt\n",
       "0  Christmas&New Year Promo  EU, N.America 2020-12-25 2021-01-03"
      ]
     },
     "execution_count": 21,
     "metadata": {},
     "output_type": "execute_result"
    }
   ],
   "source": [
    "# Найдем список маркетинговый событий, которые окончились до даты начала регистрацции новых пользователей.\n",
    "mark = marketing_events.loc[marketing_events['finish_dt']<\"2020-12-07\"]\n",
    "mark = list(mark['name'])\n",
    "\n",
    "# удалим этот список из списка маркетинговых событий\n",
    "mark1 = marketing_events.query('name not in @mark')\n",
    "\n",
    "# отффильтруем по региону\n",
    "mark1 = mark1[mark1['regions'].str.contains(\"EU\")]\n",
    "mark1"
   ]
  },
  {
   "cell_type": "markdown",
   "id": "4a31df63",
   "metadata": {},
   "source": [
    "Во время теста в регионе EU была запущена новогодняя акция.Это могло сказаться на результатах теста."
   ]
  },
  {
   "cell_type": "markdown",
   "id": "7c700733",
   "metadata": {},
   "source": [
    "## 3.3 **Аудитория теста**"
   ]
  },
  {
   "cell_type": "markdown",
   "id": "78b170ac",
   "metadata": {},
   "source": [
    "Проверим, есть ли пересечения с конкурирующим тестом и есть ли пользователи, участвующие в двух группах теста одновременно."
   ]
  },
  {
   "cell_type": "code",
   "execution_count": 22,
   "id": "ecbd6d68",
   "metadata": {},
   "outputs": [
    {
     "data": {
      "text/plain": [
       "user_id    0\n",
       "group      0\n",
       "dtype: int64"
      ]
     },
     "execution_count": 22,
     "metadata": {},
     "output_type": "execute_result"
    }
   ],
   "source": [
    "# подсчитаем, в скольки группах состоит каждый из пользователей теста recommender_system_test\n",
    "v = df.query('ab_test==\"recommender_system_test\"').groupby('user_id')['group'].nunique()\n",
    "# подсчитаем, сколько пользователей попали в обе группы\n",
    "v.reset_index().query('group > 1').count()"
   ]
  },
  {
   "cell_type": "markdown",
   "id": "2c98e399",
   "metadata": {},
   "source": [
    "Пересечений пользователей групп А и В теста recommender_system_test не выявлено."
   ]
  },
  {
   "cell_type": "code",
   "execution_count": 23,
   "id": "fae31aef",
   "metadata": {},
   "outputs": [
    {
     "data": {
      "text/plain": [
       "user_id    1602\n",
       "ab_test    1602\n",
       "dtype: int64"
      ]
     },
     "execution_count": 23,
     "metadata": {},
     "output_type": "execute_result"
    }
   ],
   "source": [
    "a = df.groupby('user_id')['ab_test'].nunique()\n",
    "a.reset_index().query('ab_test > 1').count()"
   ]
  },
  {
   "cell_type": "markdown",
   "id": "d84d1b02",
   "metadata": {},
   "source": [
    "1602 человека участвовали одновременно в двух тестах. Это может повлиять на результаты тестирования, если пользователи одновременно попали в группы А (в одном из тестов) и В (в другом тесте). Проверим это."
   ]
  },
  {
   "cell_type": "code",
   "execution_count": 24,
   "id": "c69cada5",
   "metadata": {},
   "outputs": [],
   "source": [
    "# найдем пересечения пользователей групп А recommender_system_test и группы В interface_eu_test\n",
    "a_t1_b_t2=list(set(df.query('ab_test == \"recommender_system_test\" and group == \"A\"').user_id) & \n",
    "                     set(df.query('ab_test == \"interface_eu_test\" and group == \"B\"').user_id))\n",
    "# найдем пересечения пользователей групп В recommender_system_test и группы В interface_eu_test\n",
    "b_t1_t2 = list(set(df.query('ab_test == \"recommender_system_test\" and group == \"B\"').user_id) & \n",
    "                     set(df.query('ab_test == \"interface_eu_test\" and group == \"B\"').user_id))   "
   ]
  },
  {
   "cell_type": "code",
   "execution_count": 25,
   "id": "846fc292",
   "metadata": {},
   "outputs": [
    {
     "name": "stdout",
     "output_type": "stream",
     "text": [
      "439\n",
      "344\n"
     ]
    }
   ],
   "source": [
    "print(len(a_t1_b_t2))\n",
    "print(len(b_t1_t2))"
   ]
  },
  {
   "cell_type": "markdown",
   "id": "3be5c0b9",
   "metadata": {},
   "source": [
    "Таких пользователей нашлось 783 человека. Создадим новый df_new, в который войдут участники recommender_system_test, за исключением пересекающихся с конкурирующим тестом. "
   ]
  },
  {
   "cell_type": "code",
   "execution_count": 26,
   "id": "e118b81f",
   "metadata": {},
   "outputs": [
    {
     "data": {
      "text/html": [
       "<div>\n",
       "<style scoped>\n",
       "    .dataframe tbody tr th:only-of-type {\n",
       "        vertical-align: middle;\n",
       "    }\n",
       "\n",
       "    .dataframe tbody tr th {\n",
       "        vertical-align: top;\n",
       "    }\n",
       "\n",
       "    .dataframe thead th {\n",
       "        text-align: right;\n",
       "    }\n",
       "</style>\n",
       "<table border=\"1\" class=\"dataframe\">\n",
       "  <thead>\n",
       "    <tr style=\"text-align: right;\">\n",
       "      <th></th>\n",
       "      <th>user_id</th>\n",
       "      <th>group</th>\n",
       "      <th>ab_test</th>\n",
       "      <th>first_date</th>\n",
       "      <th>region</th>\n",
       "      <th>device</th>\n",
       "      <th>event_dt</th>\n",
       "      <th>event_name</th>\n",
       "      <th>details</th>\n",
       "    </tr>\n",
       "  </thead>\n",
       "  <tbody>\n",
       "    <tr>\n",
       "      <th>0</th>\n",
       "      <td>D1ABA3E2887B6A73</td>\n",
       "      <td>A</td>\n",
       "      <td>recommender_system_test</td>\n",
       "      <td>2020-12-07</td>\n",
       "      <td>EU</td>\n",
       "      <td>PC</td>\n",
       "      <td>2020-12-07 14:43:27</td>\n",
       "      <td>purchase</td>\n",
       "      <td>99.99</td>\n",
       "    </tr>\n",
       "    <tr>\n",
       "      <th>1</th>\n",
       "      <td>D1ABA3E2887B6A73</td>\n",
       "      <td>A</td>\n",
       "      <td>recommender_system_test</td>\n",
       "      <td>2020-12-07</td>\n",
       "      <td>EU</td>\n",
       "      <td>PC</td>\n",
       "      <td>2020-12-25 00:04:56</td>\n",
       "      <td>purchase</td>\n",
       "      <td>4.99</td>\n",
       "    </tr>\n",
       "    <tr>\n",
       "      <th>2</th>\n",
       "      <td>D1ABA3E2887B6A73</td>\n",
       "      <td>A</td>\n",
       "      <td>recommender_system_test</td>\n",
       "      <td>2020-12-07</td>\n",
       "      <td>EU</td>\n",
       "      <td>PC</td>\n",
       "      <td>2020-12-07 14:43:29</td>\n",
       "      <td>product_cart</td>\n",
       "      <td>NaN</td>\n",
       "    </tr>\n",
       "    <tr>\n",
       "      <th>3</th>\n",
       "      <td>D1ABA3E2887B6A73</td>\n",
       "      <td>A</td>\n",
       "      <td>recommender_system_test</td>\n",
       "      <td>2020-12-07</td>\n",
       "      <td>EU</td>\n",
       "      <td>PC</td>\n",
       "      <td>2020-12-25 00:04:57</td>\n",
       "      <td>product_cart</td>\n",
       "      <td>NaN</td>\n",
       "    </tr>\n",
       "    <tr>\n",
       "      <th>4</th>\n",
       "      <td>D1ABA3E2887B6A73</td>\n",
       "      <td>A</td>\n",
       "      <td>recommender_system_test</td>\n",
       "      <td>2020-12-07</td>\n",
       "      <td>EU</td>\n",
       "      <td>PC</td>\n",
       "      <td>2020-12-07 14:43:27</td>\n",
       "      <td>product_page</td>\n",
       "      <td>NaN</td>\n",
       "    </tr>\n",
       "    <tr>\n",
       "      <th>...</th>\n",
       "      <td>...</td>\n",
       "      <td>...</td>\n",
       "      <td>...</td>\n",
       "      <td>...</td>\n",
       "      <td>...</td>\n",
       "      <td>...</td>\n",
       "      <td>...</td>\n",
       "      <td>...</td>\n",
       "      <td>...</td>\n",
       "    </tr>\n",
       "    <tr>\n",
       "      <th>27719</th>\n",
       "      <td>6715343AFBA285AE</td>\n",
       "      <td>B</td>\n",
       "      <td>recommender_system_test</td>\n",
       "      <td>2020-12-07</td>\n",
       "      <td>CIS</td>\n",
       "      <td>Android</td>\n",
       "      <td>2020-12-07 10:12:15</td>\n",
       "      <td>login</td>\n",
       "      <td>NaN</td>\n",
       "    </tr>\n",
       "    <tr>\n",
       "      <th>27720</th>\n",
       "      <td>6715343AFBA285AE</td>\n",
       "      <td>B</td>\n",
       "      <td>recommender_system_test</td>\n",
       "      <td>2020-12-07</td>\n",
       "      <td>CIS</td>\n",
       "      <td>Android</td>\n",
       "      <td>2020-12-08 22:51:16</td>\n",
       "      <td>login</td>\n",
       "      <td>NaN</td>\n",
       "    </tr>\n",
       "    <tr>\n",
       "      <th>27721</th>\n",
       "      <td>6715343AFBA285AE</td>\n",
       "      <td>B</td>\n",
       "      <td>recommender_system_test</td>\n",
       "      <td>2020-12-07</td>\n",
       "      <td>CIS</td>\n",
       "      <td>Android</td>\n",
       "      <td>2020-12-09 02:28:03</td>\n",
       "      <td>login</td>\n",
       "      <td>NaN</td>\n",
       "    </tr>\n",
       "    <tr>\n",
       "      <th>27722</th>\n",
       "      <td>6715343AFBA285AE</td>\n",
       "      <td>B</td>\n",
       "      <td>recommender_system_test</td>\n",
       "      <td>2020-12-07</td>\n",
       "      <td>CIS</td>\n",
       "      <td>Android</td>\n",
       "      <td>2020-12-10 22:55:14</td>\n",
       "      <td>login</td>\n",
       "      <td>NaN</td>\n",
       "    </tr>\n",
       "    <tr>\n",
       "      <th>27723</th>\n",
       "      <td>6715343AFBA285AE</td>\n",
       "      <td>B</td>\n",
       "      <td>recommender_system_test</td>\n",
       "      <td>2020-12-07</td>\n",
       "      <td>CIS</td>\n",
       "      <td>Android</td>\n",
       "      <td>2020-12-14 12:40:41</td>\n",
       "      <td>login</td>\n",
       "      <td>NaN</td>\n",
       "    </tr>\n",
       "  </tbody>\n",
       "</table>\n",
       "<p>24516 rows × 9 columns</p>\n",
       "</div>"
      ],
      "text/plain": [
       "                user_id group                  ab_test first_date region  \\\n",
       "0      D1ABA3E2887B6A73     A  recommender_system_test 2020-12-07     EU   \n",
       "1      D1ABA3E2887B6A73     A  recommender_system_test 2020-12-07     EU   \n",
       "2      D1ABA3E2887B6A73     A  recommender_system_test 2020-12-07     EU   \n",
       "3      D1ABA3E2887B6A73     A  recommender_system_test 2020-12-07     EU   \n",
       "4      D1ABA3E2887B6A73     A  recommender_system_test 2020-12-07     EU   \n",
       "...                 ...   ...                      ...        ...    ...   \n",
       "27719  6715343AFBA285AE     B  recommender_system_test 2020-12-07    CIS   \n",
       "27720  6715343AFBA285AE     B  recommender_system_test 2020-12-07    CIS   \n",
       "27721  6715343AFBA285AE     B  recommender_system_test 2020-12-07    CIS   \n",
       "27722  6715343AFBA285AE     B  recommender_system_test 2020-12-07    CIS   \n",
       "27723  6715343AFBA285AE     B  recommender_system_test 2020-12-07    CIS   \n",
       "\n",
       "        device            event_dt    event_name  details  \n",
       "0           PC 2020-12-07 14:43:27      purchase    99.99  \n",
       "1           PC 2020-12-25 00:04:56      purchase     4.99  \n",
       "2           PC 2020-12-07 14:43:29  product_cart      NaN  \n",
       "3           PC 2020-12-25 00:04:57  product_cart      NaN  \n",
       "4           PC 2020-12-07 14:43:27  product_page      NaN  \n",
       "...        ...                 ...           ...      ...  \n",
       "27719  Android 2020-12-07 10:12:15         login      NaN  \n",
       "27720  Android 2020-12-08 22:51:16         login      NaN  \n",
       "27721  Android 2020-12-09 02:28:03         login      NaN  \n",
       "27722  Android 2020-12-10 22:55:14         login      NaN  \n",
       "27723  Android 2020-12-14 12:40:41         login      NaN  \n",
       "\n",
       "[24516 rows x 9 columns]"
      ]
     },
     "execution_count": 26,
     "metadata": {},
     "output_type": "execute_result"
    }
   ],
   "source": [
    "df_new = df.query('user_id != @b_t1_t2 and user_id != @a_t1_b_t2 and ab_test ==\"recommender_system_test\"')\n",
    "df_new"
   ]
  },
  {
   "cell_type": "code",
   "execution_count": 27,
   "id": "20f5c28d",
   "metadata": {},
   "outputs": [
    {
     "data": {
      "text/html": [
       "<div>\n",
       "<style scoped>\n",
       "    .dataframe tbody tr th:only-of-type {\n",
       "        vertical-align: middle;\n",
       "    }\n",
       "\n",
       "    .dataframe tbody tr th {\n",
       "        vertical-align: top;\n",
       "    }\n",
       "\n",
       "    .dataframe thead th {\n",
       "        text-align: right;\n",
       "    }\n",
       "</style>\n",
       "<table border=\"1\" class=\"dataframe\">\n",
       "  <thead>\n",
       "    <tr style=\"text-align: right;\">\n",
       "      <th></th>\n",
       "      <th>user_id</th>\n",
       "      <th>group</th>\n",
       "      <th>ab_test</th>\n",
       "      <th>first_date</th>\n",
       "      <th>region</th>\n",
       "      <th>device</th>\n",
       "      <th>event_dt</th>\n",
       "      <th>event_name</th>\n",
       "      <th>details</th>\n",
       "    </tr>\n",
       "  </thead>\n",
       "  <tbody>\n",
       "    <tr>\n",
       "      <th>0</th>\n",
       "      <td>D1ABA3E2887B6A73</td>\n",
       "      <td>A</td>\n",
       "      <td>recommender_system_test</td>\n",
       "      <td>2020-12-07</td>\n",
       "      <td>EU</td>\n",
       "      <td>PC</td>\n",
       "      <td>2020-12-07 14:43:27</td>\n",
       "      <td>purchase</td>\n",
       "      <td>99.99</td>\n",
       "    </tr>\n",
       "    <tr>\n",
       "      <th>1</th>\n",
       "      <td>D1ABA3E2887B6A73</td>\n",
       "      <td>A</td>\n",
       "      <td>recommender_system_test</td>\n",
       "      <td>2020-12-07</td>\n",
       "      <td>EU</td>\n",
       "      <td>PC</td>\n",
       "      <td>2020-12-25 00:04:56</td>\n",
       "      <td>purchase</td>\n",
       "      <td>4.99</td>\n",
       "    </tr>\n",
       "    <tr>\n",
       "      <th>2</th>\n",
       "      <td>D1ABA3E2887B6A73</td>\n",
       "      <td>A</td>\n",
       "      <td>recommender_system_test</td>\n",
       "      <td>2020-12-07</td>\n",
       "      <td>EU</td>\n",
       "      <td>PC</td>\n",
       "      <td>2020-12-07 14:43:29</td>\n",
       "      <td>product_cart</td>\n",
       "      <td>NaN</td>\n",
       "    </tr>\n",
       "    <tr>\n",
       "      <th>3</th>\n",
       "      <td>D1ABA3E2887B6A73</td>\n",
       "      <td>A</td>\n",
       "      <td>recommender_system_test</td>\n",
       "      <td>2020-12-07</td>\n",
       "      <td>EU</td>\n",
       "      <td>PC</td>\n",
       "      <td>2020-12-25 00:04:57</td>\n",
       "      <td>product_cart</td>\n",
       "      <td>NaN</td>\n",
       "    </tr>\n",
       "    <tr>\n",
       "      <th>4</th>\n",
       "      <td>D1ABA3E2887B6A73</td>\n",
       "      <td>A</td>\n",
       "      <td>recommender_system_test</td>\n",
       "      <td>2020-12-07</td>\n",
       "      <td>EU</td>\n",
       "      <td>PC</td>\n",
       "      <td>2020-12-07 14:43:27</td>\n",
       "      <td>product_page</td>\n",
       "      <td>NaN</td>\n",
       "    </tr>\n",
       "    <tr>\n",
       "      <th>...</th>\n",
       "      <td>...</td>\n",
       "      <td>...</td>\n",
       "      <td>...</td>\n",
       "      <td>...</td>\n",
       "      <td>...</td>\n",
       "      <td>...</td>\n",
       "      <td>...</td>\n",
       "      <td>...</td>\n",
       "      <td>...</td>\n",
       "    </tr>\n",
       "    <tr>\n",
       "      <th>26285</th>\n",
       "      <td>80712ED4EA1B52A5</td>\n",
       "      <td>A</td>\n",
       "      <td>recommender_system_test</td>\n",
       "      <td>2020-12-14</td>\n",
       "      <td>EU</td>\n",
       "      <td>Android</td>\n",
       "      <td>2020-12-15 20:10:06</td>\n",
       "      <td>product_page</td>\n",
       "      <td>NaN</td>\n",
       "    </tr>\n",
       "    <tr>\n",
       "      <th>26286</th>\n",
       "      <td>80712ED4EA1B52A5</td>\n",
       "      <td>A</td>\n",
       "      <td>recommender_system_test</td>\n",
       "      <td>2020-12-14</td>\n",
       "      <td>EU</td>\n",
       "      <td>Android</td>\n",
       "      <td>2020-12-20 20:01:34</td>\n",
       "      <td>product_page</td>\n",
       "      <td>NaN</td>\n",
       "    </tr>\n",
       "    <tr>\n",
       "      <th>26287</th>\n",
       "      <td>80712ED4EA1B52A5</td>\n",
       "      <td>A</td>\n",
       "      <td>recommender_system_test</td>\n",
       "      <td>2020-12-14</td>\n",
       "      <td>EU</td>\n",
       "      <td>Android</td>\n",
       "      <td>2020-12-14 05:48:50</td>\n",
       "      <td>login</td>\n",
       "      <td>NaN</td>\n",
       "    </tr>\n",
       "    <tr>\n",
       "      <th>26288</th>\n",
       "      <td>80712ED4EA1B52A5</td>\n",
       "      <td>A</td>\n",
       "      <td>recommender_system_test</td>\n",
       "      <td>2020-12-14</td>\n",
       "      <td>EU</td>\n",
       "      <td>Android</td>\n",
       "      <td>2020-12-15 20:10:03</td>\n",
       "      <td>login</td>\n",
       "      <td>NaN</td>\n",
       "    </tr>\n",
       "    <tr>\n",
       "      <th>26289</th>\n",
       "      <td>80712ED4EA1B52A5</td>\n",
       "      <td>A</td>\n",
       "      <td>recommender_system_test</td>\n",
       "      <td>2020-12-14</td>\n",
       "      <td>EU</td>\n",
       "      <td>Android</td>\n",
       "      <td>2020-12-20 20:01:32</td>\n",
       "      <td>login</td>\n",
       "      <td>NaN</td>\n",
       "    </tr>\n",
       "  </tbody>\n",
       "</table>\n",
       "<p>23082 rows × 9 columns</p>\n",
       "</div>"
      ],
      "text/plain": [
       "                user_id group                  ab_test first_date region  \\\n",
       "0      D1ABA3E2887B6A73     A  recommender_system_test 2020-12-07     EU   \n",
       "1      D1ABA3E2887B6A73     A  recommender_system_test 2020-12-07     EU   \n",
       "2      D1ABA3E2887B6A73     A  recommender_system_test 2020-12-07     EU   \n",
       "3      D1ABA3E2887B6A73     A  recommender_system_test 2020-12-07     EU   \n",
       "4      D1ABA3E2887B6A73     A  recommender_system_test 2020-12-07     EU   \n",
       "...                 ...   ...                      ...        ...    ...   \n",
       "26285  80712ED4EA1B52A5     A  recommender_system_test 2020-12-14     EU   \n",
       "26286  80712ED4EA1B52A5     A  recommender_system_test 2020-12-14     EU   \n",
       "26287  80712ED4EA1B52A5     A  recommender_system_test 2020-12-14     EU   \n",
       "26288  80712ED4EA1B52A5     A  recommender_system_test 2020-12-14     EU   \n",
       "26289  80712ED4EA1B52A5     A  recommender_system_test 2020-12-14     EU   \n",
       "\n",
       "        device            event_dt    event_name  details  \n",
       "0           PC 2020-12-07 14:43:27      purchase    99.99  \n",
       "1           PC 2020-12-25 00:04:56      purchase     4.99  \n",
       "2           PC 2020-12-07 14:43:29  product_cart      NaN  \n",
       "3           PC 2020-12-25 00:04:57  product_cart      NaN  \n",
       "4           PC 2020-12-07 14:43:27  product_page      NaN  \n",
       "...        ...                 ...           ...      ...  \n",
       "26285  Android 2020-12-15 20:10:06  product_page      NaN  \n",
       "26286  Android 2020-12-20 20:01:34  product_page      NaN  \n",
       "26287  Android 2020-12-14 05:48:50         login      NaN  \n",
       "26288  Android 2020-12-15 20:10:03         login      NaN  \n",
       "26289  Android 2020-12-20 20:01:32         login      NaN  \n",
       "\n",
       "[23082 rows x 9 columns]"
      ]
     },
     "execution_count": 27,
     "metadata": {},
     "output_type": "execute_result"
    }
   ],
   "source": [
    "df_new = df_new.query('region==\"EU\"')\n",
    "df_new"
   ]
  },
  {
   "cell_type": "markdown",
   "id": "3b065fe5",
   "metadata": {},
   "source": [
    "По условиям ТЗ сроки теста - 14 дней, поэтому необходимо отфильтровать события, которые пользователи совершили после 14 дней от регистрации."
   ]
  },
  {
   "cell_type": "code",
   "execution_count": 28,
   "id": "4fa1cadf",
   "metadata": {},
   "outputs": [
    {
     "name": "stdout",
     "output_type": "stream",
     "text": [
      "Число участников теста после фильтрации событий: 5568\n"
     ]
    },
    {
     "name": "stderr",
     "output_type": "stream",
     "text": [
      "C:\\Users\\user\\AppData\\Local\\Temp\\ipykernel_14276\\3304922994.py:2: SettingWithCopyWarning:\n",
      "\n",
      "\n",
      "A value is trying to be set on a copy of a slice from a DataFrame.\n",
      "Try using .loc[row_indexer,col_indexer] = value instead\n",
      "\n",
      "See the caveats in the documentation: https://pandas.pydata.org/pandas-docs/stable/user_guide/indexing.html#returning-a-view-versus-a-copy\n",
      "\n",
      "C:\\Users\\user\\AppData\\Local\\Temp\\ipykernel_14276\\3304922994.py:3: SettingWithCopyWarning:\n",
      "\n",
      "\n",
      "A value is trying to be set on a copy of a slice from a DataFrame.\n",
      "Try using .loc[row_indexer,col_indexer] = value instead\n",
      "\n",
      "See the caveats in the documentation: https://pandas.pydata.org/pandas-docs/stable/user_guide/indexing.html#returning-a-view-versus-a-copy\n",
      "\n"
     ]
    }
   ],
   "source": [
    "#добавление столбца lifetime - сколько времени прошло от даты регистрации до совершенного события\n",
    "df_new['lifetime'] = df_new['event_dt'] - df_new['first_date']\n",
    "df_new['lifetime']=df_new['lifetime'].dt.days\n",
    "\n",
    "# срез по параметрам ТЗ\n",
    "last_events=df_new[df_new['lifetime']>14].index.to_list()\n",
    "df_new= df_new.query('index != @last_events')\n",
    "\n",
    "#преобразование типа \n",
    "#df_new['lifetime']=df_new['lifetime'].dt.round(freq = 'D')\n",
    "print('Число участников теста после фильтрации событий:', df_new['user_id'].nunique())"
   ]
  },
  {
   "cell_type": "markdown",
   "id": "b300e213",
   "metadata": {},
   "source": [
    "Проверим, соответствует ли время привлечения пользователей ТЗ."
   ]
  },
  {
   "cell_type": "code",
   "execution_count": 29,
   "id": "ed242572",
   "metadata": {},
   "outputs": [
    {
     "name": "stdout",
     "output_type": "stream",
     "text": [
      "Новые пользователи привлечены в период с 2020-12-07 00:00:00 по 2020-12-21 00:00:00.\n",
      "\n",
      "Минимальное время совершения событий 2020-12-07 00:05:57\n",
      "Максимальное время совершения событий 2020-12-29 23:38:29\n"
     ]
    }
   ],
   "source": [
    "print('Новые пользователи привлечены в период с {} по {}.'.format(\n",
    "    df_new['first_date'].min(),\n",
    "    df_new['first_date'].max()))\n",
    "print()\n",
    "# максимальное и минимальное время событий в датасете\n",
    "print('Минимальное время совершения событий', df_new['event_dt'].min())\n",
    "print('Максимальное время совершения событий', df_new['event_dt'].max())"
   ]
  },
  {
   "cell_type": "markdown",
   "id": "eb44b75e",
   "metadata": {},
   "source": [
    "Время привлечения новых пользователей соответствует ТЗ, а время окончания теста - 2020-12-29, возможно пользователи не совершали действий после указанной даты."
   ]
  },
  {
   "cell_type": "code",
   "execution_count": 30,
   "id": "a4cd4efa",
   "metadata": {},
   "outputs": [
    {
     "name": "stdout",
     "output_type": "stream",
     "text": [
      "Доля пользователей из Европы, участвующих в тесте: 9.02 %\n"
     ]
    }
   ],
   "source": [
    "print('Доля пользователей из Европы, участвующих в тесте:', round(\n",
    "    df_new['user_id'].nunique() / \n",
    "    new_users['user_id'].nunique()*100, 2), '%')"
   ]
  },
  {
   "cell_type": "code",
   "execution_count": 31,
   "id": "5ad1d2d1",
   "metadata": {},
   "outputs": [
    {
     "data": {
      "text/plain": [
       "group\n",
       "A    3195\n",
       "B    2373\n",
       "Name: user_id, dtype: int64"
      ]
     },
     "execution_count": 31,
     "metadata": {},
     "output_type": "execute_result"
    }
   ],
   "source": [
    "df_new.groupby('group')['user_id'].nunique()"
   ]
  },
  {
   "cell_type": "code",
   "execution_count": 32,
   "id": "d4b4034a",
   "metadata": {},
   "outputs": [
    {
     "data": {
      "text/plain": [
       "group\n",
       "A    57.38\n",
       "B    42.62\n",
       "Name: user_id, dtype: float64"
      ]
     },
     "execution_count": 32,
     "metadata": {},
     "output_type": "execute_result"
    }
   ],
   "source": [
    "(df_new.groupby('group')['user_id'].nunique()/df_new['user_id'].nunique()*100).round(2)"
   ]
  },
  {
   "cell_type": "code",
   "execution_count": 33,
   "id": "e004e76f",
   "metadata": {},
   "outputs": [
    {
     "name": "stdout",
     "output_type": "stream",
     "text": [
      "<class 'pandas.core.frame.DataFrame'>\n",
      "Int64Index: 22552 entries, 0 to 26289\n",
      "Data columns (total 10 columns):\n",
      " #   Column      Non-Null Count  Dtype         \n",
      "---  ------      --------------  -----         \n",
      " 0   user_id     22552 non-null  object        \n",
      " 1   group       22552 non-null  object        \n",
      " 2   ab_test     22552 non-null  object        \n",
      " 3   first_date  22552 non-null  datetime64[ns]\n",
      " 4   region      22552 non-null  object        \n",
      " 5   device      22552 non-null  object        \n",
      " 6   event_dt    20034 non-null  datetime64[ns]\n",
      " 7   event_name  20034 non-null  object        \n",
      " 8   details     2736 non-null   float64       \n",
      " 9   lifetime    20034 non-null  float64       \n",
      "dtypes: datetime64[ns](2), float64(2), object(6)\n",
      "memory usage: 1.9+ MB\n"
     ]
    }
   ],
   "source": [
    "df_new.info()"
   ]
  },
  {
   "cell_type": "markdown",
   "id": "7fa37197",
   "metadata": {},
   "source": [
    "В полученной таблице имеются пропуски в столбцах event_dt и event_name. Предполагаю, что некоторые из привлеченных и зарегистрированных пользователей не совершали никаких действий во время тестирования. Пока не будем удалять данные об этих пользователях."
   ]
  },
  {
   "cell_type": "markdown",
   "id": "9e9b02b7",
   "metadata": {},
   "source": [
    "По результатам фильтрации в тесте остались 5568 человек, из которых 57.38% попали в группу А, 42.62% - в группу В. Временные интервалы совпадают с ТЗ, доля новых пользователей из Европы, участвующих в тесте составила 9.02 %."
   ]
  },
  {
   "cell_type": "markdown",
   "id": "4be2580d",
   "metadata": {},
   "source": [
    "## 3.4 Промежуточный вывод по результатам оценки корректности проведения теста"
   ]
  },
  {
   "cell_type": "markdown",
   "id": "7b2ff482",
   "metadata": {},
   "source": [
    "По результатам оценки корректности проведения теста, его совпадению с ТЗ выявлено:\n",
    "- сроки набора новых пользователей в группы теста отличаются от ТЗ.\n",
    "- срок окончания теста раньше заявленного в ТЗ. Тест закончился 2020-12-30 18:28:55 - последнее совершенное событие у пользователей, вместо ожидаемого 2021-01-04. Возможно привлеченные пользователи перестали совершать действия, отражающиеся в результатах теста.\n",
    "- в тест было набрано 6701 человек вместо 6000 человек.\n",
    "- время проведения теста совпадает с новогодней маркетинговой акцией. В этот момент возможно аномальное поведение пользователей.\n",
    "\n",
    "В результате анализа состава участников теста выявлено \n",
    "- пересечение пользователей теста recommender_system_test и конкурирующего теста interface_eu_test, \n",
    "- события, совершенные свыше чем через 14 дней от даты регистрации пользователей и \n",
    "- пользователи из разных регионов, не только Европы.\n",
    "\n",
    "По результатам фильтрации в тесте остались 5568 человек, из которых 57.38% попали в группу А, 42.62% - в группу В. Временные интервалы совпадают с ТЗ, доля пользователей из Европы, участвующих в тесте составила 9,02 %.\n"
   ]
  },
  {
   "cell_type": "markdown",
   "id": "2a727026",
   "metadata": {},
   "source": [
    "# 4. **Исследовательский анализ данных**\n",
    "## 4.1 **Расчет количества событий на пользователя, распределение показателя в выборках**\n"
   ]
  },
  {
   "cell_type": "markdown",
   "id": "d26dfec0",
   "metadata": {},
   "source": [
    "Посмотрим сколько в среднем событий приходится на одного пользователя в каждой из групп."
   ]
  },
  {
   "cell_type": "code",
   "execution_count": 34,
   "id": "703000d2",
   "metadata": {},
   "outputs": [
    {
     "data": {
      "text/plain": [
       "A    16767\n",
       "B     5785\n",
       "Name: group, dtype: int64"
      ]
     },
     "execution_count": 34,
     "metadata": {},
     "output_type": "execute_result"
    }
   ],
   "source": [
    "# распределение всех событий по группам теста\n",
    "df_new.group.value_counts() "
   ]
  },
  {
   "cell_type": "code",
   "execution_count": 35,
   "id": "c7ddd137",
   "metadata": {},
   "outputs": [
    {
     "data": {
      "text/html": [
       "<div>\n",
       "<style scoped>\n",
       "    .dataframe tbody tr th:only-of-type {\n",
       "        vertical-align: middle;\n",
       "    }\n",
       "\n",
       "    .dataframe tbody tr th {\n",
       "        vertical-align: top;\n",
       "    }\n",
       "\n",
       "    .dataframe thead th {\n",
       "        text-align: right;\n",
       "    }\n",
       "</style>\n",
       "<table border=\"1\" class=\"dataframe\">\n",
       "  <thead>\n",
       "    <tr style=\"text-align: right;\">\n",
       "      <th></th>\n",
       "      <th>count_events</th>\n",
       "      <th>qty_users</th>\n",
       "      <th>events_per_user</th>\n",
       "    </tr>\n",
       "    <tr>\n",
       "      <th>group</th>\n",
       "      <th></th>\n",
       "      <th></th>\n",
       "      <th></th>\n",
       "    </tr>\n",
       "  </thead>\n",
       "  <tbody>\n",
       "    <tr>\n",
       "      <th>A</th>\n",
       "      <td>15851</td>\n",
       "      <td>3195</td>\n",
       "      <td>4.96</td>\n",
       "    </tr>\n",
       "    <tr>\n",
       "      <th>B</th>\n",
       "      <td>4183</td>\n",
       "      <td>2373</td>\n",
       "      <td>1.76</td>\n",
       "    </tr>\n",
       "  </tbody>\n",
       "</table>\n",
       "</div>"
      ],
      "text/plain": [
       "       count_events  qty_users  events_per_user\n",
       "group                                          \n",
       "A             15851       3195             4.96\n",
       "B              4183       2373             1.76"
      ]
     },
     "execution_count": 35,
     "metadata": {},
     "output_type": "execute_result"
    }
   ],
   "source": [
    "# количество сообытий по уникальным пользователям\n",
    "ab_events = (df_new.pivot_table(index='group', aggfunc={'event_dt': 'count', 'user_id': 'nunique'})\n",
    "             .rename(columns = {'event_dt': 'count_events', 'user_id': 'qty_users'}))\n",
    "\n",
    "# определим количество событий на каждого пользователя в группах\n",
    "ab_events['events_per_user'] = round(ab_events['count_events'] / ab_events['qty_users'], 2)\n",
    "\n",
    "ab_events"
   ]
  },
  {
   "cell_type": "markdown",
   "id": "e5aa3fb0",
   "metadata": {},
   "source": [
    "Распределение событий в группе неравномерное. В группе А событий значительно больше, но и участников в группе больше. В среднем, на участника группы А приходится 4,96 события, в группе В - 1,76 события."
   ]
  },
  {
   "cell_type": "markdown",
   "id": "73140985",
   "metadata": {},
   "source": [
    "Посмотрим, как распределены события в группах в зависимости от типа события. "
   ]
  },
  {
   "cell_type": "code",
   "execution_count": 36,
   "id": "8cb893d8",
   "metadata": {},
   "outputs": [
    {
     "data": {
      "text/plain": [
       "group\n",
       "A    3195\n",
       "B    2373\n",
       "Name: user_id, dtype: int64"
      ]
     },
     "execution_count": 36,
     "metadata": {},
     "output_type": "execute_result"
    }
   ],
   "source": [
    "df_new.groupby('group')['user_id'].nunique()"
   ]
  },
  {
   "cell_type": "code",
   "execution_count": 37,
   "id": "7b37cede",
   "metadata": {},
   "outputs": [
    {
     "data": {
      "text/html": [
       "<div>\n",
       "<style scoped>\n",
       "    .dataframe tbody tr th:only-of-type {\n",
       "        vertical-align: middle;\n",
       "    }\n",
       "\n",
       "    .dataframe tbody tr th {\n",
       "        vertical-align: top;\n",
       "    }\n",
       "\n",
       "    .dataframe thead th {\n",
       "        text-align: right;\n",
       "    }\n",
       "</style>\n",
       "<table border=\"1\" class=\"dataframe\">\n",
       "  <thead>\n",
       "    <tr style=\"text-align: right;\">\n",
       "      <th></th>\n",
       "      <th>event_name</th>\n",
       "      <th>group</th>\n",
       "      <th>user_id</th>\n",
       "      <th>mean</th>\n",
       "    </tr>\n",
       "  </thead>\n",
       "  <tbody>\n",
       "    <tr>\n",
       "      <th>0</th>\n",
       "      <td>login</td>\n",
       "      <td>A</td>\n",
       "      <td>7018</td>\n",
       "      <td>2.20</td>\n",
       "    </tr>\n",
       "    <tr>\n",
       "      <th>1</th>\n",
       "      <td>login</td>\n",
       "      <td>B</td>\n",
       "      <td>2036</td>\n",
       "      <td>0.86</td>\n",
       "    </tr>\n",
       "    <tr>\n",
       "      <th>2</th>\n",
       "      <td>product_cart</td>\n",
       "      <td>A</td>\n",
       "      <td>2114</td>\n",
       "      <td>0.66</td>\n",
       "    </tr>\n",
       "    <tr>\n",
       "      <th>3</th>\n",
       "      <td>product_cart</td>\n",
       "      <td>B</td>\n",
       "      <td>542</td>\n",
       "      <td>0.23</td>\n",
       "    </tr>\n",
       "    <tr>\n",
       "      <th>4</th>\n",
       "      <td>product_page</td>\n",
       "      <td>A</td>\n",
       "      <td>4514</td>\n",
       "      <td>1.41</td>\n",
       "    </tr>\n",
       "    <tr>\n",
       "      <th>5</th>\n",
       "      <td>product_page</td>\n",
       "      <td>B</td>\n",
       "      <td>1074</td>\n",
       "      <td>0.45</td>\n",
       "    </tr>\n",
       "    <tr>\n",
       "      <th>6</th>\n",
       "      <td>purchase</td>\n",
       "      <td>A</td>\n",
       "      <td>2205</td>\n",
       "      <td>0.69</td>\n",
       "    </tr>\n",
       "    <tr>\n",
       "      <th>7</th>\n",
       "      <td>purchase</td>\n",
       "      <td>B</td>\n",
       "      <td>531</td>\n",
       "      <td>0.22</td>\n",
       "    </tr>\n",
       "  </tbody>\n",
       "</table>\n",
       "</div>"
      ],
      "text/plain": [
       "     event_name group  user_id  mean\n",
       "0         login     A     7018  2.20\n",
       "1         login     B     2036  0.86\n",
       "2  product_cart     A     2114  0.66\n",
       "3  product_cart     B      542  0.23\n",
       "4  product_page     A     4514  1.41\n",
       "5  product_page     B     1074  0.45\n",
       "6      purchase     A     2205  0.69\n",
       "7      purchase     B      531  0.22"
      ]
     },
     "execution_count": 37,
     "metadata": {},
     "output_type": "execute_result"
    }
   ],
   "source": [
    "groups = df_new.pivot_table(index = ['event_name', 'group'], values = 'user_id', aggfunc = 'count')\n",
    "\n",
    "groups['mean'] = round(groups['user_id']/df_new.groupby('group')['user_id'].nunique(), 2)\n",
    "groups = groups.reset_index()\n",
    "groups"
   ]
  },
  {
   "cell_type": "code",
   "execution_count": 38,
   "id": "b337ef30",
   "metadata": {},
   "outputs": [
    {
     "data": {
      "image/png": "[encoded data removed]",
      "text/plain": [
       "<Figure size 640x480 with 1 Axes>"
      ]
     },
     "metadata": {},
     "output_type": "display_data"
    }
   ],
   "source": [
    "sns.barplot(x='event_name', y='mean', data=groups, hue='group')\n",
    "plt.title(label = \"Среднее количество событий на привлеченного пользователя в разрезе событий\", fontsize = 14)\n",
    "plt.ylabel('Среднее количество событий',  fontsize = 12)\n",
    "plt.xlabel('Событие', size = 12)\n",
    "plt.show(); "
   ]
  },
  {
   "cell_type": "markdown",
   "id": "1b7983f9",
   "metadata": {},
   "source": [
    "В группе А большее количество событий на пользователя приходится по всем событиям. Посмотрим на графики распределения."
   ]
  },
  {
   "cell_type": "code",
   "execution_count": 39,
   "id": "c9447b9c",
   "metadata": {},
   "outputs": [
    {
     "data": {
      "text/html": [
       "<div>\n",
       "<style scoped>\n",
       "    .dataframe tbody tr th:only-of-type {\n",
       "        vertical-align: middle;\n",
       "    }\n",
       "\n",
       "    .dataframe tbody tr th {\n",
       "        vertical-align: top;\n",
       "    }\n",
       "\n",
       "    .dataframe thead th {\n",
       "        text-align: right;\n",
       "    }\n",
       "</style>\n",
       "<table border=\"1\" class=\"dataframe\">\n",
       "  <thead>\n",
       "    <tr style=\"text-align: right;\">\n",
       "      <th></th>\n",
       "      <th>group</th>\n",
       "      <th>event_name</th>\n",
       "      <th>user_id</th>\n",
       "    </tr>\n",
       "  </thead>\n",
       "  <tbody>\n",
       "    <tr>\n",
       "      <th>0</th>\n",
       "      <td>A</td>\n",
       "      <td>0</td>\n",
       "      <td>916</td>\n",
       "    </tr>\n",
       "    <tr>\n",
       "      <th>1</th>\n",
       "      <td>A</td>\n",
       "      <td>1</td>\n",
       "      <td>28</td>\n",
       "    </tr>\n",
       "    <tr>\n",
       "      <th>2</th>\n",
       "      <td>A</td>\n",
       "      <td>2</td>\n",
       "      <td>173</td>\n",
       "    </tr>\n",
       "    <tr>\n",
       "      <th>3</th>\n",
       "      <td>A</td>\n",
       "      <td>3</td>\n",
       "      <td>204</td>\n",
       "    </tr>\n",
       "    <tr>\n",
       "      <th>4</th>\n",
       "      <td>A</td>\n",
       "      <td>4</td>\n",
       "      <td>384</td>\n",
       "    </tr>\n",
       "    <tr>\n",
       "      <th>5</th>\n",
       "      <td>A</td>\n",
       "      <td>5</td>\n",
       "      <td>36</td>\n",
       "    </tr>\n",
       "    <tr>\n",
       "      <th>6</th>\n",
       "      <td>A</td>\n",
       "      <td>6</td>\n",
       "      <td>497</td>\n",
       "    </tr>\n",
       "    <tr>\n",
       "      <th>7</th>\n",
       "      <td>A</td>\n",
       "      <td>7</td>\n",
       "      <td>1</td>\n",
       "    </tr>\n",
       "    <tr>\n",
       "      <th>8</th>\n",
       "      <td>A</td>\n",
       "      <td>8</td>\n",
       "      <td>280</td>\n",
       "    </tr>\n",
       "    <tr>\n",
       "      <th>9</th>\n",
       "      <td>A</td>\n",
       "      <td>9</td>\n",
       "      <td>229</td>\n",
       "    </tr>\n",
       "    <tr>\n",
       "      <th>10</th>\n",
       "      <td>A</td>\n",
       "      <td>10</td>\n",
       "      <td>78</td>\n",
       "    </tr>\n",
       "    <tr>\n",
       "      <th>11</th>\n",
       "      <td>A</td>\n",
       "      <td>11</td>\n",
       "      <td>2</td>\n",
       "    </tr>\n",
       "    <tr>\n",
       "      <th>12</th>\n",
       "      <td>A</td>\n",
       "      <td>12</td>\n",
       "      <td>216</td>\n",
       "    </tr>\n",
       "    <tr>\n",
       "      <th>13</th>\n",
       "      <td>A</td>\n",
       "      <td>13</td>\n",
       "      <td>1</td>\n",
       "    </tr>\n",
       "    <tr>\n",
       "      <th>14</th>\n",
       "      <td>A</td>\n",
       "      <td>14</td>\n",
       "      <td>10</td>\n",
       "    </tr>\n",
       "    <tr>\n",
       "      <th>15</th>\n",
       "      <td>A</td>\n",
       "      <td>15</td>\n",
       "      <td>68</td>\n",
       "    </tr>\n",
       "    <tr>\n",
       "      <th>16</th>\n",
       "      <td>A</td>\n",
       "      <td>16</td>\n",
       "      <td>31</td>\n",
       "    </tr>\n",
       "    <tr>\n",
       "      <th>17</th>\n",
       "      <td>A</td>\n",
       "      <td>18</td>\n",
       "      <td>17</td>\n",
       "    </tr>\n",
       "    <tr>\n",
       "      <th>18</th>\n",
       "      <td>A</td>\n",
       "      <td>20</td>\n",
       "      <td>20</td>\n",
       "    </tr>\n",
       "    <tr>\n",
       "      <th>19</th>\n",
       "      <td>A</td>\n",
       "      <td>21</td>\n",
       "      <td>2</td>\n",
       "    </tr>\n",
       "    <tr>\n",
       "      <th>20</th>\n",
       "      <td>A</td>\n",
       "      <td>24</td>\n",
       "      <td>2</td>\n",
       "    </tr>\n",
       "    <tr>\n",
       "      <th>21</th>\n",
       "      <td>B</td>\n",
       "      <td>0</td>\n",
       "      <td>1602</td>\n",
       "    </tr>\n",
       "    <tr>\n",
       "      <th>22</th>\n",
       "      <td>B</td>\n",
       "      <td>1</td>\n",
       "      <td>20</td>\n",
       "    </tr>\n",
       "    <tr>\n",
       "      <th>23</th>\n",
       "      <td>B</td>\n",
       "      <td>2</td>\n",
       "      <td>102</td>\n",
       "    </tr>\n",
       "    <tr>\n",
       "      <th>24</th>\n",
       "      <td>B</td>\n",
       "      <td>3</td>\n",
       "      <td>119</td>\n",
       "    </tr>\n",
       "    <tr>\n",
       "      <th>25</th>\n",
       "      <td>B</td>\n",
       "      <td>4</td>\n",
       "      <td>159</td>\n",
       "    </tr>\n",
       "    <tr>\n",
       "      <th>26</th>\n",
       "      <td>B</td>\n",
       "      <td>5</td>\n",
       "      <td>19</td>\n",
       "    </tr>\n",
       "    <tr>\n",
       "      <th>27</th>\n",
       "      <td>B</td>\n",
       "      <td>6</td>\n",
       "      <td>158</td>\n",
       "    </tr>\n",
       "    <tr>\n",
       "      <th>28</th>\n",
       "      <td>B</td>\n",
       "      <td>7</td>\n",
       "      <td>5</td>\n",
       "    </tr>\n",
       "    <tr>\n",
       "      <th>29</th>\n",
       "      <td>B</td>\n",
       "      <td>8</td>\n",
       "      <td>61</td>\n",
       "    </tr>\n",
       "    <tr>\n",
       "      <th>30</th>\n",
       "      <td>B</td>\n",
       "      <td>9</td>\n",
       "      <td>60</td>\n",
       "    </tr>\n",
       "    <tr>\n",
       "      <th>31</th>\n",
       "      <td>B</td>\n",
       "      <td>10</td>\n",
       "      <td>19</td>\n",
       "    </tr>\n",
       "    <tr>\n",
       "      <th>32</th>\n",
       "      <td>B</td>\n",
       "      <td>11</td>\n",
       "      <td>2</td>\n",
       "    </tr>\n",
       "    <tr>\n",
       "      <th>33</th>\n",
       "      <td>B</td>\n",
       "      <td>12</td>\n",
       "      <td>33</td>\n",
       "    </tr>\n",
       "    <tr>\n",
       "      <th>34</th>\n",
       "      <td>B</td>\n",
       "      <td>13</td>\n",
       "      <td>1</td>\n",
       "    </tr>\n",
       "    <tr>\n",
       "      <th>35</th>\n",
       "      <td>B</td>\n",
       "      <td>14</td>\n",
       "      <td>1</td>\n",
       "    </tr>\n",
       "    <tr>\n",
       "      <th>36</th>\n",
       "      <td>B</td>\n",
       "      <td>15</td>\n",
       "      <td>4</td>\n",
       "    </tr>\n",
       "    <tr>\n",
       "      <th>37</th>\n",
       "      <td>B</td>\n",
       "      <td>16</td>\n",
       "      <td>1</td>\n",
       "    </tr>\n",
       "    <tr>\n",
       "      <th>38</th>\n",
       "      <td>B</td>\n",
       "      <td>20</td>\n",
       "      <td>4</td>\n",
       "    </tr>\n",
       "    <tr>\n",
       "      <th>39</th>\n",
       "      <td>B</td>\n",
       "      <td>21</td>\n",
       "      <td>1</td>\n",
       "    </tr>\n",
       "    <tr>\n",
       "      <th>40</th>\n",
       "      <td>B</td>\n",
       "      <td>24</td>\n",
       "      <td>2</td>\n",
       "    </tr>\n",
       "  </tbody>\n",
       "</table>\n",
       "</div>"
      ],
      "text/plain": [
       "   group  event_name  user_id\n",
       "0      A           0      916\n",
       "1      A           1       28\n",
       "2      A           2      173\n",
       "3      A           3      204\n",
       "4      A           4      384\n",
       "5      A           5       36\n",
       "6      A           6      497\n",
       "7      A           7        1\n",
       "8      A           8      280\n",
       "9      A           9      229\n",
       "10     A          10       78\n",
       "11     A          11        2\n",
       "12     A          12      216\n",
       "13     A          13        1\n",
       "14     A          14       10\n",
       "15     A          15       68\n",
       "16     A          16       31\n",
       "17     A          18       17\n",
       "18     A          20       20\n",
       "19     A          21        2\n",
       "20     A          24        2\n",
       "21     B           0     1602\n",
       "22     B           1       20\n",
       "23     B           2      102\n",
       "24     B           3      119\n",
       "25     B           4      159\n",
       "26     B           5       19\n",
       "27     B           6      158\n",
       "28     B           7        5\n",
       "29     B           8       61\n",
       "30     B           9       60\n",
       "31     B          10       19\n",
       "32     B          11        2\n",
       "33     B          12       33\n",
       "34     B          13        1\n",
       "35     B          14        1\n",
       "36     B          15        4\n",
       "37     B          16        1\n",
       "38     B          20        4\n",
       "39     B          21        1\n",
       "40     B          24        2"
      ]
     },
     "execution_count": 39,
     "metadata": {},
     "output_type": "execute_result"
    }
   ],
   "source": [
    "# сводная таблица сколько пользователей совершили события\n",
    "group_event= df_new.groupby(['user_id', 'group'])['event_name'].count().reset_index()\n",
    "group_event=group_event.groupby(['group', 'event_name'])['user_id'].count().reset_index()\n",
    "group_event"
   ]
  },
  {
   "cell_type": "code",
   "execution_count": 40,
   "id": "9909a9b3",
   "metadata": {
    "scrolled": false
   },
   "outputs": [
    {
     "data": {
      "image/png": "[encoded data removed]",
      "text/plain": [
       "<Figure size 640x480 with 1 Axes>"
      ]
     },
     "metadata": {},
     "output_type": "display_data"
    }
   ],
   "source": [
    "sns.barplot(data=group_event, x=\"event_name\", y=\"user_id\", hue=\"group\")\n",
    "plt.xlabel(\"Количество совершенных событий\")\n",
    "plt.ylabel(\"Количество пользователей\")\n",
    "plt.title (\"Распределение пользователей по количествам совершенных событий\");"
   ]
  },
  {
   "cell_type": "markdown",
   "id": "cedd50d1",
   "metadata": {},
   "source": [
    "Из графика видно, что многие пользователи не совершили ни одного события. Уберем этих пользователей из графика и посмотрим, как распределены пользователи."
   ]
  },
  {
   "cell_type": "code",
   "execution_count": 41,
   "id": "95740698",
   "metadata": {},
   "outputs": [
    {
     "data": {
      "image/png": "[encoded data removed]",
      "text/plain": [
       "<Figure size 640x480 with 1 Axes>"
      ]
     },
     "metadata": {},
     "output_type": "display_data"
    }
   ],
   "source": [
    "sns.barplot(data=group_event.query('event_name!=0'), x=\"event_name\", y=\"user_id\", hue=\"group\")\n",
    "plt.xlabel(\"Количество совершенных событий\")\n",
    "plt.ylabel(\"Количество пользователей\")\n",
    "plt.title (\"Распределение пользователей по количеству совершенных событий\")\n",
    "plt.show;\n"
   ]
  },
  {
   "cell_type": "markdown",
   "id": "da29d0e6",
   "metadata": {},
   "source": [
    "В группе А пик событий на 6, а затем происходит спад, а у группы В пик приходится на 4 и 6 событий, затем происходит зезкий спад."
   ]
  },
  {
   "cell_type": "markdown",
   "id": "a597352a",
   "metadata": {},
   "source": [
    "Определим, сколько событий в реднем приходится на пользователей, которые совершали какие-либо действия."
   ]
  },
  {
   "cell_type": "code",
   "execution_count": 42,
   "id": "960806ea",
   "metadata": {},
   "outputs": [
    {
     "name": "stdout",
     "output_type": "stream",
     "text": [
      "<class 'pandas.core.frame.DataFrame'>\n",
      "Int64Index: 20034 entries, 0 to 26289\n",
      "Data columns (total 10 columns):\n",
      " #   Column      Non-Null Count  Dtype         \n",
      "---  ------      --------------  -----         \n",
      " 0   user_id     20034 non-null  object        \n",
      " 1   group       20034 non-null  object        \n",
      " 2   ab_test     20034 non-null  object        \n",
      " 3   first_date  20034 non-null  datetime64[ns]\n",
      " 4   region      20034 non-null  object        \n",
      " 5   device      20034 non-null  object        \n",
      " 6   event_dt    20034 non-null  datetime64[ns]\n",
      " 7   event_name  20034 non-null  object        \n",
      " 8   details     2736 non-null   float64       \n",
      " 9   lifetime    20034 non-null  float64       \n",
      "dtypes: datetime64[ns](2), float64(2), object(6)\n",
      "memory usage: 1.7+ MB\n"
     ]
    }
   ],
   "source": [
    "# создадим df без пропусков в столбцах event_dt и event_name \n",
    "df_no_nan = df_new.dropna(subset=['event_name'])\n",
    "df_no_nan.info()"
   ]
  },
  {
   "cell_type": "code",
   "execution_count": 43,
   "id": "e6ad5240",
   "metadata": {},
   "outputs": [
    {
     "data": {
      "text/html": [
       "<div>\n",
       "<style scoped>\n",
       "    .dataframe tbody tr th:only-of-type {\n",
       "        vertical-align: middle;\n",
       "    }\n",
       "\n",
       "    .dataframe tbody tr th {\n",
       "        vertical-align: top;\n",
       "    }\n",
       "\n",
       "    .dataframe thead th {\n",
       "        text-align: right;\n",
       "    }\n",
       "</style>\n",
       "<table border=\"1\" class=\"dataframe\">\n",
       "  <thead>\n",
       "    <tr style=\"text-align: right;\">\n",
       "      <th></th>\n",
       "      <th>count_events</th>\n",
       "      <th>qty_users</th>\n",
       "      <th>events_per_user</th>\n",
       "    </tr>\n",
       "    <tr>\n",
       "      <th>group</th>\n",
       "      <th></th>\n",
       "      <th></th>\n",
       "      <th></th>\n",
       "    </tr>\n",
       "  </thead>\n",
       "  <tbody>\n",
       "    <tr>\n",
       "      <th>A</th>\n",
       "      <td>15851</td>\n",
       "      <td>2279</td>\n",
       "      <td>6.96</td>\n",
       "    </tr>\n",
       "    <tr>\n",
       "      <th>B</th>\n",
       "      <td>4183</td>\n",
       "      <td>771</td>\n",
       "      <td>5.43</td>\n",
       "    </tr>\n",
       "  </tbody>\n",
       "</table>\n",
       "</div>"
      ],
      "text/plain": [
       "       count_events  qty_users  events_per_user\n",
       "group                                          \n",
       "A             15851       2279             6.96\n",
       "B              4183        771             5.43"
      ]
     },
     "execution_count": 43,
     "metadata": {},
     "output_type": "execute_result"
    }
   ],
   "source": [
    "# количество сообытий по пользователям, которые совершали действия\n",
    "ab_events1 = (df_no_nan.pivot_table(index='group', aggfunc={'event_dt': 'count', 'user_id': 'nunique'})\n",
    "             .rename(columns = {'event_dt': 'count_events', 'user_id': 'qty_users'}))\n",
    "\n",
    "# определим количество событий на каждого пользователя в группах\n",
    "ab_events1['events_per_user'] = round(ab_events1['count_events'] / ab_events1['qty_users'], 2)\n",
    "\n",
    "ab_events1"
   ]
  },
  {
   "cell_type": "markdown",
   "id": "01135f75",
   "metadata": {},
   "source": [
    "Полученные данные значительно отличаются от среднего кол-ва действий на уникального пользователя. В среднем, на участника группы А приходится 6.96 события, в группе В - 5.43 события."
   ]
  },
  {
   "cell_type": "markdown",
   "id": "f3b20f36",
   "metadata": {},
   "source": [
    "## 4.2 **Распределение числа событий в выборках по дням**"
   ]
  },
  {
   "cell_type": "markdown",
   "id": "78cb3846",
   "metadata": {},
   "source": [
    "Рассмотрим, как события распределены по дням."
   ]
  },
  {
   "cell_type": "code",
   "execution_count": 44,
   "id": "1268dfd7",
   "metadata": {},
   "outputs": [
    {
     "data": {
      "image/png": "[encoded data removed]",
      "text/plain": [
       "<Figure size 559.625x500 with 1 Axes>"
      ]
     },
     "metadata": {},
     "output_type": "display_data"
    }
   ],
   "source": [
    "# Распределение числа событий в выборках по дням\n",
    "sns.displot(data=df_new, x='event_dt', kde=True, bins=23, hue = 'group', common_norm=False)\n",
    "plt.title(label = \"Распределение числа событий в выборках по дням\", fontsize = 14)\n",
    "plt.ylabel('Количество событий',  fontsize = 12)\n",
    "plt.xlabel('Дата событий', size = 12)\n",
    "plt.xticks(rotation=45)\n",
    "plt.show();"
   ]
  },
  {
   "cell_type": "markdown",
   "id": "0241abd1",
   "metadata": {},
   "source": [
    "В самом начале теста событий в группе В происходило больше, но затем наметился явный перекос в пользу группы А.\n",
    "- наблюдается резкий рост числа событий в группе А в период с 14 декабря.\n",
    "- количество событий в группе А максимально 21 декабря, затем начинается спад.\n",
    "- с 22 декабря спад активности в обоих группах. Возможно это связано с окончанием набора новых пользователей и снижением активности оставшихся.\n",
    "- группа В имеет более равномерное распределение, без резких всплесков, в отличии от группы А, но с гораздо меньшей активностью пользователей.\n",
    "- после 30 декабря вообще не зафиксировано ни одного события ни для одной из групп."
   ]
  },
  {
   "cell_type": "markdown",
   "id": "84aaaa0d",
   "metadata": {},
   "source": [
    "Рассмотрим, как распределено привлечение пользователей, по дате их регистрации"
   ]
  },
  {
   "cell_type": "code",
   "execution_count": 45,
   "id": "d62c2d87",
   "metadata": {},
   "outputs": [
    {
     "data": {
      "text/html": [
       "<div>\n",
       "<style scoped>\n",
       "    .dataframe tbody tr th:only-of-type {\n",
       "        vertical-align: middle;\n",
       "    }\n",
       "\n",
       "    .dataframe tbody tr th {\n",
       "        vertical-align: top;\n",
       "    }\n",
       "\n",
       "    .dataframe thead th {\n",
       "        text-align: right;\n",
       "    }\n",
       "</style>\n",
       "<table border=\"1\" class=\"dataframe\">\n",
       "  <thead>\n",
       "    <tr style=\"text-align: right;\">\n",
       "      <th></th>\n",
       "      <th>first_date</th>\n",
       "      <th>group</th>\n",
       "      <th>users_count</th>\n",
       "    </tr>\n",
       "  </thead>\n",
       "  <tbody>\n",
       "    <tr>\n",
       "      <th>0</th>\n",
       "      <td>2020-12-07</td>\n",
       "      <td>A</td>\n",
       "      <td>303</td>\n",
       "    </tr>\n",
       "    <tr>\n",
       "      <th>1</th>\n",
       "      <td>2020-12-07</td>\n",
       "      <td>B</td>\n",
       "      <td>218</td>\n",
       "    </tr>\n",
       "    <tr>\n",
       "      <th>2</th>\n",
       "      <td>2020-12-08</td>\n",
       "      <td>A</td>\n",
       "      <td>164</td>\n",
       "    </tr>\n",
       "    <tr>\n",
       "      <th>3</th>\n",
       "      <td>2020-12-08</td>\n",
       "      <td>B</td>\n",
       "      <td>124</td>\n",
       "    </tr>\n",
       "    <tr>\n",
       "      <th>4</th>\n",
       "      <td>2020-12-09</td>\n",
       "      <td>A</td>\n",
       "      <td>122</td>\n",
       "    </tr>\n",
       "    <tr>\n",
       "      <th>5</th>\n",
       "      <td>2020-12-09</td>\n",
       "      <td>B</td>\n",
       "      <td>90</td>\n",
       "    </tr>\n",
       "    <tr>\n",
       "      <th>6</th>\n",
       "      <td>2020-12-10</td>\n",
       "      <td>A</td>\n",
       "      <td>161</td>\n",
       "    </tr>\n",
       "    <tr>\n",
       "      <th>7</th>\n",
       "      <td>2020-12-10</td>\n",
       "      <td>B</td>\n",
       "      <td>163</td>\n",
       "    </tr>\n",
       "    <tr>\n",
       "      <th>8</th>\n",
       "      <td>2020-12-11</td>\n",
       "      <td>A</td>\n",
       "      <td>137</td>\n",
       "    </tr>\n",
       "    <tr>\n",
       "      <th>9</th>\n",
       "      <td>2020-12-11</td>\n",
       "      <td>B</td>\n",
       "      <td>96</td>\n",
       "    </tr>\n",
       "    <tr>\n",
       "      <th>10</th>\n",
       "      <td>2020-12-12</td>\n",
       "      <td>A</td>\n",
       "      <td>241</td>\n",
       "    </tr>\n",
       "    <tr>\n",
       "      <th>11</th>\n",
       "      <td>2020-12-12</td>\n",
       "      <td>B</td>\n",
       "      <td>170</td>\n",
       "    </tr>\n",
       "    <tr>\n",
       "      <th>12</th>\n",
       "      <td>2020-12-13</td>\n",
       "      <td>A</td>\n",
       "      <td>293</td>\n",
       "    </tr>\n",
       "    <tr>\n",
       "      <th>13</th>\n",
       "      <td>2020-12-13</td>\n",
       "      <td>B</td>\n",
       "      <td>199</td>\n",
       "    </tr>\n",
       "    <tr>\n",
       "      <th>14</th>\n",
       "      <td>2020-12-14</td>\n",
       "      <td>A</td>\n",
       "      <td>321</td>\n",
       "    </tr>\n",
       "    <tr>\n",
       "      <th>15</th>\n",
       "      <td>2020-12-14</td>\n",
       "      <td>B</td>\n",
       "      <td>232</td>\n",
       "    </tr>\n",
       "    <tr>\n",
       "      <th>16</th>\n",
       "      <td>2020-12-15</td>\n",
       "      <td>A</td>\n",
       "      <td>177</td>\n",
       "    </tr>\n",
       "    <tr>\n",
       "      <th>17</th>\n",
       "      <td>2020-12-15</td>\n",
       "      <td>B</td>\n",
       "      <td>121</td>\n",
       "    </tr>\n",
       "    <tr>\n",
       "      <th>18</th>\n",
       "      <td>2020-12-16</td>\n",
       "      <td>A</td>\n",
       "      <td>142</td>\n",
       "    </tr>\n",
       "    <tr>\n",
       "      <th>19</th>\n",
       "      <td>2020-12-16</td>\n",
       "      <td>B</td>\n",
       "      <td>101</td>\n",
       "    </tr>\n",
       "    <tr>\n",
       "      <th>20</th>\n",
       "      <td>2020-12-17</td>\n",
       "      <td>A</td>\n",
       "      <td>176</td>\n",
       "    </tr>\n",
       "    <tr>\n",
       "      <th>21</th>\n",
       "      <td>2020-12-17</td>\n",
       "      <td>B</td>\n",
       "      <td>118</td>\n",
       "    </tr>\n",
       "    <tr>\n",
       "      <th>22</th>\n",
       "      <td>2020-12-18</td>\n",
       "      <td>A</td>\n",
       "      <td>178</td>\n",
       "    </tr>\n",
       "    <tr>\n",
       "      <th>23</th>\n",
       "      <td>2020-12-18</td>\n",
       "      <td>B</td>\n",
       "      <td>150</td>\n",
       "    </tr>\n",
       "    <tr>\n",
       "      <th>24</th>\n",
       "      <td>2020-12-19</td>\n",
       "      <td>A</td>\n",
       "      <td>204</td>\n",
       "    </tr>\n",
       "    <tr>\n",
       "      <th>25</th>\n",
       "      <td>2020-12-19</td>\n",
       "      <td>B</td>\n",
       "      <td>154</td>\n",
       "    </tr>\n",
       "    <tr>\n",
       "      <th>26</th>\n",
       "      <td>2020-12-20</td>\n",
       "      <td>A</td>\n",
       "      <td>229</td>\n",
       "    </tr>\n",
       "    <tr>\n",
       "      <th>27</th>\n",
       "      <td>2020-12-20</td>\n",
       "      <td>B</td>\n",
       "      <td>185</td>\n",
       "    </tr>\n",
       "    <tr>\n",
       "      <th>28</th>\n",
       "      <td>2020-12-21</td>\n",
       "      <td>A</td>\n",
       "      <td>347</td>\n",
       "    </tr>\n",
       "    <tr>\n",
       "      <th>29</th>\n",
       "      <td>2020-12-21</td>\n",
       "      <td>B</td>\n",
       "      <td>252</td>\n",
       "    </tr>\n",
       "  </tbody>\n",
       "</table>\n",
       "</div>"
      ],
      "text/plain": [
       "   first_date group  users_count\n",
       "0  2020-12-07     A          303\n",
       "1  2020-12-07     B          218\n",
       "2  2020-12-08     A          164\n",
       "3  2020-12-08     B          124\n",
       "4  2020-12-09     A          122\n",
       "5  2020-12-09     B           90\n",
       "6  2020-12-10     A          161\n",
       "7  2020-12-10     B          163\n",
       "8  2020-12-11     A          137\n",
       "9  2020-12-11     B           96\n",
       "10 2020-12-12     A          241\n",
       "11 2020-12-12     B          170\n",
       "12 2020-12-13     A          293\n",
       "13 2020-12-13     B          199\n",
       "14 2020-12-14     A          321\n",
       "15 2020-12-14     B          232\n",
       "16 2020-12-15     A          177\n",
       "17 2020-12-15     B          121\n",
       "18 2020-12-16     A          142\n",
       "19 2020-12-16     B          101\n",
       "20 2020-12-17     A          176\n",
       "21 2020-12-17     B          118\n",
       "22 2020-12-18     A          178\n",
       "23 2020-12-18     B          150\n",
       "24 2020-12-19     A          204\n",
       "25 2020-12-19     B          154\n",
       "26 2020-12-20     A          229\n",
       "27 2020-12-20     B          185\n",
       "28 2020-12-21     A          347\n",
       "29 2020-12-21     B          252"
      ]
     },
     "execution_count": 45,
     "metadata": {},
     "output_type": "execute_result"
    }
   ],
   "source": [
    "# сводная таблица с кол-вом зарегистрированных в день\n",
    "reg = (df_new.groupby(['first_date','group'], as_index=False)['user_id'].nunique()\n",
    "                            .rename(columns={'user_id':'users_count'}))\n",
    "reg"
   ]
  },
  {
   "cell_type": "code",
   "execution_count": 46,
   "id": "f808a4ec",
   "metadata": {},
   "outputs": [
    {
     "data": {
      "image/png": "[encoded data removed]",
      "text/plain": [
       "<Figure size 640x480 with 1 Axes>"
      ]
     },
     "metadata": {},
     "output_type": "display_data"
    }
   ],
   "source": [
    "sns.barplot(data=reg, x=\"first_date\", y=\"users_count\", hue=\"group\")\n",
    "plt.xlabel(\"Дата регистрации\")\n",
    "plt.ylabel(\"Количество зарегистрированных пользователей\")\n",
    "plt.title (\"Распределение заререгистрированных пользователей по дням\")\n",
    "plt.xticks(rotation=-90)\n",
    "plt.show;\n"
   ]
  },
  {
   "cell_type": "markdown",
   "id": "ca217c8f",
   "metadata": {},
   "source": [
    "Пользователи, участвующие в тесте регистрировались неравномерно. Количество зарегистрированных в группе А больше, чем в группе В, но динамика их набора в тестовые группы совпадает. Всплески набора пользователей наблюдаются 7.12, 12.12-14.12 и 21.12.\n",
    "\n",
    "Всплеск событий в группе А 21 декабря можно объяснить действиями пользователей, зарегистрированными до этой даты и активной регистрацией новых пользователей в этот день."
   ]
  },
  {
   "cell_type": "markdown",
   "id": "a56e93ab",
   "metadata": {},
   "source": [
    "## 4.3 **Изменения конверсии в воронке в выборках на разных этапах**"
   ]
  },
  {
   "cell_type": "markdown",
   "id": "3aecc833",
   "metadata": {},
   "source": [
    "Построим продуктовую воронку и рассмотрим показатели конверсии."
   ]
  },
  {
   "cell_type": "code",
   "execution_count": 47,
   "id": "e1baef35",
   "metadata": {},
   "outputs": [
    {
     "data": {
      "text/html": [
       "<div>\n",
       "<style scoped>\n",
       "    .dataframe tbody tr th:only-of-type {\n",
       "        vertical-align: middle;\n",
       "    }\n",
       "\n",
       "    .dataframe tbody tr th {\n",
       "        vertical-align: top;\n",
       "    }\n",
       "\n",
       "    .dataframe thead th {\n",
       "        text-align: right;\n",
       "    }\n",
       "</style>\n",
       "<table border=\"1\" class=\"dataframe\">\n",
       "  <thead>\n",
       "    <tr style=\"text-align: right;\">\n",
       "      <th>group</th>\n",
       "      <th>A</th>\n",
       "      <th>B</th>\n",
       "    </tr>\n",
       "    <tr>\n",
       "      <th>event_name</th>\n",
       "      <th></th>\n",
       "      <th></th>\n",
       "    </tr>\n",
       "  </thead>\n",
       "  <tbody>\n",
       "    <tr>\n",
       "      <th>login</th>\n",
       "      <td>2279</td>\n",
       "      <td>770</td>\n",
       "    </tr>\n",
       "    <tr>\n",
       "      <th>product_page</th>\n",
       "      <td>1476</td>\n",
       "      <td>429</td>\n",
       "    </tr>\n",
       "    <tr>\n",
       "      <th>product_cart</th>\n",
       "      <td>686</td>\n",
       "      <td>214</td>\n",
       "    </tr>\n",
       "    <tr>\n",
       "      <th>purchase</th>\n",
       "      <td>734</td>\n",
       "      <td>219</td>\n",
       "    </tr>\n",
       "  </tbody>\n",
       "</table>\n",
       "</div>"
      ],
      "text/plain": [
       "group            A    B\n",
       "event_name             \n",
       "login         2279  770\n",
       "product_page  1476  429\n",
       "product_cart   686  214\n",
       "purchase       734  219"
      ]
     },
     "execution_count": 47,
     "metadata": {},
     "output_type": "execute_result"
    }
   ],
   "source": [
    "# cводная таблица событий по группам \n",
    "funnel_event = (df_new.pivot_table(index='event_name', \n",
    "                             columns='group', \n",
    "                             values='user_id',\n",
    "                             aggfunc='nunique')\n",
    "                             .reindex(['login', 'product_page', 'product_cart', 'purchase']))  #ранжирование воронки\n",
    "funnel_event"
   ]
  },
  {
   "cell_type": "code",
   "execution_count": 48,
   "id": "d2cca0e3",
   "metadata": {},
   "outputs": [
    {
     "data": {
      "image/png": "[encoded data removed]"
     },
     "metadata": {},
     "output_type": "display_data"
    }
   ],
   "source": [
    "fig = go.Figure()\n",
    "\n",
    "fig.add_trace(go.Funnel(\n",
    "    name = 'A',\n",
    "    y = funnel_event.index.tolist(),\n",
    "    x = funnel_event['A'].tolist(),\n",
    "    textposition = \"inside\",\n",
    "    textinfo = \"value+percent initial\"))\n",
    "\n",
    "fig.add_trace(go.Funnel(\n",
    "    name = 'B',\n",
    "    orientation = \"h\",\n",
    "    y = funnel_event.index.tolist(),\n",
    "    x = funnel_event['B'].tolist(),\n",
    "    #textposition = \"inside\",\n",
    "    textinfo = \"value+percent initial\"))\n",
    "fig.update_layout(title=\"Воронка событий\")\n",
    "fig.show(\"png\")"
   ]
  },
  {
   "cell_type": "markdown",
   "id": "0f366547",
   "metadata": {},
   "source": [
    "**Анализ воронки событий.**\n",
    "\n",
    "- Конверсия в группе В 28%, что ниже, чем в контрольной группе А (32%).\n",
    "- Конверсия значительно падает при переходе с этапа 'login' к 'product_page'. Только 65% участников группы А и 56% участников группы В просматривают страницы товаров.\n",
    "- Просмотр корзины товаров 'product_cart' не является обязательным этапом 'жизни пользователя'.\n",
    "- До этапа покупки доходит лишь 32% участников группы А и 28% участников группы В.\n",
    "\n",
    "Согласно ТЗ \"ожидаемый эффект: за 14 дней с момента регистрации пользователи покажут улучшение каждой метрики не менее, чем на 10%\". По результатам анализа проведенного теста выявлено, что конверсия в группе В упала в сравнении с контрольной.\n",
    "Скорее всего, эксперимент можно признать неудачным."
   ]
  },
  {
   "cell_type": "markdown",
   "id": "9b9d2f31",
   "metadata": {},
   "source": [
    "## 4.4 **Какие особенности данных нужно учесть, прежде чем приступать к A/B-тестированию**"
   ]
  },
  {
   "cell_type": "markdown",
   "id": "410fd4ef",
   "metadata": {},
   "source": [
    "1. Деление трафика на группы А и B не равномерно, результаты теста могут быть искажены.\n",
    "\n",
    "2. Тест закончен до заявленного в ТЗ срока 2021-01-04, а именно 2020-12-29, могут присутствовать пользователи с лайфтаймом менее 14 дней.\n",
    "\n",
    "3. Есть отклонения в численности участников теста: по результатам фильтрации в тесте остались 5568 человек, из которых 57.38% попали в группу А, 42.62% - в группу В, доля пользователей из Европы, участвующих в тесте составила 12.03 %.\n",
    "\n",
    "4. Распределение набора пользователей в группы и их действия распределены неравномерно. На графиках обнаружен скачок в поведении пользователей. \n",
    "\n",
    "5. Есть пересечение пользователей теста recommender_system_test и конкурирующего теста interface_eu_test, нельзя с точностью сказать, что повлияло на поведение контрольной группы пользователей.\n",
    "\n",
    "6. Время проведения теста выбранно некорректрое. Тест проводился во время предновогодней маркетинговой компании, это может привести к некорректному результату. Делать А/Б тест во время аномального поведения пользователей может привести к некорректному результату, и статистическая значимость будет достигнута из-за аномальных колебаний, а не из-за изменений в продукте.\n"
   ]
  },
  {
   "cell_type": "markdown",
   "id": "3496dbdb",
   "metadata": {},
   "source": [
    "# 5. **Оценка результатов A/B-тестирования**\n",
    "## 5.1 **Какие результаты показало A/В-тестирование**"
   ]
  },
  {
   "cell_type": "markdown",
   "id": "5b16d6ee",
   "metadata": {},
   "source": [
    "Проведенное АВ тестирование показало, что конверсия на каждом этапе воронки в группе В ниже, чем в контрольной. К этим результатам нужно относиться с осторожностью, т.к. были вывявлены ошибки в наборе пользователей и во времени проведения теста."
   ]
  },
  {
   "cell_type": "markdown",
   "id": "892a6320",
   "metadata": {},
   "source": [
    "## 5.2 **Проверка статистической разницы долей z-критерием**"
   ]
  },
  {
   "cell_type": "markdown",
   "id": "aab73ff8",
   "metadata": {},
   "source": [
    "Проверим, имеется ли у нас статистически значимая разница в конверсии между группами.\n",
    "\n",
    "Ввиду того, что будем проводить множественный тест нужно использовать поправку к уровню значимостиПроверок немного, то можно обойтись поправкой Бонферрони.\n",
    "\n",
    "Н0 - между долями статистически значимая разница отсутствует\n",
    "\n",
    "Н1 - между долями есть статистически значимая разница"
   ]
  },
  {
   "cell_type": "code",
   "execution_count": 49,
   "id": "89516f5e",
   "metadata": {},
   "outputs": [
    {
     "data": {
      "text/html": [
       "<div>\n",
       "<style scoped>\n",
       "    .dataframe tbody tr th:only-of-type {\n",
       "        vertical-align: middle;\n",
       "    }\n",
       "\n",
       "    .dataframe tbody tr th {\n",
       "        vertical-align: top;\n",
       "    }\n",
       "\n",
       "    .dataframe thead th {\n",
       "        text-align: right;\n",
       "    }\n",
       "</style>\n",
       "<table border=\"1\" class=\"dataframe\">\n",
       "  <thead>\n",
       "    <tr style=\"text-align: right;\">\n",
       "      <th>event_name</th>\n",
       "      <th>login</th>\n",
       "      <th>product_page</th>\n",
       "      <th>product_cart</th>\n",
       "      <th>purchase</th>\n",
       "    </tr>\n",
       "    <tr>\n",
       "      <th>group</th>\n",
       "      <th></th>\n",
       "      <th></th>\n",
       "      <th></th>\n",
       "      <th></th>\n",
       "    </tr>\n",
       "  </thead>\n",
       "  <tbody>\n",
       "    <tr>\n",
       "      <th>A</th>\n",
       "      <td>2279</td>\n",
       "      <td>1476</td>\n",
       "      <td>686</td>\n",
       "      <td>734</td>\n",
       "    </tr>\n",
       "    <tr>\n",
       "      <th>B</th>\n",
       "      <td>770</td>\n",
       "      <td>429</td>\n",
       "      <td>214</td>\n",
       "      <td>219</td>\n",
       "    </tr>\n",
       "  </tbody>\n",
       "</table>\n",
       "</div>"
      ],
      "text/plain": [
       "event_name  login  product_page  product_cart  purchase\n",
       "group                                                  \n",
       "A            2279          1476           686       734\n",
       "B             770           429           214       219"
      ]
     },
     "execution_count": 49,
     "metadata": {},
     "output_type": "execute_result"
    }
   ],
   "source": [
    "funnel_event=funnel_event.T\n",
    "funnel_event"
   ]
  },
  {
   "cell_type": "code",
   "execution_count": 50,
   "id": "6cadde58",
   "metadata": {},
   "outputs": [
    {
     "name": "stdout",
     "output_type": "stream",
     "text": [
      "Проверка гипотезы о различиях в долях конверсии по событию product_page в группах A и B\n",
      "7.302688278207464e-06\n",
      "Отвергаем нулевую гипотезу: между долями есть статистически значимая разница\n"
     ]
    }
   ],
   "source": [
    "alpha = 0.05/3\n",
    "stat, pval = proportions_ztest(count= funnel_event['product_page'], nobs= funnel_event['login'])\n",
    "\n",
    "print('Проверка гипотезы о различиях в долях конверсии по событию product_page в группах A и B')\n",
    "print(pval)\n",
    "if pval < alpha:\n",
    "    print(\"Отвергаем нулевую гипотезу: между долями есть статистически значимая разница\")\n",
    "else:\n",
    "    print(\"Не получилось отвергнуть нулевую гипотезу\") \n"
   ]
  },
  {
   "cell_type": "code",
   "execution_count": 51,
   "id": "f998ea4b",
   "metadata": {},
   "outputs": [
    {
     "name": "stdout",
     "output_type": "stream",
     "text": [
      "group\n",
      "A    686\n",
      "B    214\n",
      "Name: product_cart, dtype: int64 group\n",
      "A    2279\n",
      "B     770\n",
      "Name: login, dtype: int64\n",
      "Проверка гипотезы о различиях в долях конверсии по событию product_cart в группах A и B\n",
      "0.22463227493216675\n",
      "Не получилось отвергнуть нулевую гипотезу\n"
     ]
    }
   ],
   "source": [
    "stat, pval = proportions_ztest(count= funnel_event['product_cart'], nobs= funnel_event['login'])\n",
    "print(funnel_event['product_cart'], funnel_event['login'])\n",
    "print('Проверка гипотезы о различиях в долях конверсии по событию product_cart в группах A и B')\n",
    "print(pval)\n",
    "if pval < alpha:\n",
    "    print(\"Отвергаем нулевую гипотезу: между долями есть статистически значимая разница\")\n",
    "else:\n",
    "    print(\"Не получилось отвергнуть нулевую гипотезу\") \n"
   ]
  },
  {
   "cell_type": "code",
   "execution_count": 52,
   "id": "cde06b0d",
   "metadata": {},
   "outputs": [
    {
     "name": "stdout",
     "output_type": "stream",
     "text": [
      "Проверка гипотезы о различиях в долях конверсии по событию purchase в группах A и B\n",
      "0.051311118141838426\n",
      "Не получилось отвергнуть нулевую гипотезу\n"
     ]
    }
   ],
   "source": [
    "stat, pval = proportions_ztest(count= funnel_event['purchase'], nobs= funnel_event['login'])\n",
    "print('Проверка гипотезы о различиях в долях конверсии по событию purchase в группах A и B')\n",
    "print(pval)\n",
    "if pval < alpha:\n",
    "    print(\"Отвергаем нулевую гипотезу: между долями есть статистически значимая разница\")\n",
    "else:\n",
    "    print(\"Не получилось отвергнуть нулевую гипотезу\") \n"
   ]
  },
  {
   "cell_type": "code",
   "execution_count": 53,
   "id": "372f10b7",
   "metadata": {},
   "outputs": [],
   "source": [
    "#alpha = 0.05/3\n",
    "#col = ['product_page', 'product_cart', 'purchase']\n",
    "#for i in col:\n",
    "#    stat, pval = proportions_ztest(count= funnel_event[i], nobs= funnel_event['login'])\n",
    "#    print('Проверка гипотезы о различиях в долях конверсии по событию', funnel_event.columns[i], 'в группах A и B')\n",
    "#    print(pval)\n",
    "#    if pval < alpha:\n",
    "#        print(\"Отвергаем нулевую гипотезу: между долями есть статистически значимая разница\")\n",
    "#    else:\n",
    "#        print(\"Не получилось отвергнуть нулевую гипотезу\") \n",
    "#    print()"
   ]
  },
  {
   "cell_type": "markdown",
   "id": "4dcf7883",
   "metadata": {},
   "source": [
    "Статистически значимую между долями обнаружена только в конверсии событии product_page. На остальных этапах конверсии статистически значимая разница в долях пользователей, совершавших событие отсутствует."
   ]
  },
  {
   "cell_type": "markdown",
   "id": "2e514ec9",
   "metadata": {},
   "source": [
    "# 6. **Вывод, общее заключение о корректности проведения теста**"
   ]
  },
  {
   "cell_type": "markdown",
   "id": "8a1c4a2a",
   "metadata": {},
   "source": [
    "Цель исследования — провести оценку результатов A/B-теста, оценить корректность его проведения, проанализировать результаты теста.\n",
    "\n",
    "Для исследования было предоставлено 4 файла с табличной информацией. В данных дубликатов, ошибок, аномальных значений, пропусков (кроме столбца details) не было.\n",
    "\n",
    "Но, в ходе анализа представленных данных было выяснено, что данные не соответствуют требованиям технического задания.\n",
    "По результатам оценки корректности проведения теста, его совпадению с ТЗ выявлено:\n",
    "- сроки набора новых пользователей в группы теста совпадают с ТЗ.\n",
    "- тест закончен до заявленного в ТЗ срока 2021-01-04, а именно 2020-12-29, могут присутствовать пользователи с лайфтаймом менее 14 дней. \n",
    "- есть отклонения в численности участников теста: по результатам фильтрации в тесте остались 5568 человек, из которых 57.38% попали в группу А, 42.62% - в группу В, доля пользователей из Европы, участвующих в тесте составила 9.02 %.\n",
    "- время проведения теста совпадает с новогодней маркетинговой акцией. В этот момент возможно аномальное поведение пользователей.\n",
    "- есть пересечение пользователей теста recommender_system_test и конкурирующего теста interface_eu_test, нельзя с точностью сказать, что повлияло на поведение контрольной группы пользователей.\n",
    "\n",
    "Была проведена проверка статистическую разницу долей z-критерием. Только по одному типу события - product_pages между долями в группах есть статистически значимая разница. На остальных этапах статистически значимая разница между долями отсутствует.\n",
    "\n",
    "Ожидаемый прирост конверсии в 10% по переходам не достигнут.\n",
    "\n",
    "С учетом описанных выше проблем и ошибок при проведении АВ тестирования не следует с доверием относиться к результатам теста и использовать его для принятия дальнейших решений.\n",
    "\n",
    "Я бы рекомендовала провести заново, т.к. тест остановлен на 5 дней раньше, и мы можем наткнуться на \"проблему подглядывания\". При проведении нового теста следует учесть и устранить все выявленные недоработки. Необходимо будет тщательней отбирать участников и отслеживать из действия в течение всего срока проведения теста. А еще, не запускать тест в период предновогодних праздников. Ведь негативный результат мог получиться и по причине того, что пользователь быстро найти и заказать подарок накануне Рождества, но натыкается на нестандартный дизайн сайта и уходит."
   ]
  }
 ],
 "metadata": {
  "ExecuteTimeLog": [
   {
    "duration": 1189,
    "start_time": "2023-05-13T21:32:47.900Z"
   },
   {
    "duration": 584,
    "start_time": "2023-05-13T21:32:49.091Z"
   },
   {
    "duration": 62,
    "start_time": "2023-05-13T21:32:49.677Z"
   },
   {
    "duration": 12,
    "start_time": "2023-05-13T21:32:49.740Z"
   },
   {
    "duration": 20,
    "start_time": "2023-05-13T21:32:49.754Z"
   },
   {
    "duration": 26,
    "start_time": "2023-05-13T21:32:49.775Z"
   },
   {
    "duration": 123,
    "start_time": "2023-05-13T21:32:49.803Z"
   },
   {
    "duration": 60,
    "start_time": "2023-05-13T21:32:49.928Z"
   },
   {
    "duration": 195,
    "start_time": "2023-05-13T21:32:49.990Z"
   },
   {
    "duration": 44,
    "start_time": "2023-05-13T21:32:50.186Z"
   },
   {
    "duration": 77,
    "start_time": "2023-05-13T21:32:50.231Z"
   },
   {
    "duration": 68,
    "start_time": "2023-05-13T21:32:50.310Z"
   },
   {
    "duration": 39,
    "start_time": "2023-05-13T21:32:50.380Z"
   },
   {
    "duration": 161,
    "start_time": "2023-05-13T21:32:50.422Z"
   },
   {
    "duration": 42,
    "start_time": "2023-05-13T21:32:50.585Z"
   },
   {
    "duration": 15,
    "start_time": "2023-05-13T21:32:50.628Z"
   },
   {
    "duration": 9,
    "start_time": "2023-05-13T21:32:50.645Z"
   },
   {
    "duration": 42,
    "start_time": "2023-05-13T21:32:50.656Z"
   },
   {
    "duration": 18,
    "start_time": "2023-05-13T21:32:50.700Z"
   },
   {
    "duration": 20,
    "start_time": "2023-05-13T21:32:50.720Z"
   },
   {
    "duration": 49,
    "start_time": "2023-05-13T21:32:50.742Z"
   },
   {
    "duration": 46,
    "start_time": "2023-05-13T21:32:50.794Z"
   },
   {
    "duration": 60,
    "start_time": "2023-05-13T21:32:50.842Z"
   },
   {
    "duration": 4,
    "start_time": "2023-05-13T21:32:50.903Z"
   },
   {
    "duration": 60,
    "start_time": "2023-05-13T21:32:50.917Z"
   },
   {
    "duration": 26,
    "start_time": "2023-05-13T21:32:50.978Z"
   },
   {
    "duration": 16,
    "start_time": "2023-05-13T21:32:51.006Z"
   },
   {
    "duration": 28,
    "start_time": "2023-05-13T21:32:51.023Z"
   },
   {
    "duration": 22,
    "start_time": "2023-05-13T21:32:51.053Z"
   },
   {
    "duration": 18,
    "start_time": "2023-05-13T21:32:51.077Z"
   },
   {
    "duration": 29,
    "start_time": "2023-05-13T21:32:51.097Z"
   },
   {
    "duration": 41,
    "start_time": "2023-05-13T21:32:51.128Z"
   },
   {
    "duration": 6,
    "start_time": "2023-05-13T21:32:51.171Z"
   },
   {
    "duration": 23,
    "start_time": "2023-05-13T21:32:51.179Z"
   },
   {
    "duration": 8,
    "start_time": "2023-05-13T21:32:51.203Z"
   },
   {
    "duration": 25,
    "start_time": "2023-05-13T21:32:51.212Z"
   },
   {
    "duration": 182,
    "start_time": "2023-05-13T21:32:51.238Z"
   },
   {
    "duration": 22,
    "start_time": "2023-05-13T21:32:51.422Z"
   },
   {
    "duration": 333,
    "start_time": "2023-05-13T21:32:51.446Z"
   },
   {
    "duration": 301,
    "start_time": "2023-05-13T21:32:51.780Z"
   },
   {
    "duration": 18,
    "start_time": "2023-05-13T21:32:52.086Z"
   },
   {
    "duration": 26,
    "start_time": "2023-05-13T21:32:52.106Z"
   },
   {
    "duration": 1016,
    "start_time": "2023-05-13T21:32:52.134Z"
   },
   {
    "duration": 18,
    "start_time": "2023-05-13T21:32:53.151Z"
   },
   {
    "duration": 379,
    "start_time": "2023-05-13T21:32:53.171Z"
   },
   {
    "duration": 21,
    "start_time": "2023-05-13T21:32:53.552Z"
   },
   {
    "duration": 589,
    "start_time": "2023-05-13T21:32:53.575Z"
   },
   {
    "duration": 8,
    "start_time": "2023-05-13T21:32:54.165Z"
   },
   {
    "duration": 5,
    "start_time": "2023-05-13T21:32:54.174Z"
   },
   {
    "duration": 6,
    "start_time": "2023-05-13T21:32:54.181Z"
   },
   {
    "duration": 7,
    "start_time": "2023-05-13T21:32:54.188Z"
   },
   {
    "duration": 4,
    "start_time": "2023-05-13T21:32:54.197Z"
   },
   {
    "duration": 125,
    "start_time": "2023-05-13T21:36:35.799Z"
   },
   {
    "duration": 5,
    "start_time": "2023-05-13T21:36:39.799Z"
   },
   {
    "duration": 10,
    "start_time": "2023-05-13T21:36:57.286Z"
   },
   {
    "duration": 7,
    "start_time": "2023-05-13T21:37:06.696Z"
   },
   {
    "duration": 5,
    "start_time": "2023-05-13T21:37:25.785Z"
   },
   {
    "duration": 2013,
    "start_time": "2023-05-14T12:30:55.546Z"
   },
   {
    "duration": 1961,
    "start_time": "2023-05-14T12:30:57.561Z"
   },
   {
    "duration": 76,
    "start_time": "2023-05-14T12:30:59.524Z"
   },
   {
    "duration": 15,
    "start_time": "2023-05-14T12:30:59.601Z"
   },
   {
    "duration": 43,
    "start_time": "2023-05-14T12:30:59.619Z"
   },
   {
    "duration": 17,
    "start_time": "2023-05-14T12:30:59.664Z"
   },
   {
    "duration": 135,
    "start_time": "2023-05-14T12:30:59.682Z"
   },
   {
    "duration": 72,
    "start_time": "2023-05-14T12:30:59.818Z"
   },
   {
    "duration": 226,
    "start_time": "2023-05-14T12:30:59.892Z"
   },
   {
    "duration": 51,
    "start_time": "2023-05-14T12:31:00.120Z"
   },
   {
    "duration": 98,
    "start_time": "2023-05-14T12:31:00.172Z"
   },
   {
    "duration": 84,
    "start_time": "2023-05-14T12:31:00.272Z"
   },
   {
    "duration": 24,
    "start_time": "2023-05-14T12:31:00.358Z"
   },
   {
    "duration": 202,
    "start_time": "2023-05-14T12:31:00.385Z"
   },
   {
    "duration": 21,
    "start_time": "2023-05-14T12:31:00.588Z"
   },
   {
    "duration": 52,
    "start_time": "2023-05-14T12:31:00.611Z"
   },
   {
    "duration": 38,
    "start_time": "2023-05-14T12:31:00.665Z"
   },
   {
    "duration": 59,
    "start_time": "2023-05-14T12:31:00.704Z"
   },
   {
    "duration": 10,
    "start_time": "2023-05-14T12:31:00.765Z"
   },
   {
    "duration": 31,
    "start_time": "2023-05-14T12:31:00.777Z"
   },
   {
    "duration": 56,
    "start_time": "2023-05-14T12:31:00.810Z"
   },
   {
    "duration": 49,
    "start_time": "2023-05-14T12:31:00.868Z"
   },
   {
    "duration": 66,
    "start_time": "2023-05-14T12:31:00.919Z"
   },
   {
    "duration": 3,
    "start_time": "2023-05-14T12:31:00.987Z"
   },
   {
    "duration": 71,
    "start_time": "2023-05-14T12:31:00.992Z"
   },
   {
    "duration": 37,
    "start_time": "2023-05-14T12:31:01.065Z"
   },
   {
    "duration": 36,
    "start_time": "2023-05-14T12:31:01.103Z"
   },
   {
    "duration": 62,
    "start_time": "2023-05-14T12:31:01.141Z"
   },
   {
    "duration": 55,
    "start_time": "2023-05-14T12:31:01.205Z"
   },
   {
    "duration": 47,
    "start_time": "2023-05-14T12:31:01.262Z"
   },
   {
    "duration": 44,
    "start_time": "2023-05-14T12:31:01.311Z"
   },
   {
    "duration": 73,
    "start_time": "2023-05-14T12:31:01.357Z"
   },
   {
    "duration": 39,
    "start_time": "2023-05-14T12:31:01.432Z"
   },
   {
    "duration": 75,
    "start_time": "2023-05-14T12:31:01.473Z"
   },
   {
    "duration": 78,
    "start_time": "2023-05-14T12:31:01.550Z"
   },
   {
    "duration": 66,
    "start_time": "2023-05-14T12:31:01.630Z"
   },
   {
    "duration": 313,
    "start_time": "2023-05-14T12:31:01.698Z"
   },
   {
    "duration": 40,
    "start_time": "2023-05-14T12:31:02.014Z"
   },
   {
    "duration": 448,
    "start_time": "2023-05-14T12:31:02.055Z"
   },
   {
    "duration": 483,
    "start_time": "2023-05-14T12:31:02.506Z"
   },
   {
    "duration": 26,
    "start_time": "2023-05-14T12:31:02.992Z"
   },
   {
    "duration": 37,
    "start_time": "2023-05-14T12:31:03.019Z"
   },
   {
    "duration": 1219,
    "start_time": "2023-05-14T12:31:03.058Z"
   },
   {
    "duration": 19,
    "start_time": "2023-05-14T12:31:04.279Z"
   },
   {
    "duration": 431,
    "start_time": "2023-05-14T12:31:04.300Z"
   },
   {
    "duration": 29,
    "start_time": "2023-05-14T12:31:04.733Z"
   },
   {
    "duration": 588,
    "start_time": "2023-05-14T12:31:04.764Z"
   },
   {
    "duration": 8,
    "start_time": "2023-05-14T12:31:05.354Z"
   },
   {
    "duration": 28,
    "start_time": "2023-05-14T12:31:05.363Z"
   },
   {
    "duration": 53,
    "start_time": "2023-05-14T12:31:05.393Z"
   },
   {
    "duration": 6,
    "start_time": "2023-05-14T12:31:05.448Z"
   },
   {
    "duration": 10,
    "start_time": "2023-05-14T12:31:05.457Z"
   },
   {
    "duration": 23,
    "start_time": "2023-05-14T13:06:05.534Z"
   },
   {
    "duration": 31,
    "start_time": "2023-05-14T13:06:16.400Z"
   }
  ],
  "kernelspec": {
   "display_name": "Python 3 (ipykernel)",
   "language": "python",
   "name": "python3"
  },
  "language_info": {
   "codemirror_mode": {
    "name": "ipython",
    "version": 3
   },
   "file_extension": ".py",
   "mimetype": "text/x-python",
   "name": "python",
   "nbconvert_exporter": "python",
   "pygments_lexer": "ipython3",
   "version": "3.10.9"
  },
  "toc": {
   "base_numbering": 1,
   "nav_menu": {},
   "number_sections": true,
   "sideBar": true,
   "skip_h1_title": true,
   "title_cell": "Table of Contents",
   "title_sidebar": "Contents",
   "toc_cell": false,
   "toc_position": {},
   "toc_section_display": true,
   "toc_window_display": true
  }
 },
 "nbformat": 4,
 "nbformat_minor": 5
}
